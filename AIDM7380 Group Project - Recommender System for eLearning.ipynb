{
 "cells": [
  {
   "cell_type": "markdown",
   "metadata": {},
   "source": [
    "# AIDM7380 Group Project - Recommender System for eLearning"
   ]
  },
  {
   "cell_type": "markdown",
   "metadata": {},
   "source": [
    "# Data Exploration and Analysis"
   ]
  },
  {
   "cell_type": "code",
   "execution_count": 1,
   "metadata": {},
   "outputs": [],
   "source": [
    "import pandas as pd\n",
    "import numpy as np\n",
    "import matplotlib.pyplot as plt\n",
    "import plotly.graph_objs as go"
   ]
  },
  {
   "cell_type": "markdown",
   "metadata": {},
   "source": [
    "## Load dataset"
   ]
  },
  {
   "cell_type": "code",
   "execution_count": 2,
   "metadata": {},
   "outputs": [
    {
     "data": {
      "text/html": [
       "<div>\n",
       "<style scoped>\n",
       "    .dataframe tbody tr th:only-of-type {\n",
       "        vertical-align: middle;\n",
       "    }\n",
       "\n",
       "    .dataframe tbody tr th {\n",
       "        vertical-align: top;\n",
       "    }\n",
       "\n",
       "    .dataframe thead th {\n",
       "        text-align: right;\n",
       "    }\n",
       "</style>\n",
       "<table border=\"1\" class=\"dataframe\">\n",
       "  <thead>\n",
       "    <tr style=\"text-align: right;\">\n",
       "      <th></th>\n",
       "      <th>Date</th>\n",
       "      <th>UserID</th>\n",
       "      <th>CourseID</th>\n",
       "      <th>Event</th>\n",
       "    </tr>\n",
       "  </thead>\n",
       "  <tbody>\n",
       "    <tr>\n",
       "      <th>0</th>\n",
       "      <td>2022-01-10 10:12:35</td>\n",
       "      <td>440</td>\n",
       "      <td>247</td>\n",
       "      <td>view_course</td>\n",
       "    </tr>\n",
       "    <tr>\n",
       "      <th>1</th>\n",
       "      <td>2022-01-10 10:22:28</td>\n",
       "      <td>1186</td>\n",
       "      <td>338</td>\n",
       "      <td>view_course</td>\n",
       "    </tr>\n",
       "    <tr>\n",
       "      <th>2</th>\n",
       "      <td>2022-01-10 10:23:13</td>\n",
       "      <td>1186</td>\n",
       "      <td>338</td>\n",
       "      <td>detailed_description</td>\n",
       "    </tr>\n",
       "    <tr>\n",
       "      <th>3</th>\n",
       "      <td>2022-01-10 10:42:18</td>\n",
       "      <td>703</td>\n",
       "      <td>238</td>\n",
       "      <td>view_course</td>\n",
       "    </tr>\n",
       "    <tr>\n",
       "      <th>4</th>\n",
       "      <td>2022-01-10 10:51:02</td>\n",
       "      <td>225</td>\n",
       "      <td>350</td>\n",
       "      <td>view_course</td>\n",
       "    </tr>\n",
       "    <tr>\n",
       "      <th>...</th>\n",
       "      <td>...</td>\n",
       "      <td>...</td>\n",
       "      <td>...</td>\n",
       "      <td>...</td>\n",
       "    </tr>\n",
       "    <tr>\n",
       "      <th>17360</th>\n",
       "      <td>2022-03-09 15:09:38</td>\n",
       "      <td>1081</td>\n",
       "      <td>245</td>\n",
       "      <td>view_course</td>\n",
       "    </tr>\n",
       "    <tr>\n",
       "      <th>17361</th>\n",
       "      <td>2022-03-09 15:11:02</td>\n",
       "      <td>374</td>\n",
       "      <td>146</td>\n",
       "      <td>detailed_description</td>\n",
       "    </tr>\n",
       "    <tr>\n",
       "      <th>17362</th>\n",
       "      <td>2022-03-09 15:12:03</td>\n",
       "      <td>1081</td>\n",
       "      <td>245</td>\n",
       "      <td>teacher_profile</td>\n",
       "    </tr>\n",
       "    <tr>\n",
       "      <th>17363</th>\n",
       "      <td>2022-03-09 15:20:15</td>\n",
       "      <td>1142</td>\n",
       "      <td>231</td>\n",
       "      <td>view_course</td>\n",
       "    </tr>\n",
       "    <tr>\n",
       "      <th>17364</th>\n",
       "      <td>2022-03-09 15:23:13</td>\n",
       "      <td>1142</td>\n",
       "      <td>231</td>\n",
       "      <td>teacher_profile</td>\n",
       "    </tr>\n",
       "  </tbody>\n",
       "</table>\n",
       "<p>17365 rows × 4 columns</p>\n",
       "</div>"
      ],
      "text/plain": [
       "                      Date  UserID  CourseID                 Event\n",
       "0      2022-01-10 10:12:35     440       247           view_course\n",
       "1      2022-01-10 10:22:28    1186       338           view_course\n",
       "2      2022-01-10 10:23:13    1186       338  detailed_description\n",
       "3      2022-01-10 10:42:18     703       238           view_course\n",
       "4      2022-01-10 10:51:02     225       350           view_course\n",
       "...                    ...     ...       ...                   ...\n",
       "17360  2022-03-09 15:09:38    1081       245           view_course\n",
       "17361  2022-03-09 15:11:02     374       146  detailed_description\n",
       "17362  2022-03-09 15:12:03    1081       245       teacher_profile\n",
       "17363  2022-03-09 15:20:15    1142       231           view_course\n",
       "17364  2022-03-09 15:23:13    1142       231       teacher_profile\n",
       "\n",
       "[17365 rows x 4 columns]"
      ]
     },
     "execution_count": 2,
     "metadata": {},
     "output_type": "execute_result"
    }
   ],
   "source": [
    "elearning = pd.read_csv(\"elearning_dataset1.csv\")\n",
    "elearning"
   ]
  },
  {
   "cell_type": "markdown",
   "metadata": {},
   "source": [
    "## Check the dataset"
   ]
  },
  {
   "cell_type": "code",
   "execution_count": 3,
   "metadata": {},
   "outputs": [
    {
     "name": "stdout",
     "output_type": "stream",
     "text": [
      "There are 1591 unique users, 396 unique content and 5 events in the dataset.\n"
     ]
    }
   ],
   "source": [
    "users = elearning.UserID.unique()\n",
    "content = elearning.CourseID.unique()\n",
    "events = elearning.Event.unique()\n",
    "print(f\"There are {len(users)} unique users, {len(content)} unique content and {len(events)} events in the dataset.\")"
   ]
  },
  {
   "cell_type": "code",
   "execution_count": 4,
   "metadata": {},
   "outputs": [
    {
     "name": "stdout",
     "output_type": "stream",
     "text": [
      "<class 'pandas.core.frame.DataFrame'>\n",
      "RangeIndex: 17365 entries, 0 to 17364\n",
      "Data columns (total 4 columns):\n",
      " #   Column    Non-Null Count  Dtype \n",
      "---  ------    --------------  ----- \n",
      " 0   Date      17365 non-null  object\n",
      " 1   UserID    17365 non-null  int64 \n",
      " 2   CourseID  17365 non-null  int64 \n",
      " 3   Event     17365 non-null  object\n",
      "dtypes: int64(2), object(2)\n",
      "memory usage: 542.8+ KB\n"
     ]
    }
   ],
   "source": [
    "elearning.info()"
   ]
  },
  {
   "cell_type": "code",
   "execution_count": 5,
   "metadata": {},
   "outputs": [
    {
     "data": {
      "text/plain": [
       "array(['view_course', 'detailed_description', 'teacher_profile',\n",
       "       'rundown', 'institution'], dtype=object)"
      ]
     },
     "execution_count": 5,
     "metadata": {},
     "output_type": "execute_result"
    }
   ],
   "source": [
    "elearning.Event.unique()"
   ]
  },
  {
   "cell_type": "code",
   "execution_count": 6,
   "metadata": {},
   "outputs": [
    {
     "data": {
      "text/plain": [
       "count           17365\n",
       "unique              5\n",
       "top       view_course\n",
       "freq             8874\n",
       "Name: Event, dtype: object"
      ]
     },
     "execution_count": 6,
     "metadata": {},
     "output_type": "execute_result"
    }
   ],
   "source": [
    "elearning.Event.describe()"
   ]
  },
  {
   "cell_type": "markdown",
   "metadata": {},
   "source": [
    "There are five different user behaviors in this dataset, \"view_course\", \"detailed_description\", \"teacher_profile\", \"teacher_profile\", \"rundown\", and \"institution\", with the most \"view_course\" 8874 times."
   ]
  },
  {
   "cell_type": "code",
   "execution_count": 7,
   "metadata": {},
   "outputs": [
    {
     "data": {
      "application/vnd.plotly.v1+json": {
       "config": {
        "plotlyServerURL": "https://plot.ly"
       },
       "data": [
        {
         "labels": [
          "view_course",
          "rundown",
          "detailed_description",
          "teacher_profile",
          "institution"
         ],
         "type": "pie",
         "values": [
          8874,
          2677,
          2229,
          1816,
          1769
         ]
        }
       ],
       "layout": {
        "template": {
         "data": {
          "bar": [
           {
            "error_x": {
             "color": "#2a3f5f"
            },
            "error_y": {
             "color": "#2a3f5f"
            },
            "marker": {
             "line": {
              "color": "#E5ECF6",
              "width": 0.5
             },
             "pattern": {
              "fillmode": "overlay",
              "size": 10,
              "solidity": 0.2
             }
            },
            "type": "bar"
           }
          ],
          "barpolar": [
           {
            "marker": {
             "line": {
              "color": "#E5ECF6",
              "width": 0.5
             },
             "pattern": {
              "fillmode": "overlay",
              "size": 10,
              "solidity": 0.2
             }
            },
            "type": "barpolar"
           }
          ],
          "carpet": [
           {
            "aaxis": {
             "endlinecolor": "#2a3f5f",
             "gridcolor": "white",
             "linecolor": "white",
             "minorgridcolor": "white",
             "startlinecolor": "#2a3f5f"
            },
            "baxis": {
             "endlinecolor": "#2a3f5f",
             "gridcolor": "white",
             "linecolor": "white",
             "minorgridcolor": "white",
             "startlinecolor": "#2a3f5f"
            },
            "type": "carpet"
           }
          ],
          "choropleth": [
           {
            "colorbar": {
             "outlinewidth": 0,
             "ticks": ""
            },
            "type": "choropleth"
           }
          ],
          "contour": [
           {
            "colorbar": {
             "outlinewidth": 0,
             "ticks": ""
            },
            "colorscale": [
             [
              0,
              "#0d0887"
             ],
             [
              0.1111111111111111,
              "#46039f"
             ],
             [
              0.2222222222222222,
              "#7201a8"
             ],
             [
              0.3333333333333333,
              "#9c179e"
             ],
             [
              0.4444444444444444,
              "#bd3786"
             ],
             [
              0.5555555555555556,
              "#d8576b"
             ],
             [
              0.6666666666666666,
              "#ed7953"
             ],
             [
              0.7777777777777778,
              "#fb9f3a"
             ],
             [
              0.8888888888888888,
              "#fdca26"
             ],
             [
              1,
              "#f0f921"
             ]
            ],
            "type": "contour"
           }
          ],
          "contourcarpet": [
           {
            "colorbar": {
             "outlinewidth": 0,
             "ticks": ""
            },
            "type": "contourcarpet"
           }
          ],
          "heatmap": [
           {
            "colorbar": {
             "outlinewidth": 0,
             "ticks": ""
            },
            "colorscale": [
             [
              0,
              "#0d0887"
             ],
             [
              0.1111111111111111,
              "#46039f"
             ],
             [
              0.2222222222222222,
              "#7201a8"
             ],
             [
              0.3333333333333333,
              "#9c179e"
             ],
             [
              0.4444444444444444,
              "#bd3786"
             ],
             [
              0.5555555555555556,
              "#d8576b"
             ],
             [
              0.6666666666666666,
              "#ed7953"
             ],
             [
              0.7777777777777778,
              "#fb9f3a"
             ],
             [
              0.8888888888888888,
              "#fdca26"
             ],
             [
              1,
              "#f0f921"
             ]
            ],
            "type": "heatmap"
           }
          ],
          "heatmapgl": [
           {
            "colorbar": {
             "outlinewidth": 0,
             "ticks": ""
            },
            "colorscale": [
             [
              0,
              "#0d0887"
             ],
             [
              0.1111111111111111,
              "#46039f"
             ],
             [
              0.2222222222222222,
              "#7201a8"
             ],
             [
              0.3333333333333333,
              "#9c179e"
             ],
             [
              0.4444444444444444,
              "#bd3786"
             ],
             [
              0.5555555555555556,
              "#d8576b"
             ],
             [
              0.6666666666666666,
              "#ed7953"
             ],
             [
              0.7777777777777778,
              "#fb9f3a"
             ],
             [
              0.8888888888888888,
              "#fdca26"
             ],
             [
              1,
              "#f0f921"
             ]
            ],
            "type": "heatmapgl"
           }
          ],
          "histogram": [
           {
            "marker": {
             "pattern": {
              "fillmode": "overlay",
              "size": 10,
              "solidity": 0.2
             }
            },
            "type": "histogram"
           }
          ],
          "histogram2d": [
           {
            "colorbar": {
             "outlinewidth": 0,
             "ticks": ""
            },
            "colorscale": [
             [
              0,
              "#0d0887"
             ],
             [
              0.1111111111111111,
              "#46039f"
             ],
             [
              0.2222222222222222,
              "#7201a8"
             ],
             [
              0.3333333333333333,
              "#9c179e"
             ],
             [
              0.4444444444444444,
              "#bd3786"
             ],
             [
              0.5555555555555556,
              "#d8576b"
             ],
             [
              0.6666666666666666,
              "#ed7953"
             ],
             [
              0.7777777777777778,
              "#fb9f3a"
             ],
             [
              0.8888888888888888,
              "#fdca26"
             ],
             [
              1,
              "#f0f921"
             ]
            ],
            "type": "histogram2d"
           }
          ],
          "histogram2dcontour": [
           {
            "colorbar": {
             "outlinewidth": 0,
             "ticks": ""
            },
            "colorscale": [
             [
              0,
              "#0d0887"
             ],
             [
              0.1111111111111111,
              "#46039f"
             ],
             [
              0.2222222222222222,
              "#7201a8"
             ],
             [
              0.3333333333333333,
              "#9c179e"
             ],
             [
              0.4444444444444444,
              "#bd3786"
             ],
             [
              0.5555555555555556,
              "#d8576b"
             ],
             [
              0.6666666666666666,
              "#ed7953"
             ],
             [
              0.7777777777777778,
              "#fb9f3a"
             ],
             [
              0.8888888888888888,
              "#fdca26"
             ],
             [
              1,
              "#f0f921"
             ]
            ],
            "type": "histogram2dcontour"
           }
          ],
          "mesh3d": [
           {
            "colorbar": {
             "outlinewidth": 0,
             "ticks": ""
            },
            "type": "mesh3d"
           }
          ],
          "parcoords": [
           {
            "line": {
             "colorbar": {
              "outlinewidth": 0,
              "ticks": ""
             }
            },
            "type": "parcoords"
           }
          ],
          "pie": [
           {
            "automargin": true,
            "type": "pie"
           }
          ],
          "scatter": [
           {
            "fillpattern": {
             "fillmode": "overlay",
             "size": 10,
             "solidity": 0.2
            },
            "type": "scatter"
           }
          ],
          "scatter3d": [
           {
            "line": {
             "colorbar": {
              "outlinewidth": 0,
              "ticks": ""
             }
            },
            "marker": {
             "colorbar": {
              "outlinewidth": 0,
              "ticks": ""
             }
            },
            "type": "scatter3d"
           }
          ],
          "scattercarpet": [
           {
            "marker": {
             "colorbar": {
              "outlinewidth": 0,
              "ticks": ""
             }
            },
            "type": "scattercarpet"
           }
          ],
          "scattergeo": [
           {
            "marker": {
             "colorbar": {
              "outlinewidth": 0,
              "ticks": ""
             }
            },
            "type": "scattergeo"
           }
          ],
          "scattergl": [
           {
            "marker": {
             "colorbar": {
              "outlinewidth": 0,
              "ticks": ""
             }
            },
            "type": "scattergl"
           }
          ],
          "scattermapbox": [
           {
            "marker": {
             "colorbar": {
              "outlinewidth": 0,
              "ticks": ""
             }
            },
            "type": "scattermapbox"
           }
          ],
          "scatterpolar": [
           {
            "marker": {
             "colorbar": {
              "outlinewidth": 0,
              "ticks": ""
             }
            },
            "type": "scatterpolar"
           }
          ],
          "scatterpolargl": [
           {
            "marker": {
             "colorbar": {
              "outlinewidth": 0,
              "ticks": ""
             }
            },
            "type": "scatterpolargl"
           }
          ],
          "scatterternary": [
           {
            "marker": {
             "colorbar": {
              "outlinewidth": 0,
              "ticks": ""
             }
            },
            "type": "scatterternary"
           }
          ],
          "surface": [
           {
            "colorbar": {
             "outlinewidth": 0,
             "ticks": ""
            },
            "colorscale": [
             [
              0,
              "#0d0887"
             ],
             [
              0.1111111111111111,
              "#46039f"
             ],
             [
              0.2222222222222222,
              "#7201a8"
             ],
             [
              0.3333333333333333,
              "#9c179e"
             ],
             [
              0.4444444444444444,
              "#bd3786"
             ],
             [
              0.5555555555555556,
              "#d8576b"
             ],
             [
              0.6666666666666666,
              "#ed7953"
             ],
             [
              0.7777777777777778,
              "#fb9f3a"
             ],
             [
              0.8888888888888888,
              "#fdca26"
             ],
             [
              1,
              "#f0f921"
             ]
            ],
            "type": "surface"
           }
          ],
          "table": [
           {
            "cells": {
             "fill": {
              "color": "#EBF0F8"
             },
             "line": {
              "color": "white"
             }
            },
            "header": {
             "fill": {
              "color": "#C8D4E3"
             },
             "line": {
              "color": "white"
             }
            },
            "type": "table"
           }
          ]
         },
         "layout": {
          "annotationdefaults": {
           "arrowcolor": "#2a3f5f",
           "arrowhead": 0,
           "arrowwidth": 1
          },
          "autotypenumbers": "strict",
          "coloraxis": {
           "colorbar": {
            "outlinewidth": 0,
            "ticks": ""
           }
          },
          "colorscale": {
           "diverging": [
            [
             0,
             "#8e0152"
            ],
            [
             0.1,
             "#c51b7d"
            ],
            [
             0.2,
             "#de77ae"
            ],
            [
             0.3,
             "#f1b6da"
            ],
            [
             0.4,
             "#fde0ef"
            ],
            [
             0.5,
             "#f7f7f7"
            ],
            [
             0.6,
             "#e6f5d0"
            ],
            [
             0.7,
             "#b8e186"
            ],
            [
             0.8,
             "#7fbc41"
            ],
            [
             0.9,
             "#4d9221"
            ],
            [
             1,
             "#276419"
            ]
           ],
           "sequential": [
            [
             0,
             "#0d0887"
            ],
            [
             0.1111111111111111,
             "#46039f"
            ],
            [
             0.2222222222222222,
             "#7201a8"
            ],
            [
             0.3333333333333333,
             "#9c179e"
            ],
            [
             0.4444444444444444,
             "#bd3786"
            ],
            [
             0.5555555555555556,
             "#d8576b"
            ],
            [
             0.6666666666666666,
             "#ed7953"
            ],
            [
             0.7777777777777778,
             "#fb9f3a"
            ],
            [
             0.8888888888888888,
             "#fdca26"
            ],
            [
             1,
             "#f0f921"
            ]
           ],
           "sequentialminus": [
            [
             0,
             "#0d0887"
            ],
            [
             0.1111111111111111,
             "#46039f"
            ],
            [
             0.2222222222222222,
             "#7201a8"
            ],
            [
             0.3333333333333333,
             "#9c179e"
            ],
            [
             0.4444444444444444,
             "#bd3786"
            ],
            [
             0.5555555555555556,
             "#d8576b"
            ],
            [
             0.6666666666666666,
             "#ed7953"
            ],
            [
             0.7777777777777778,
             "#fb9f3a"
            ],
            [
             0.8888888888888888,
             "#fdca26"
            ],
            [
             1,
             "#f0f921"
            ]
           ]
          },
          "colorway": [
           "#636efa",
           "#EF553B",
           "#00cc96",
           "#ab63fa",
           "#FFA15A",
           "#19d3f3",
           "#FF6692",
           "#B6E880",
           "#FF97FF",
           "#FECB52"
          ],
          "font": {
           "color": "#2a3f5f"
          },
          "geo": {
           "bgcolor": "white",
           "lakecolor": "white",
           "landcolor": "#E5ECF6",
           "showlakes": true,
           "showland": true,
           "subunitcolor": "white"
          },
          "hoverlabel": {
           "align": "left"
          },
          "hovermode": "closest",
          "mapbox": {
           "style": "light"
          },
          "paper_bgcolor": "white",
          "plot_bgcolor": "#E5ECF6",
          "polar": {
           "angularaxis": {
            "gridcolor": "white",
            "linecolor": "white",
            "ticks": ""
           },
           "bgcolor": "#E5ECF6",
           "radialaxis": {
            "gridcolor": "white",
            "linecolor": "white",
            "ticks": ""
           }
          },
          "scene": {
           "xaxis": {
            "backgroundcolor": "#E5ECF6",
            "gridcolor": "white",
            "gridwidth": 2,
            "linecolor": "white",
            "showbackground": true,
            "ticks": "",
            "zerolinecolor": "white"
           },
           "yaxis": {
            "backgroundcolor": "#E5ECF6",
            "gridcolor": "white",
            "gridwidth": 2,
            "linecolor": "white",
            "showbackground": true,
            "ticks": "",
            "zerolinecolor": "white"
           },
           "zaxis": {
            "backgroundcolor": "#E5ECF6",
            "gridcolor": "white",
            "gridwidth": 2,
            "linecolor": "white",
            "showbackground": true,
            "ticks": "",
            "zerolinecolor": "white"
           }
          },
          "shapedefaults": {
           "line": {
            "color": "#2a3f5f"
           }
          },
          "ternary": {
           "aaxis": {
            "gridcolor": "white",
            "linecolor": "white",
            "ticks": ""
           },
           "baxis": {
            "gridcolor": "white",
            "linecolor": "white",
            "ticks": ""
           },
           "bgcolor": "#E5ECF6",
           "caxis": {
            "gridcolor": "white",
            "linecolor": "white",
            "ticks": ""
           }
          },
          "title": {
           "x": 0.05
          },
          "xaxis": {
           "automargin": true,
           "gridcolor": "white",
           "linecolor": "white",
           "ticks": "",
           "title": {
            "standoff": 15
           },
           "zerolinecolor": "white",
           "zerolinewidth": 2
          },
          "yaxis": {
           "automargin": true,
           "gridcolor": "white",
           "linecolor": "white",
           "ticks": "",
           "title": {
            "standoff": 15
           },
           "zerolinecolor": "white",
           "zerolinewidth": 2
          }
         }
        },
        "title": {
         "text": "Event Counts by Behavior"
        }
       }
      }
     },
     "metadata": {},
     "output_type": "display_data"
    }
   ],
   "source": [
    "# Calculate the count of each behavior using value_counts\n",
    "behavior_counts = elearning['Event'].value_counts()\n",
    "\n",
    "# Create pie chart data\n",
    "data = go.Pie(labels=behavior_counts.index, values=behavior_counts.values)\n",
    "\n",
    "# Create layout\n",
    "layout = go.Layout(title='Event Counts by Behavior')\n",
    "\n",
    "# Create the chart\n",
    "fig = go.Figure(data=data, layout=layout)\n",
    "\n",
    "# Show the chart\n",
    "fig.show()"
   ]
  },
  {
   "cell_type": "markdown",
   "metadata": {},
   "source": [
    "\"view_course\" accounted for 51.1% of all user behaviors, followed by \"rundown\" at 15.4%."
   ]
  },
  {
   "cell_type": "code",
   "execution_count": 8,
   "metadata": {},
   "outputs": [
    {
     "name": "stdout",
     "output_type": "stream",
     "text": [
      "CourseID with the most events: 202\n",
      "Event count: 101\n"
     ]
    }
   ],
   "source": [
    "# Calculate the count of events for each CourseID using value_counts\n",
    "course_event_counts = elearning['CourseID'].value_counts()\n",
    "\n",
    "# Find the CourseID with the most events and its corresponding event count\n",
    "most_event_course_id = course_event_counts.idxmax()\n",
    "most_event_count = course_event_counts.max()\n",
    "\n",
    "# Display the results\n",
    "print(f\"CourseID with the most events: {most_event_course_id}\")\n",
    "print(f\"Event count: {most_event_count}\")"
   ]
  },
  {
   "cell_type": "code",
   "execution_count": 9,
   "metadata": {},
   "outputs": [
    {
     "data": {
      "application/vnd.plotly.v1+json": {
       "config": {
        "plotlyServerURL": "https://plot.ly"
       },
       "data": [
        {
         "cells": {
          "values": [
           [
            202,
            253,
            357,
            323,
            161,
            247,
            139,
            176,
            153,
            29,
            124,
            279,
            198,
            281,
            171,
            160,
            256,
            342,
            363,
            120,
            197,
            162,
            204,
            54,
            195,
            109,
            45,
            86,
            122,
            385,
            338,
            37,
            368,
            205,
            192,
            61,
            376,
            30,
            223,
            393,
            164,
            379,
            126,
            135,
            189,
            173,
            335,
            275,
            152,
            42,
            142,
            10,
            106,
            117,
            216,
            271,
            26,
            145,
            370,
            101,
            148,
            46,
            395,
            43,
            231,
            96,
            267,
            392,
            103,
            343,
            98,
            49,
            234,
            241,
            326,
            230,
            344,
            90,
            282,
            381,
            193,
            276,
            154,
            289,
            131,
            84,
            85,
            359,
            339,
            314,
            227,
            77,
            235,
            33,
            264,
            287,
            248,
            32,
            21,
            87,
            40,
            203,
            127,
            4,
            183,
            224,
            346,
            295,
            390,
            217,
            374,
            300,
            371,
            31,
            389,
            3,
            305,
            5,
            0,
            302,
            74,
            108,
            396,
            280,
            169,
            362,
            350,
            12,
            332,
            181,
            261,
            262,
            80,
            340,
            34,
            347,
            88,
            312,
            337,
            319,
            233,
            364,
            78,
            138,
            320,
            313,
            79,
            116,
            9,
            70,
            269,
            58,
            81,
            201,
            156,
            215,
            14,
            252,
            283,
            285,
            219,
            315,
            304,
            53,
            212,
            299,
            194,
            125,
            292,
            352,
            288,
            394,
            293,
            255,
            384,
            41,
            104,
            65,
            69,
            372,
            258,
            146,
            19,
            294,
            55,
            158,
            170,
            388,
            354,
            168,
            11,
            266,
            190,
            6,
            311,
            1,
            39,
            209,
            356,
            185,
            334,
            369,
            62,
            51,
            107,
            143,
            172,
            56,
            278,
            353,
            383,
            121,
            272,
            228,
            244,
            182,
            257,
            229,
            286,
            123,
            218,
            141,
            360,
            71,
            147,
            157,
            68,
            211,
            52,
            303,
            167,
            114,
            284,
            351,
            140,
            91,
            163,
            361,
            22,
            15,
            349,
            382,
            35,
            375,
            273,
            324,
            102,
            134,
            133,
            17,
            110,
            36,
            250,
            290,
            57,
            48,
            174,
            221,
            322,
            239,
            196,
            238,
            93,
            327,
            398,
            301,
            95,
            177,
            246,
            132,
            377,
            208,
            112,
            136,
            291,
            220,
            180,
            366,
            225,
            263,
            7,
            44,
            178,
            82,
            348,
            92,
            325,
            150,
            274,
            260,
            59,
            130,
            391,
            307,
            23,
            237,
            249,
            75,
            97,
            214,
            38,
            28,
            355,
            155,
            298,
            317,
            99,
            207,
            20,
            60,
            310,
            72,
            105,
            64,
            63,
            336,
            236,
            242,
            100,
            165,
            333,
            245,
            118,
            111,
            94,
            397,
            328,
            149,
            76,
            144,
            137,
            13,
            128,
            387,
            358,
            2,
            365,
            277,
            200,
            113,
            243,
            380,
            66,
            296,
            24,
            265,
            119,
            184,
            186,
            47,
            226,
            309,
            206,
            308,
            27,
            378,
            16,
            151,
            254,
            18,
            321,
            373,
            210,
            25,
            386,
            159,
            268,
            166,
            232,
            187,
            240,
            399,
            8,
            297,
            129,
            175,
            89,
            191,
            331,
            345,
            179,
            259,
            115,
            83,
            329,
            270,
            341,
            213,
            316,
            188,
            67,
            199,
            73,
            306,
            318,
            50
           ],
           [
            101,
            88,
            88,
            86,
            85,
            84,
            84,
            83,
            83,
            82,
            81,
            80,
            80,
            80,
            79,
            78,
            78,
            78,
            78,
            78,
            78,
            76,
            76,
            75,
            75,
            75,
            74,
            74,
            74,
            74,
            72,
            72,
            71,
            71,
            71,
            71,
            71,
            70,
            70,
            69,
            69,
            69,
            68,
            68,
            68,
            67,
            67,
            67,
            67,
            67,
            66,
            66,
            66,
            66,
            65,
            65,
            65,
            65,
            65,
            65,
            64,
            64,
            64,
            63,
            63,
            63,
            63,
            63,
            63,
            61,
            61,
            61,
            61,
            61,
            61,
            60,
            60,
            60,
            60,
            60,
            60,
            60,
            60,
            59,
            59,
            59,
            59,
            59,
            59,
            59,
            59,
            58,
            58,
            57,
            57,
            57,
            57,
            57,
            56,
            56,
            56,
            56,
            56,
            55,
            55,
            55,
            55,
            55,
            54,
            54,
            54,
            54,
            54,
            53,
            53,
            53,
            53,
            53,
            53,
            53,
            52,
            52,
            52,
            52,
            52,
            52,
            52,
            52,
            52,
            52,
            52,
            51,
            51,
            51,
            51,
            51,
            51,
            51,
            51,
            50,
            50,
            50,
            50,
            50,
            50,
            50,
            49,
            49,
            49,
            49,
            49,
            49,
            49,
            48,
            48,
            48,
            48,
            48,
            48,
            48,
            48,
            48,
            48,
            48,
            48,
            47,
            47,
            47,
            47,
            47,
            47,
            47,
            46,
            46,
            46,
            46,
            46,
            46,
            46,
            45,
            45,
            45,
            45,
            45,
            44,
            44,
            44,
            44,
            44,
            43,
            43,
            43,
            43,
            43,
            43,
            43,
            43,
            43,
            42,
            42,
            42,
            42,
            42,
            42,
            42,
            42,
            42,
            42,
            42,
            41,
            41,
            41,
            41,
            41,
            41,
            40,
            40,
            40,
            40,
            40,
            40,
            40,
            40,
            40,
            40,
            40,
            39,
            39,
            39,
            39,
            39,
            39,
            39,
            39,
            38,
            38,
            38,
            38,
            38,
            38,
            38,
            37,
            37,
            37,
            37,
            37,
            37,
            36,
            36,
            36,
            36,
            36,
            36,
            36,
            36,
            36,
            36,
            35,
            35,
            35,
            35,
            35,
            35,
            35,
            34,
            34,
            34,
            34,
            34,
            34,
            34,
            34,
            34,
            34,
            34,
            34,
            34,
            33,
            33,
            33,
            33,
            33,
            33,
            33,
            33,
            32,
            32,
            32,
            31,
            31,
            31,
            31,
            31,
            31,
            31,
            31,
            31,
            31,
            30,
            30,
            30,
            29,
            29,
            29,
            29,
            29,
            29,
            29,
            29,
            29,
            29,
            28,
            28,
            28,
            28,
            28,
            28,
            28,
            28,
            28,
            27,
            27,
            27,
            27,
            27,
            27,
            27,
            26,
            26,
            26,
            26,
            26,
            26,
            24,
            24,
            24,
            24,
            24,
            24,
            24,
            23,
            23,
            22,
            22,
            22,
            22,
            22,
            22,
            22,
            22,
            22,
            21,
            21,
            21,
            21,
            21,
            21,
            21,
            21,
            20,
            20,
            20,
            19,
            19,
            18,
            18,
            18,
            18,
            17,
            17,
            17,
            17,
            16,
            16,
            16,
            16,
            15,
            14,
            14,
            14,
            13,
            13,
            12,
            12,
            12,
            11,
            9,
            8,
            8,
            6,
            4,
            4,
            3,
            3,
            3,
            2
           ]
          ]
         },
         "header": {
          "values": [
           "CourseID",
           "Event Counts"
          ]
         },
         "type": "table"
        }
       ],
       "layout": {
        "template": {
         "data": {
          "bar": [
           {
            "error_x": {
             "color": "#2a3f5f"
            },
            "error_y": {
             "color": "#2a3f5f"
            },
            "marker": {
             "line": {
              "color": "#E5ECF6",
              "width": 0.5
             },
             "pattern": {
              "fillmode": "overlay",
              "size": 10,
              "solidity": 0.2
             }
            },
            "type": "bar"
           }
          ],
          "barpolar": [
           {
            "marker": {
             "line": {
              "color": "#E5ECF6",
              "width": 0.5
             },
             "pattern": {
              "fillmode": "overlay",
              "size": 10,
              "solidity": 0.2
             }
            },
            "type": "barpolar"
           }
          ],
          "carpet": [
           {
            "aaxis": {
             "endlinecolor": "#2a3f5f",
             "gridcolor": "white",
             "linecolor": "white",
             "minorgridcolor": "white",
             "startlinecolor": "#2a3f5f"
            },
            "baxis": {
             "endlinecolor": "#2a3f5f",
             "gridcolor": "white",
             "linecolor": "white",
             "minorgridcolor": "white",
             "startlinecolor": "#2a3f5f"
            },
            "type": "carpet"
           }
          ],
          "choropleth": [
           {
            "colorbar": {
             "outlinewidth": 0,
             "ticks": ""
            },
            "type": "choropleth"
           }
          ],
          "contour": [
           {
            "colorbar": {
             "outlinewidth": 0,
             "ticks": ""
            },
            "colorscale": [
             [
              0,
              "#0d0887"
             ],
             [
              0.1111111111111111,
              "#46039f"
             ],
             [
              0.2222222222222222,
              "#7201a8"
             ],
             [
              0.3333333333333333,
              "#9c179e"
             ],
             [
              0.4444444444444444,
              "#bd3786"
             ],
             [
              0.5555555555555556,
              "#d8576b"
             ],
             [
              0.6666666666666666,
              "#ed7953"
             ],
             [
              0.7777777777777778,
              "#fb9f3a"
             ],
             [
              0.8888888888888888,
              "#fdca26"
             ],
             [
              1,
              "#f0f921"
             ]
            ],
            "type": "contour"
           }
          ],
          "contourcarpet": [
           {
            "colorbar": {
             "outlinewidth": 0,
             "ticks": ""
            },
            "type": "contourcarpet"
           }
          ],
          "heatmap": [
           {
            "colorbar": {
             "outlinewidth": 0,
             "ticks": ""
            },
            "colorscale": [
             [
              0,
              "#0d0887"
             ],
             [
              0.1111111111111111,
              "#46039f"
             ],
             [
              0.2222222222222222,
              "#7201a8"
             ],
             [
              0.3333333333333333,
              "#9c179e"
             ],
             [
              0.4444444444444444,
              "#bd3786"
             ],
             [
              0.5555555555555556,
              "#d8576b"
             ],
             [
              0.6666666666666666,
              "#ed7953"
             ],
             [
              0.7777777777777778,
              "#fb9f3a"
             ],
             [
              0.8888888888888888,
              "#fdca26"
             ],
             [
              1,
              "#f0f921"
             ]
            ],
            "type": "heatmap"
           }
          ],
          "heatmapgl": [
           {
            "colorbar": {
             "outlinewidth": 0,
             "ticks": ""
            },
            "colorscale": [
             [
              0,
              "#0d0887"
             ],
             [
              0.1111111111111111,
              "#46039f"
             ],
             [
              0.2222222222222222,
              "#7201a8"
             ],
             [
              0.3333333333333333,
              "#9c179e"
             ],
             [
              0.4444444444444444,
              "#bd3786"
             ],
             [
              0.5555555555555556,
              "#d8576b"
             ],
             [
              0.6666666666666666,
              "#ed7953"
             ],
             [
              0.7777777777777778,
              "#fb9f3a"
             ],
             [
              0.8888888888888888,
              "#fdca26"
             ],
             [
              1,
              "#f0f921"
             ]
            ],
            "type": "heatmapgl"
           }
          ],
          "histogram": [
           {
            "marker": {
             "pattern": {
              "fillmode": "overlay",
              "size": 10,
              "solidity": 0.2
             }
            },
            "type": "histogram"
           }
          ],
          "histogram2d": [
           {
            "colorbar": {
             "outlinewidth": 0,
             "ticks": ""
            },
            "colorscale": [
             [
              0,
              "#0d0887"
             ],
             [
              0.1111111111111111,
              "#46039f"
             ],
             [
              0.2222222222222222,
              "#7201a8"
             ],
             [
              0.3333333333333333,
              "#9c179e"
             ],
             [
              0.4444444444444444,
              "#bd3786"
             ],
             [
              0.5555555555555556,
              "#d8576b"
             ],
             [
              0.6666666666666666,
              "#ed7953"
             ],
             [
              0.7777777777777778,
              "#fb9f3a"
             ],
             [
              0.8888888888888888,
              "#fdca26"
             ],
             [
              1,
              "#f0f921"
             ]
            ],
            "type": "histogram2d"
           }
          ],
          "histogram2dcontour": [
           {
            "colorbar": {
             "outlinewidth": 0,
             "ticks": ""
            },
            "colorscale": [
             [
              0,
              "#0d0887"
             ],
             [
              0.1111111111111111,
              "#46039f"
             ],
             [
              0.2222222222222222,
              "#7201a8"
             ],
             [
              0.3333333333333333,
              "#9c179e"
             ],
             [
              0.4444444444444444,
              "#bd3786"
             ],
             [
              0.5555555555555556,
              "#d8576b"
             ],
             [
              0.6666666666666666,
              "#ed7953"
             ],
             [
              0.7777777777777778,
              "#fb9f3a"
             ],
             [
              0.8888888888888888,
              "#fdca26"
             ],
             [
              1,
              "#f0f921"
             ]
            ],
            "type": "histogram2dcontour"
           }
          ],
          "mesh3d": [
           {
            "colorbar": {
             "outlinewidth": 0,
             "ticks": ""
            },
            "type": "mesh3d"
           }
          ],
          "parcoords": [
           {
            "line": {
             "colorbar": {
              "outlinewidth": 0,
              "ticks": ""
             }
            },
            "type": "parcoords"
           }
          ],
          "pie": [
           {
            "automargin": true,
            "type": "pie"
           }
          ],
          "scatter": [
           {
            "fillpattern": {
             "fillmode": "overlay",
             "size": 10,
             "solidity": 0.2
            },
            "type": "scatter"
           }
          ],
          "scatter3d": [
           {
            "line": {
             "colorbar": {
              "outlinewidth": 0,
              "ticks": ""
             }
            },
            "marker": {
             "colorbar": {
              "outlinewidth": 0,
              "ticks": ""
             }
            },
            "type": "scatter3d"
           }
          ],
          "scattercarpet": [
           {
            "marker": {
             "colorbar": {
              "outlinewidth": 0,
              "ticks": ""
             }
            },
            "type": "scattercarpet"
           }
          ],
          "scattergeo": [
           {
            "marker": {
             "colorbar": {
              "outlinewidth": 0,
              "ticks": ""
             }
            },
            "type": "scattergeo"
           }
          ],
          "scattergl": [
           {
            "marker": {
             "colorbar": {
              "outlinewidth": 0,
              "ticks": ""
             }
            },
            "type": "scattergl"
           }
          ],
          "scattermapbox": [
           {
            "marker": {
             "colorbar": {
              "outlinewidth": 0,
              "ticks": ""
             }
            },
            "type": "scattermapbox"
           }
          ],
          "scatterpolar": [
           {
            "marker": {
             "colorbar": {
              "outlinewidth": 0,
              "ticks": ""
             }
            },
            "type": "scatterpolar"
           }
          ],
          "scatterpolargl": [
           {
            "marker": {
             "colorbar": {
              "outlinewidth": 0,
              "ticks": ""
             }
            },
            "type": "scatterpolargl"
           }
          ],
          "scatterternary": [
           {
            "marker": {
             "colorbar": {
              "outlinewidth": 0,
              "ticks": ""
             }
            },
            "type": "scatterternary"
           }
          ],
          "surface": [
           {
            "colorbar": {
             "outlinewidth": 0,
             "ticks": ""
            },
            "colorscale": [
             [
              0,
              "#0d0887"
             ],
             [
              0.1111111111111111,
              "#46039f"
             ],
             [
              0.2222222222222222,
              "#7201a8"
             ],
             [
              0.3333333333333333,
              "#9c179e"
             ],
             [
              0.4444444444444444,
              "#bd3786"
             ],
             [
              0.5555555555555556,
              "#d8576b"
             ],
             [
              0.6666666666666666,
              "#ed7953"
             ],
             [
              0.7777777777777778,
              "#fb9f3a"
             ],
             [
              0.8888888888888888,
              "#fdca26"
             ],
             [
              1,
              "#f0f921"
             ]
            ],
            "type": "surface"
           }
          ],
          "table": [
           {
            "cells": {
             "fill": {
              "color": "#EBF0F8"
             },
             "line": {
              "color": "white"
             }
            },
            "header": {
             "fill": {
              "color": "#C8D4E3"
             },
             "line": {
              "color": "white"
             }
            },
            "type": "table"
           }
          ]
         },
         "layout": {
          "annotationdefaults": {
           "arrowcolor": "#2a3f5f",
           "arrowhead": 0,
           "arrowwidth": 1
          },
          "autotypenumbers": "strict",
          "coloraxis": {
           "colorbar": {
            "outlinewidth": 0,
            "ticks": ""
           }
          },
          "colorscale": {
           "diverging": [
            [
             0,
             "#8e0152"
            ],
            [
             0.1,
             "#c51b7d"
            ],
            [
             0.2,
             "#de77ae"
            ],
            [
             0.3,
             "#f1b6da"
            ],
            [
             0.4,
             "#fde0ef"
            ],
            [
             0.5,
             "#f7f7f7"
            ],
            [
             0.6,
             "#e6f5d0"
            ],
            [
             0.7,
             "#b8e186"
            ],
            [
             0.8,
             "#7fbc41"
            ],
            [
             0.9,
             "#4d9221"
            ],
            [
             1,
             "#276419"
            ]
           ],
           "sequential": [
            [
             0,
             "#0d0887"
            ],
            [
             0.1111111111111111,
             "#46039f"
            ],
            [
             0.2222222222222222,
             "#7201a8"
            ],
            [
             0.3333333333333333,
             "#9c179e"
            ],
            [
             0.4444444444444444,
             "#bd3786"
            ],
            [
             0.5555555555555556,
             "#d8576b"
            ],
            [
             0.6666666666666666,
             "#ed7953"
            ],
            [
             0.7777777777777778,
             "#fb9f3a"
            ],
            [
             0.8888888888888888,
             "#fdca26"
            ],
            [
             1,
             "#f0f921"
            ]
           ],
           "sequentialminus": [
            [
             0,
             "#0d0887"
            ],
            [
             0.1111111111111111,
             "#46039f"
            ],
            [
             0.2222222222222222,
             "#7201a8"
            ],
            [
             0.3333333333333333,
             "#9c179e"
            ],
            [
             0.4444444444444444,
             "#bd3786"
            ],
            [
             0.5555555555555556,
             "#d8576b"
            ],
            [
             0.6666666666666666,
             "#ed7953"
            ],
            [
             0.7777777777777778,
             "#fb9f3a"
            ],
            [
             0.8888888888888888,
             "#fdca26"
            ],
            [
             1,
             "#f0f921"
            ]
           ]
          },
          "colorway": [
           "#636efa",
           "#EF553B",
           "#00cc96",
           "#ab63fa",
           "#FFA15A",
           "#19d3f3",
           "#FF6692",
           "#B6E880",
           "#FF97FF",
           "#FECB52"
          ],
          "font": {
           "color": "#2a3f5f"
          },
          "geo": {
           "bgcolor": "white",
           "lakecolor": "white",
           "landcolor": "#E5ECF6",
           "showlakes": true,
           "showland": true,
           "subunitcolor": "white"
          },
          "hoverlabel": {
           "align": "left"
          },
          "hovermode": "closest",
          "mapbox": {
           "style": "light"
          },
          "paper_bgcolor": "white",
          "plot_bgcolor": "#E5ECF6",
          "polar": {
           "angularaxis": {
            "gridcolor": "white",
            "linecolor": "white",
            "ticks": ""
           },
           "bgcolor": "#E5ECF6",
           "radialaxis": {
            "gridcolor": "white",
            "linecolor": "white",
            "ticks": ""
           }
          },
          "scene": {
           "xaxis": {
            "backgroundcolor": "#E5ECF6",
            "gridcolor": "white",
            "gridwidth": 2,
            "linecolor": "white",
            "showbackground": true,
            "ticks": "",
            "zerolinecolor": "white"
           },
           "yaxis": {
            "backgroundcolor": "#E5ECF6",
            "gridcolor": "white",
            "gridwidth": 2,
            "linecolor": "white",
            "showbackground": true,
            "ticks": "",
            "zerolinecolor": "white"
           },
           "zaxis": {
            "backgroundcolor": "#E5ECF6",
            "gridcolor": "white",
            "gridwidth": 2,
            "linecolor": "white",
            "showbackground": true,
            "ticks": "",
            "zerolinecolor": "white"
           }
          },
          "shapedefaults": {
           "line": {
            "color": "#2a3f5f"
           }
          },
          "ternary": {
           "aaxis": {
            "gridcolor": "white",
            "linecolor": "white",
            "ticks": ""
           },
           "baxis": {
            "gridcolor": "white",
            "linecolor": "white",
            "ticks": ""
           },
           "bgcolor": "#E5ECF6",
           "caxis": {
            "gridcolor": "white",
            "linecolor": "white",
            "ticks": ""
           }
          },
          "title": {
           "x": 0.05
          },
          "xaxis": {
           "automargin": true,
           "gridcolor": "white",
           "linecolor": "white",
           "ticks": "",
           "title": {
            "standoff": 15
           },
           "zerolinecolor": "white",
           "zerolinewidth": 2
          },
          "yaxis": {
           "automargin": true,
           "gridcolor": "white",
           "linecolor": "white",
           "ticks": "",
           "title": {
            "standoff": 15
           },
           "zerolinecolor": "white",
           "zerolinewidth": 2
          }
         }
        },
        "title": {
         "text": "CourseID Counts"
        }
       }
      }
     },
     "metadata": {},
     "output_type": "display_data"
    }
   ],
   "source": [
    "# Calculate the count of each CourseID using value_counts\n",
    "course_counts = elearning['CourseID'].value_counts()\n",
    "\n",
    "# Create table data\n",
    "data = go.Table(\n",
    "    header=dict(values=['CourseID', 'Event Counts']),\n",
    "    cells=dict(values=[course_counts.index, course_counts.values])\n",
    ")\n",
    "\n",
    "# Create layout\n",
    "layout = go.Layout(title='CourseID Counts')\n",
    "\n",
    "# Create the chart\n",
    "fig = go.Figure(data=data, layout=layout)\n",
    "\n",
    "# Show the chart\n",
    "fig.show()"
   ]
  },
  {
   "cell_type": "markdown",
   "metadata": {},
   "source": [
    "The top 10 courses have user behaviors that all exceed 80 times, with the course id with the highest number of behaviors being 202."
   ]
  },
  {
   "cell_type": "code",
   "execution_count": 10,
   "metadata": {},
   "outputs": [
    {
     "data": {
      "application/vnd.plotly.v1+json": {
       "config": {
        "plotlyServerURL": "https://plot.ly"
       },
       "data": [
        {
         "cells": {
          "values": [
           [
            357,
            202,
            253,
            247,
            342,
            139,
            153,
            160,
            29,
            323
           ],
           [
            48,
            47,
            46,
            45,
            44,
            43,
            43,
            43,
            42,
            42
           ]
          ]
         },
         "header": {
          "values": [
           "Course ID",
           "Number of Views"
          ]
         },
         "type": "table"
        }
       ],
       "layout": {
        "template": {
         "data": {
          "bar": [
           {
            "error_x": {
             "color": "#2a3f5f"
            },
            "error_y": {
             "color": "#2a3f5f"
            },
            "marker": {
             "line": {
              "color": "#E5ECF6",
              "width": 0.5
             },
             "pattern": {
              "fillmode": "overlay",
              "size": 10,
              "solidity": 0.2
             }
            },
            "type": "bar"
           }
          ],
          "barpolar": [
           {
            "marker": {
             "line": {
              "color": "#E5ECF6",
              "width": 0.5
             },
             "pattern": {
              "fillmode": "overlay",
              "size": 10,
              "solidity": 0.2
             }
            },
            "type": "barpolar"
           }
          ],
          "carpet": [
           {
            "aaxis": {
             "endlinecolor": "#2a3f5f",
             "gridcolor": "white",
             "linecolor": "white",
             "minorgridcolor": "white",
             "startlinecolor": "#2a3f5f"
            },
            "baxis": {
             "endlinecolor": "#2a3f5f",
             "gridcolor": "white",
             "linecolor": "white",
             "minorgridcolor": "white",
             "startlinecolor": "#2a3f5f"
            },
            "type": "carpet"
           }
          ],
          "choropleth": [
           {
            "colorbar": {
             "outlinewidth": 0,
             "ticks": ""
            },
            "type": "choropleth"
           }
          ],
          "contour": [
           {
            "colorbar": {
             "outlinewidth": 0,
             "ticks": ""
            },
            "colorscale": [
             [
              0,
              "#0d0887"
             ],
             [
              0.1111111111111111,
              "#46039f"
             ],
             [
              0.2222222222222222,
              "#7201a8"
             ],
             [
              0.3333333333333333,
              "#9c179e"
             ],
             [
              0.4444444444444444,
              "#bd3786"
             ],
             [
              0.5555555555555556,
              "#d8576b"
             ],
             [
              0.6666666666666666,
              "#ed7953"
             ],
             [
              0.7777777777777778,
              "#fb9f3a"
             ],
             [
              0.8888888888888888,
              "#fdca26"
             ],
             [
              1,
              "#f0f921"
             ]
            ],
            "type": "contour"
           }
          ],
          "contourcarpet": [
           {
            "colorbar": {
             "outlinewidth": 0,
             "ticks": ""
            },
            "type": "contourcarpet"
           }
          ],
          "heatmap": [
           {
            "colorbar": {
             "outlinewidth": 0,
             "ticks": ""
            },
            "colorscale": [
             [
              0,
              "#0d0887"
             ],
             [
              0.1111111111111111,
              "#46039f"
             ],
             [
              0.2222222222222222,
              "#7201a8"
             ],
             [
              0.3333333333333333,
              "#9c179e"
             ],
             [
              0.4444444444444444,
              "#bd3786"
             ],
             [
              0.5555555555555556,
              "#d8576b"
             ],
             [
              0.6666666666666666,
              "#ed7953"
             ],
             [
              0.7777777777777778,
              "#fb9f3a"
             ],
             [
              0.8888888888888888,
              "#fdca26"
             ],
             [
              1,
              "#f0f921"
             ]
            ],
            "type": "heatmap"
           }
          ],
          "heatmapgl": [
           {
            "colorbar": {
             "outlinewidth": 0,
             "ticks": ""
            },
            "colorscale": [
             [
              0,
              "#0d0887"
             ],
             [
              0.1111111111111111,
              "#46039f"
             ],
             [
              0.2222222222222222,
              "#7201a8"
             ],
             [
              0.3333333333333333,
              "#9c179e"
             ],
             [
              0.4444444444444444,
              "#bd3786"
             ],
             [
              0.5555555555555556,
              "#d8576b"
             ],
             [
              0.6666666666666666,
              "#ed7953"
             ],
             [
              0.7777777777777778,
              "#fb9f3a"
             ],
             [
              0.8888888888888888,
              "#fdca26"
             ],
             [
              1,
              "#f0f921"
             ]
            ],
            "type": "heatmapgl"
           }
          ],
          "histogram": [
           {
            "marker": {
             "pattern": {
              "fillmode": "overlay",
              "size": 10,
              "solidity": 0.2
             }
            },
            "type": "histogram"
           }
          ],
          "histogram2d": [
           {
            "colorbar": {
             "outlinewidth": 0,
             "ticks": ""
            },
            "colorscale": [
             [
              0,
              "#0d0887"
             ],
             [
              0.1111111111111111,
              "#46039f"
             ],
             [
              0.2222222222222222,
              "#7201a8"
             ],
             [
              0.3333333333333333,
              "#9c179e"
             ],
             [
              0.4444444444444444,
              "#bd3786"
             ],
             [
              0.5555555555555556,
              "#d8576b"
             ],
             [
              0.6666666666666666,
              "#ed7953"
             ],
             [
              0.7777777777777778,
              "#fb9f3a"
             ],
             [
              0.8888888888888888,
              "#fdca26"
             ],
             [
              1,
              "#f0f921"
             ]
            ],
            "type": "histogram2d"
           }
          ],
          "histogram2dcontour": [
           {
            "colorbar": {
             "outlinewidth": 0,
             "ticks": ""
            },
            "colorscale": [
             [
              0,
              "#0d0887"
             ],
             [
              0.1111111111111111,
              "#46039f"
             ],
             [
              0.2222222222222222,
              "#7201a8"
             ],
             [
              0.3333333333333333,
              "#9c179e"
             ],
             [
              0.4444444444444444,
              "#bd3786"
             ],
             [
              0.5555555555555556,
              "#d8576b"
             ],
             [
              0.6666666666666666,
              "#ed7953"
             ],
             [
              0.7777777777777778,
              "#fb9f3a"
             ],
             [
              0.8888888888888888,
              "#fdca26"
             ],
             [
              1,
              "#f0f921"
             ]
            ],
            "type": "histogram2dcontour"
           }
          ],
          "mesh3d": [
           {
            "colorbar": {
             "outlinewidth": 0,
             "ticks": ""
            },
            "type": "mesh3d"
           }
          ],
          "parcoords": [
           {
            "line": {
             "colorbar": {
              "outlinewidth": 0,
              "ticks": ""
             }
            },
            "type": "parcoords"
           }
          ],
          "pie": [
           {
            "automargin": true,
            "type": "pie"
           }
          ],
          "scatter": [
           {
            "fillpattern": {
             "fillmode": "overlay",
             "size": 10,
             "solidity": 0.2
            },
            "type": "scatter"
           }
          ],
          "scatter3d": [
           {
            "line": {
             "colorbar": {
              "outlinewidth": 0,
              "ticks": ""
             }
            },
            "marker": {
             "colorbar": {
              "outlinewidth": 0,
              "ticks": ""
             }
            },
            "type": "scatter3d"
           }
          ],
          "scattercarpet": [
           {
            "marker": {
             "colorbar": {
              "outlinewidth": 0,
              "ticks": ""
             }
            },
            "type": "scattercarpet"
           }
          ],
          "scattergeo": [
           {
            "marker": {
             "colorbar": {
              "outlinewidth": 0,
              "ticks": ""
             }
            },
            "type": "scattergeo"
           }
          ],
          "scattergl": [
           {
            "marker": {
             "colorbar": {
              "outlinewidth": 0,
              "ticks": ""
             }
            },
            "type": "scattergl"
           }
          ],
          "scattermapbox": [
           {
            "marker": {
             "colorbar": {
              "outlinewidth": 0,
              "ticks": ""
             }
            },
            "type": "scattermapbox"
           }
          ],
          "scatterpolar": [
           {
            "marker": {
             "colorbar": {
              "outlinewidth": 0,
              "ticks": ""
             }
            },
            "type": "scatterpolar"
           }
          ],
          "scatterpolargl": [
           {
            "marker": {
             "colorbar": {
              "outlinewidth": 0,
              "ticks": ""
             }
            },
            "type": "scatterpolargl"
           }
          ],
          "scatterternary": [
           {
            "marker": {
             "colorbar": {
              "outlinewidth": 0,
              "ticks": ""
             }
            },
            "type": "scatterternary"
           }
          ],
          "surface": [
           {
            "colorbar": {
             "outlinewidth": 0,
             "ticks": ""
            },
            "colorscale": [
             [
              0,
              "#0d0887"
             ],
             [
              0.1111111111111111,
              "#46039f"
             ],
             [
              0.2222222222222222,
              "#7201a8"
             ],
             [
              0.3333333333333333,
              "#9c179e"
             ],
             [
              0.4444444444444444,
              "#bd3786"
             ],
             [
              0.5555555555555556,
              "#d8576b"
             ],
             [
              0.6666666666666666,
              "#ed7953"
             ],
             [
              0.7777777777777778,
              "#fb9f3a"
             ],
             [
              0.8888888888888888,
              "#fdca26"
             ],
             [
              1,
              "#f0f921"
             ]
            ],
            "type": "surface"
           }
          ],
          "table": [
           {
            "cells": {
             "fill": {
              "color": "#EBF0F8"
             },
             "line": {
              "color": "white"
             }
            },
            "header": {
             "fill": {
              "color": "#C8D4E3"
             },
             "line": {
              "color": "white"
             }
            },
            "type": "table"
           }
          ]
         },
         "layout": {
          "annotationdefaults": {
           "arrowcolor": "#2a3f5f",
           "arrowhead": 0,
           "arrowwidth": 1
          },
          "autotypenumbers": "strict",
          "coloraxis": {
           "colorbar": {
            "outlinewidth": 0,
            "ticks": ""
           }
          },
          "colorscale": {
           "diverging": [
            [
             0,
             "#8e0152"
            ],
            [
             0.1,
             "#c51b7d"
            ],
            [
             0.2,
             "#de77ae"
            ],
            [
             0.3,
             "#f1b6da"
            ],
            [
             0.4,
             "#fde0ef"
            ],
            [
             0.5,
             "#f7f7f7"
            ],
            [
             0.6,
             "#e6f5d0"
            ],
            [
             0.7,
             "#b8e186"
            ],
            [
             0.8,
             "#7fbc41"
            ],
            [
             0.9,
             "#4d9221"
            ],
            [
             1,
             "#276419"
            ]
           ],
           "sequential": [
            [
             0,
             "#0d0887"
            ],
            [
             0.1111111111111111,
             "#46039f"
            ],
            [
             0.2222222222222222,
             "#7201a8"
            ],
            [
             0.3333333333333333,
             "#9c179e"
            ],
            [
             0.4444444444444444,
             "#bd3786"
            ],
            [
             0.5555555555555556,
             "#d8576b"
            ],
            [
             0.6666666666666666,
             "#ed7953"
            ],
            [
             0.7777777777777778,
             "#fb9f3a"
            ],
            [
             0.8888888888888888,
             "#fdca26"
            ],
            [
             1,
             "#f0f921"
            ]
           ],
           "sequentialminus": [
            [
             0,
             "#0d0887"
            ],
            [
             0.1111111111111111,
             "#46039f"
            ],
            [
             0.2222222222222222,
             "#7201a8"
            ],
            [
             0.3333333333333333,
             "#9c179e"
            ],
            [
             0.4444444444444444,
             "#bd3786"
            ],
            [
             0.5555555555555556,
             "#d8576b"
            ],
            [
             0.6666666666666666,
             "#ed7953"
            ],
            [
             0.7777777777777778,
             "#fb9f3a"
            ],
            [
             0.8888888888888888,
             "#fdca26"
            ],
            [
             1,
             "#f0f921"
            ]
           ]
          },
          "colorway": [
           "#636efa",
           "#EF553B",
           "#00cc96",
           "#ab63fa",
           "#FFA15A",
           "#19d3f3",
           "#FF6692",
           "#B6E880",
           "#FF97FF",
           "#FECB52"
          ],
          "font": {
           "color": "#2a3f5f"
          },
          "geo": {
           "bgcolor": "white",
           "lakecolor": "white",
           "landcolor": "#E5ECF6",
           "showlakes": true,
           "showland": true,
           "subunitcolor": "white"
          },
          "hoverlabel": {
           "align": "left"
          },
          "hovermode": "closest",
          "mapbox": {
           "style": "light"
          },
          "paper_bgcolor": "white",
          "plot_bgcolor": "#E5ECF6",
          "polar": {
           "angularaxis": {
            "gridcolor": "white",
            "linecolor": "white",
            "ticks": ""
           },
           "bgcolor": "#E5ECF6",
           "radialaxis": {
            "gridcolor": "white",
            "linecolor": "white",
            "ticks": ""
           }
          },
          "scene": {
           "xaxis": {
            "backgroundcolor": "#E5ECF6",
            "gridcolor": "white",
            "gridwidth": 2,
            "linecolor": "white",
            "showbackground": true,
            "ticks": "",
            "zerolinecolor": "white"
           },
           "yaxis": {
            "backgroundcolor": "#E5ECF6",
            "gridcolor": "white",
            "gridwidth": 2,
            "linecolor": "white",
            "showbackground": true,
            "ticks": "",
            "zerolinecolor": "white"
           },
           "zaxis": {
            "backgroundcolor": "#E5ECF6",
            "gridcolor": "white",
            "gridwidth": 2,
            "linecolor": "white",
            "showbackground": true,
            "ticks": "",
            "zerolinecolor": "white"
           }
          },
          "shapedefaults": {
           "line": {
            "color": "#2a3f5f"
           }
          },
          "ternary": {
           "aaxis": {
            "gridcolor": "white",
            "linecolor": "white",
            "ticks": ""
           },
           "baxis": {
            "gridcolor": "white",
            "linecolor": "white",
            "ticks": ""
           },
           "bgcolor": "#E5ECF6",
           "caxis": {
            "gridcolor": "white",
            "linecolor": "white",
            "ticks": ""
           }
          },
          "title": {
           "x": 0.05
          },
          "xaxis": {
           "automargin": true,
           "gridcolor": "white",
           "linecolor": "white",
           "ticks": "",
           "title": {
            "standoff": 15
           },
           "zerolinecolor": "white",
           "zerolinewidth": 2
          },
          "yaxis": {
           "automargin": true,
           "gridcolor": "white",
           "linecolor": "white",
           "ticks": "",
           "title": {
            "standoff": 15
           },
           "zerolinecolor": "white",
           "zerolinewidth": 2
          }
         }
        },
        "title": {
         "text": "Top 10 Courses with Highest Views"
        }
       }
      }
     },
     "metadata": {},
     "output_type": "display_data"
    }
   ],
   "source": [
    "# Filter the dataset for events with 'view_course' and group by CourseID to count the views\n",
    "course_views = elearning[elearning['Event'] == 'view_course'].groupby('CourseID').size()\n",
    "\n",
    "# Sort the views in descending order and select the top 10 courses\n",
    "top_10_courses = course_views.sort_values(ascending=False).head(10)\n",
    "\n",
    "# Create a DataFrame with the Course ID and the number of views\n",
    "df = pd.DataFrame({'Course ID': top_10_courses.index, 'Number of Views': top_10_courses.values})\n",
    "\n",
    "# Create an interactive table\n",
    "fig = go.Figure(data=[go.Table(header=dict(values=list(df.columns)),\n",
    "                               cells=dict(values=[df['Course ID'], df['Number of Views']]))])\n",
    "\n",
    "# Set the table title\n",
    "fig.update_layout(title=\"Top 10 Courses with Highest Views\")\n",
    "\n",
    "# Show the table\n",
    "fig.show()"
   ]
  },
  {
   "cell_type": "code",
   "execution_count": 11,
   "metadata": {},
   "outputs": [
    {
     "data": {
      "application/vnd.plotly.v1+json": {
       "config": {
        "plotlyServerURL": "https://plot.ly"
       },
       "data": [
        {
         "cells": {
          "values": [
           [
            429,
            1040,
            347,
            249,
            1178,
            537,
            488,
            170,
            98,
            668
           ],
           [
            14,
            14,
            14,
            13,
            12,
            12,
            12,
            12,
            12,
            12
           ]
          ]
         },
         "header": {
          "values": [
           "User ID",
           "Number of Unique Courses"
          ]
         },
         "type": "table"
        }
       ],
       "layout": {
        "template": {
         "data": {
          "bar": [
           {
            "error_x": {
             "color": "#2a3f5f"
            },
            "error_y": {
             "color": "#2a3f5f"
            },
            "marker": {
             "line": {
              "color": "#E5ECF6",
              "width": 0.5
             },
             "pattern": {
              "fillmode": "overlay",
              "size": 10,
              "solidity": 0.2
             }
            },
            "type": "bar"
           }
          ],
          "barpolar": [
           {
            "marker": {
             "line": {
              "color": "#E5ECF6",
              "width": 0.5
             },
             "pattern": {
              "fillmode": "overlay",
              "size": 10,
              "solidity": 0.2
             }
            },
            "type": "barpolar"
           }
          ],
          "carpet": [
           {
            "aaxis": {
             "endlinecolor": "#2a3f5f",
             "gridcolor": "white",
             "linecolor": "white",
             "minorgridcolor": "white",
             "startlinecolor": "#2a3f5f"
            },
            "baxis": {
             "endlinecolor": "#2a3f5f",
             "gridcolor": "white",
             "linecolor": "white",
             "minorgridcolor": "white",
             "startlinecolor": "#2a3f5f"
            },
            "type": "carpet"
           }
          ],
          "choropleth": [
           {
            "colorbar": {
             "outlinewidth": 0,
             "ticks": ""
            },
            "type": "choropleth"
           }
          ],
          "contour": [
           {
            "colorbar": {
             "outlinewidth": 0,
             "ticks": ""
            },
            "colorscale": [
             [
              0,
              "#0d0887"
             ],
             [
              0.1111111111111111,
              "#46039f"
             ],
             [
              0.2222222222222222,
              "#7201a8"
             ],
             [
              0.3333333333333333,
              "#9c179e"
             ],
             [
              0.4444444444444444,
              "#bd3786"
             ],
             [
              0.5555555555555556,
              "#d8576b"
             ],
             [
              0.6666666666666666,
              "#ed7953"
             ],
             [
              0.7777777777777778,
              "#fb9f3a"
             ],
             [
              0.8888888888888888,
              "#fdca26"
             ],
             [
              1,
              "#f0f921"
             ]
            ],
            "type": "contour"
           }
          ],
          "contourcarpet": [
           {
            "colorbar": {
             "outlinewidth": 0,
             "ticks": ""
            },
            "type": "contourcarpet"
           }
          ],
          "heatmap": [
           {
            "colorbar": {
             "outlinewidth": 0,
             "ticks": ""
            },
            "colorscale": [
             [
              0,
              "#0d0887"
             ],
             [
              0.1111111111111111,
              "#46039f"
             ],
             [
              0.2222222222222222,
              "#7201a8"
             ],
             [
              0.3333333333333333,
              "#9c179e"
             ],
             [
              0.4444444444444444,
              "#bd3786"
             ],
             [
              0.5555555555555556,
              "#d8576b"
             ],
             [
              0.6666666666666666,
              "#ed7953"
             ],
             [
              0.7777777777777778,
              "#fb9f3a"
             ],
             [
              0.8888888888888888,
              "#fdca26"
             ],
             [
              1,
              "#f0f921"
             ]
            ],
            "type": "heatmap"
           }
          ],
          "heatmapgl": [
           {
            "colorbar": {
             "outlinewidth": 0,
             "ticks": ""
            },
            "colorscale": [
             [
              0,
              "#0d0887"
             ],
             [
              0.1111111111111111,
              "#46039f"
             ],
             [
              0.2222222222222222,
              "#7201a8"
             ],
             [
              0.3333333333333333,
              "#9c179e"
             ],
             [
              0.4444444444444444,
              "#bd3786"
             ],
             [
              0.5555555555555556,
              "#d8576b"
             ],
             [
              0.6666666666666666,
              "#ed7953"
             ],
             [
              0.7777777777777778,
              "#fb9f3a"
             ],
             [
              0.8888888888888888,
              "#fdca26"
             ],
             [
              1,
              "#f0f921"
             ]
            ],
            "type": "heatmapgl"
           }
          ],
          "histogram": [
           {
            "marker": {
             "pattern": {
              "fillmode": "overlay",
              "size": 10,
              "solidity": 0.2
             }
            },
            "type": "histogram"
           }
          ],
          "histogram2d": [
           {
            "colorbar": {
             "outlinewidth": 0,
             "ticks": ""
            },
            "colorscale": [
             [
              0,
              "#0d0887"
             ],
             [
              0.1111111111111111,
              "#46039f"
             ],
             [
              0.2222222222222222,
              "#7201a8"
             ],
             [
              0.3333333333333333,
              "#9c179e"
             ],
             [
              0.4444444444444444,
              "#bd3786"
             ],
             [
              0.5555555555555556,
              "#d8576b"
             ],
             [
              0.6666666666666666,
              "#ed7953"
             ],
             [
              0.7777777777777778,
              "#fb9f3a"
             ],
             [
              0.8888888888888888,
              "#fdca26"
             ],
             [
              1,
              "#f0f921"
             ]
            ],
            "type": "histogram2d"
           }
          ],
          "histogram2dcontour": [
           {
            "colorbar": {
             "outlinewidth": 0,
             "ticks": ""
            },
            "colorscale": [
             [
              0,
              "#0d0887"
             ],
             [
              0.1111111111111111,
              "#46039f"
             ],
             [
              0.2222222222222222,
              "#7201a8"
             ],
             [
              0.3333333333333333,
              "#9c179e"
             ],
             [
              0.4444444444444444,
              "#bd3786"
             ],
             [
              0.5555555555555556,
              "#d8576b"
             ],
             [
              0.6666666666666666,
              "#ed7953"
             ],
             [
              0.7777777777777778,
              "#fb9f3a"
             ],
             [
              0.8888888888888888,
              "#fdca26"
             ],
             [
              1,
              "#f0f921"
             ]
            ],
            "type": "histogram2dcontour"
           }
          ],
          "mesh3d": [
           {
            "colorbar": {
             "outlinewidth": 0,
             "ticks": ""
            },
            "type": "mesh3d"
           }
          ],
          "parcoords": [
           {
            "line": {
             "colorbar": {
              "outlinewidth": 0,
              "ticks": ""
             }
            },
            "type": "parcoords"
           }
          ],
          "pie": [
           {
            "automargin": true,
            "type": "pie"
           }
          ],
          "scatter": [
           {
            "fillpattern": {
             "fillmode": "overlay",
             "size": 10,
             "solidity": 0.2
            },
            "type": "scatter"
           }
          ],
          "scatter3d": [
           {
            "line": {
             "colorbar": {
              "outlinewidth": 0,
              "ticks": ""
             }
            },
            "marker": {
             "colorbar": {
              "outlinewidth": 0,
              "ticks": ""
             }
            },
            "type": "scatter3d"
           }
          ],
          "scattercarpet": [
           {
            "marker": {
             "colorbar": {
              "outlinewidth": 0,
              "ticks": ""
             }
            },
            "type": "scattercarpet"
           }
          ],
          "scattergeo": [
           {
            "marker": {
             "colorbar": {
              "outlinewidth": 0,
              "ticks": ""
             }
            },
            "type": "scattergeo"
           }
          ],
          "scattergl": [
           {
            "marker": {
             "colorbar": {
              "outlinewidth": 0,
              "ticks": ""
             }
            },
            "type": "scattergl"
           }
          ],
          "scattermapbox": [
           {
            "marker": {
             "colorbar": {
              "outlinewidth": 0,
              "ticks": ""
             }
            },
            "type": "scattermapbox"
           }
          ],
          "scatterpolar": [
           {
            "marker": {
             "colorbar": {
              "outlinewidth": 0,
              "ticks": ""
             }
            },
            "type": "scatterpolar"
           }
          ],
          "scatterpolargl": [
           {
            "marker": {
             "colorbar": {
              "outlinewidth": 0,
              "ticks": ""
             }
            },
            "type": "scatterpolargl"
           }
          ],
          "scatterternary": [
           {
            "marker": {
             "colorbar": {
              "outlinewidth": 0,
              "ticks": ""
             }
            },
            "type": "scatterternary"
           }
          ],
          "surface": [
           {
            "colorbar": {
             "outlinewidth": 0,
             "ticks": ""
            },
            "colorscale": [
             [
              0,
              "#0d0887"
             ],
             [
              0.1111111111111111,
              "#46039f"
             ],
             [
              0.2222222222222222,
              "#7201a8"
             ],
             [
              0.3333333333333333,
              "#9c179e"
             ],
             [
              0.4444444444444444,
              "#bd3786"
             ],
             [
              0.5555555555555556,
              "#d8576b"
             ],
             [
              0.6666666666666666,
              "#ed7953"
             ],
             [
              0.7777777777777778,
              "#fb9f3a"
             ],
             [
              0.8888888888888888,
              "#fdca26"
             ],
             [
              1,
              "#f0f921"
             ]
            ],
            "type": "surface"
           }
          ],
          "table": [
           {
            "cells": {
             "fill": {
              "color": "#EBF0F8"
             },
             "line": {
              "color": "white"
             }
            },
            "header": {
             "fill": {
              "color": "#C8D4E3"
             },
             "line": {
              "color": "white"
             }
            },
            "type": "table"
           }
          ]
         },
         "layout": {
          "annotationdefaults": {
           "arrowcolor": "#2a3f5f",
           "arrowhead": 0,
           "arrowwidth": 1
          },
          "autotypenumbers": "strict",
          "coloraxis": {
           "colorbar": {
            "outlinewidth": 0,
            "ticks": ""
           }
          },
          "colorscale": {
           "diverging": [
            [
             0,
             "#8e0152"
            ],
            [
             0.1,
             "#c51b7d"
            ],
            [
             0.2,
             "#de77ae"
            ],
            [
             0.3,
             "#f1b6da"
            ],
            [
             0.4,
             "#fde0ef"
            ],
            [
             0.5,
             "#f7f7f7"
            ],
            [
             0.6,
             "#e6f5d0"
            ],
            [
             0.7,
             "#b8e186"
            ],
            [
             0.8,
             "#7fbc41"
            ],
            [
             0.9,
             "#4d9221"
            ],
            [
             1,
             "#276419"
            ]
           ],
           "sequential": [
            [
             0,
             "#0d0887"
            ],
            [
             0.1111111111111111,
             "#46039f"
            ],
            [
             0.2222222222222222,
             "#7201a8"
            ],
            [
             0.3333333333333333,
             "#9c179e"
            ],
            [
             0.4444444444444444,
             "#bd3786"
            ],
            [
             0.5555555555555556,
             "#d8576b"
            ],
            [
             0.6666666666666666,
             "#ed7953"
            ],
            [
             0.7777777777777778,
             "#fb9f3a"
            ],
            [
             0.8888888888888888,
             "#fdca26"
            ],
            [
             1,
             "#f0f921"
            ]
           ],
           "sequentialminus": [
            [
             0,
             "#0d0887"
            ],
            [
             0.1111111111111111,
             "#46039f"
            ],
            [
             0.2222222222222222,
             "#7201a8"
            ],
            [
             0.3333333333333333,
             "#9c179e"
            ],
            [
             0.4444444444444444,
             "#bd3786"
            ],
            [
             0.5555555555555556,
             "#d8576b"
            ],
            [
             0.6666666666666666,
             "#ed7953"
            ],
            [
             0.7777777777777778,
             "#fb9f3a"
            ],
            [
             0.8888888888888888,
             "#fdca26"
            ],
            [
             1,
             "#f0f921"
            ]
           ]
          },
          "colorway": [
           "#636efa",
           "#EF553B",
           "#00cc96",
           "#ab63fa",
           "#FFA15A",
           "#19d3f3",
           "#FF6692",
           "#B6E880",
           "#FF97FF",
           "#FECB52"
          ],
          "font": {
           "color": "#2a3f5f"
          },
          "geo": {
           "bgcolor": "white",
           "lakecolor": "white",
           "landcolor": "#E5ECF6",
           "showlakes": true,
           "showland": true,
           "subunitcolor": "white"
          },
          "hoverlabel": {
           "align": "left"
          },
          "hovermode": "closest",
          "mapbox": {
           "style": "light"
          },
          "paper_bgcolor": "white",
          "plot_bgcolor": "#E5ECF6",
          "polar": {
           "angularaxis": {
            "gridcolor": "white",
            "linecolor": "white",
            "ticks": ""
           },
           "bgcolor": "#E5ECF6",
           "radialaxis": {
            "gridcolor": "white",
            "linecolor": "white",
            "ticks": ""
           }
          },
          "scene": {
           "xaxis": {
            "backgroundcolor": "#E5ECF6",
            "gridcolor": "white",
            "gridwidth": 2,
            "linecolor": "white",
            "showbackground": true,
            "ticks": "",
            "zerolinecolor": "white"
           },
           "yaxis": {
            "backgroundcolor": "#E5ECF6",
            "gridcolor": "white",
            "gridwidth": 2,
            "linecolor": "white",
            "showbackground": true,
            "ticks": "",
            "zerolinecolor": "white"
           },
           "zaxis": {
            "backgroundcolor": "#E5ECF6",
            "gridcolor": "white",
            "gridwidth": 2,
            "linecolor": "white",
            "showbackground": true,
            "ticks": "",
            "zerolinecolor": "white"
           }
          },
          "shapedefaults": {
           "line": {
            "color": "#2a3f5f"
           }
          },
          "ternary": {
           "aaxis": {
            "gridcolor": "white",
            "linecolor": "white",
            "ticks": ""
           },
           "baxis": {
            "gridcolor": "white",
            "linecolor": "white",
            "ticks": ""
           },
           "bgcolor": "#E5ECF6",
           "caxis": {
            "gridcolor": "white",
            "linecolor": "white",
            "ticks": ""
           }
          },
          "title": {
           "x": 0.05
          },
          "xaxis": {
           "automargin": true,
           "gridcolor": "white",
           "linecolor": "white",
           "ticks": "",
           "title": {
            "standoff": 15
           },
           "zerolinecolor": "white",
           "zerolinewidth": 2
          },
          "yaxis": {
           "automargin": true,
           "gridcolor": "white",
           "linecolor": "white",
           "ticks": "",
           "title": {
            "standoff": 15
           },
           "zerolinecolor": "white",
           "zerolinewidth": 2
          }
         }
        },
        "title": {
         "text": "Top 10 Users with Most Unique Course Views"
        }
       }
      }
     },
     "metadata": {},
     "output_type": "display_data"
    }
   ],
   "source": [
    "# Group the dataset by UserID and count the number of unique courses viewed by each user\n",
    "user_course_count = elearning.groupby('UserID')['CourseID'].nunique()\n",
    "\n",
    "# Sort the users by the number of unique courses viewed in descending order and select the top 10 users\n",
    "top_10_users = user_course_count.sort_values(ascending=False).head(10)\n",
    "\n",
    "# Create a DataFrame with the User ID and the number of unique courses viewed\n",
    "df = pd.DataFrame({'User ID': top_10_users.index, 'Number of Unique Courses': top_10_users.values})\n",
    "\n",
    "# Create an interactive table\n",
    "fig = go.Figure(data=[go.Table(header=dict(values=list(df.columns)),\n",
    "                               cells=dict(values=[df['User ID'], df['Number of Unique Courses']]))])\n",
    "\n",
    "# Set the table title\n",
    "fig.update_layout(title=\"Top 10 Users with Most Unique Course Views\")\n",
    "\n",
    "# Show the table\n",
    "fig.show()"
   ]
  },
  {
   "cell_type": "markdown",
   "metadata": {},
   "source": [
    "Users with user IDs 429, 1040, and 347 all viewed 14 different courses."
   ]
  },
  {
   "cell_type": "code",
   "execution_count": 12,
   "metadata": {},
   "outputs": [
    {
     "data": {
      "application/vnd.plotly.v1+json": {
       "config": {
        "plotlyServerURL": "https://plot.ly"
       },
       "data": [
        {
         "cells": {
          "values": [
           [
            1040,
            1436,
            1129,
            429,
            249,
            30,
            668,
            1530,
            59,
            82,
            480,
            878,
            347,
            117,
            1258,
            503,
            686,
            166,
            911,
            154,
            1506,
            25,
            223,
            1582,
            157,
            305,
            990,
            1249,
            419,
            1481,
            1342,
            537,
            1052,
            1213,
            528,
            1157,
            170,
            182,
            518,
            580,
            568,
            758,
            1570,
            1178,
            1026,
            98,
            1124,
            765,
            216,
            1315,
            807,
            1485,
            630,
            1196,
            1509,
            916,
            1161,
            488,
            1181,
            384,
            542,
            613,
            620,
            1043,
            24,
            348,
            1427,
            1351,
            165,
            505,
            1018,
            1155,
            1581,
            15,
            688,
            173,
            810,
            1216,
            792,
            1270,
            319,
            1566,
            925,
            1505,
            628,
            1344,
            487,
            802,
            752,
            1251,
            1204,
            943,
            1159,
            1526,
            603,
            1557,
            586,
            44,
            1225,
            1215,
            357,
            233,
            352,
            1386,
            926,
            514,
            430,
            245,
            1465,
            1483,
            219,
            1147,
            1035,
            456,
            829,
            465,
            1318,
            945,
            497,
            1426,
            246,
            1166,
            724,
            782,
            473,
            330,
            1240,
            798,
            14,
            1511,
            395,
            1338,
            337,
            18,
            1339,
            1267,
            1458,
            444,
            439,
            1417,
            341,
            1580,
            1490,
            1375,
            1066,
            220,
            750,
            1571,
            1257,
            1354,
            16,
            486,
            275,
            762,
            43,
            368,
            299,
            175,
            796,
            461,
            857,
            558,
            452,
            372,
            1598,
            1063,
            183,
            960,
            1111,
            1514,
            1171,
            1128,
            710,
            850,
            264,
            132,
            230,
            1460,
            660,
            119,
            1310,
            627,
            200,
            895,
            331,
            71,
            1131,
            55,
            149,
            1191,
            1176,
            1583,
            282,
            1444,
            391,
            95,
            178,
            984,
            1443,
            1317,
            691,
            1594,
            1358,
            350,
            1474,
            111,
            153,
            534,
            1201,
            338,
            1361,
            289,
            387,
            996,
            1096,
            1053,
            888,
            547,
            863,
            1595,
            495,
            83,
            1150,
            820,
            291,
            704,
            745,
            901,
            1011,
            240,
            309,
            155,
            76,
            1073,
            33,
            172,
            4,
            1433,
            817,
            808,
            581,
            97,
            1101,
            563,
            268,
            1123,
            1363,
            883,
            904,
            1158,
            643,
            436,
            378,
            784,
            416,
            1320,
            1295,
            516,
            965,
            234,
            470,
            1047,
            187,
            1134,
            407,
            1271,
            13,
            854,
            228,
            1429,
            985,
            1195,
            538,
            1285,
            778,
            482,
            17,
            1558,
            1015,
            1473,
            23,
            401,
            754,
            270,
            939,
            1212,
            1266,
            1169,
            544,
            1074,
            833,
            744,
            1236,
            0,
            195,
            706,
            648,
            598,
            788,
            1431,
            135,
            1174,
            318,
            1167,
            333,
            961,
            554,
            539,
            124,
            1439,
            1331,
            898,
            1446,
            224,
            408,
            1082,
            1510,
            918,
            278,
            1547,
            498,
            168,
            1289,
            1041,
            504,
            320,
            786,
            849,
            1409,
            1217,
            463,
            1516,
            1316,
            1104,
            1038,
            1027,
            1140,
            1282,
            1241,
            842,
            1172,
            587,
            1287,
            208,
            377,
            1160,
            490,
            1222,
            524,
            747,
            1219,
            1311,
            523,
            680,
            891,
            1246,
            1164,
            973,
            858,
            1512,
            392,
            1477,
            880,
            1211,
            1599,
            772,
            1046,
            1293,
            1513,
            1245,
            310,
            1106,
            58,
            583,
            1192,
            1507,
            1119,
            19,
            634,
            549,
            825,
            1136,
            422,
            1009,
            136,
            412,
            1031,
            1142,
            460,
            1441,
            1515,
            1057,
            1383,
            629,
            1256,
            272,
            1202,
            685,
            699,
            203,
            1261,
            1545,
            1430,
            1550,
            1508,
            1517,
            424,
            1107,
            103,
            1237,
            776,
            927,
            1459,
            118,
            735,
            707,
            127,
            606,
            1077,
            1042,
            1205,
            72,
            52,
            1198,
            790,
            571,
            1579,
            496,
            832,
            819,
            1229,
            545,
            694,
            1036,
            332,
            1299,
            435,
            1561,
            615,
            190,
            740,
            85,
            192,
            723,
            360,
            964,
            783,
            952,
            451,
            138,
            1475,
            41,
            121,
            222,
            1186,
            104,
            920,
            279,
            1372,
            209,
            836,
            114,
            1471,
            1448,
            1189,
            65,
            163,
            998,
            1248,
            638,
            1335,
            54,
            1332,
            940,
            1519,
            1355,
            841,
            552,
            414,
            1149,
            90,
            767,
            1045,
            284,
            695,
            6,
            1095,
            265,
            1374,
            1306,
            526,
            897,
            1574,
            312,
            1153,
            1075,
            1019,
            761,
            302,
            1088,
            63,
            1529,
            553,
            1177,
            42,
            890,
            1037,
            34,
            1322,
            1403,
            805,
            759,
            574,
            474,
            102,
            180,
            1464,
            602,
            971,
            1044,
            1381,
            1468,
            446,
            1094,
            835,
            53,
            864,
            1023,
            992,
            1435,
            1179,
            459,
            862,
            828,
            731,
            1406,
            914,
            1087,
            646,
            385,
            69,
            1585,
            1319,
            657,
            389,
            297,
            608,
            492,
            326,
            1085,
            303,
            68,
            445,
            468,
            1020,
            1445,
            1382,
            146,
            125,
            1078,
            1039,
            1400,
            621,
            1397,
            1220,
            658,
            113,
            1193,
            1221,
            972,
            1380,
            328,
            1265,
            307,
            376,
            1551,
            1419,
            834,
            785,
            217,
            432,
            977,
            143,
            619,
            584,
            639,
            1145,
            123,
            989,
            953,
            705,
            1224,
            1323,
            296,
            838,
            821,
            1584,
            1469,
            766,
            386,
            1325,
            1343,
            1268,
            988,
            693,
            631,
            730,
            361,
            471,
            995,
            137,
            259,
            729,
            1414,
            1200,
            519,
            1546,
            941,
            1364,
            550,
            1564,
            1028,
            1524,
            720,
            1357,
            1105,
            94,
            1061,
            257,
            919,
            727,
            675,
            1098,
            590,
            1378,
            405,
            110,
            1109,
            26,
            1239,
            1071,
            75,
            56,
            256,
            148,
            1005,
            1203,
            88,
            9,
            164,
            1367,
            1327,
            362,
            462,
            575,
            661,
            855,
            38,
            921,
            191,
            1360,
            814,
            485,
            250,
            1280,
            406,
            1356,
            1278,
            531,
            1592,
            306,
            1504,
            1412,
            1495,
            656,
            1478,
            826,
            1148,
            1137,
            913,
            11,
            1290,
            679,
            1313,
            60,
            1534,
            860,
            1154,
            1121,
            151,
            321,
            687,
            1544,
            1302,
            1395,
            506,
            271,
            1345,
            298,
            1486,
            1199,
            1,
            418,
            1163,
            415,
            1308,
            1410,
            207,
            1442,
            1450,
            800,
            1232,
            1050,
            749,
            226,
            966,
            1565,
            64,
            741,
            433,
            1175,
            579,
            881,
            198,
            1476,
            1560,
            734,
            845,
            1390,
            1398,
            696,
            789,
            197,
            27,
            317,
            1255,
            713,
            1067,
            1252,
            1135,
            147,
            853,
            1559,
            431,
            561,
            535,
            1543,
            781,
            12,
            1494,
            507,
            1006,
            536,
            1384,
            773,
            774,
            1070,
            1051,
            105,
            771,
            1138,
            314,
            1369,
            269,
            591,
            1346,
            1125,
            77,
            78,
            1334,
            822,
            1262,
            1250,
            1263,
            570,
            50,
            455,
            806,
            1012,
            93,
            1418,
            1437,
            922,
            186,
            396,
            10,
            962,
            625,
            958,
            1569,
            2,
            520,
            521,
            241,
            1277,
            981,
            1456,
            557,
            870,
            366,
            244,
            816,
            1590,
            1348,
            1072,
            982,
            889,
            1117,
            1089,
            556,
            791,
            1532,
            510,
            70,
            930,
            823,
            1472,
            682,
            349,
            726,
            108,
            1300,
            214,
            467,
            649,
            1226,
            975,
            1425,
            899,
            202,
            601,
            92,
            624,
            1457,
            300,
            251,
            322,
            683,
            1151,
            721,
            1030,
            1454,
            529,
            1482,
            311,
            339,
            764,
            562,
            728,
            1493,
            1578,
            1401,
            1190,
            517,
            840,
            594,
            225,
            757,
            928,
            1276,
            532,
            979,
            1099,
            1518,
            290,
            1484,
            324,
            382,
            1462,
            1097,
            447,
            1500,
            1259,
            667,
            48,
            260,
            795,
            1081,
            398,
            87,
            861,
            316,
            295,
            1538,
            843,
            1260,
            1542,
            308,
            1572,
            1208,
            1593,
            100,
            959,
            379,
            356,
            1116,
            323,
            394,
            799,
            636,
            292,
            236,
            905,
            647,
            1463,
            201,
            924,
            371,
            1273,
            1274,
            96,
            1115,
            315,
            1385,
            1461,
            655,
            280,
            413,
            1389,
            109,
            442,
            1336,
            484,
            711,
            1589,
            1466,
            803,
            748,
            1188,
            1130,
            1424,
            702,
            150,
            669,
            1284,
            423,
            1377,
            902,
            932,
            623,
            1349,
            1118,
            1108,
            1420,
            1272,
            512,
            476,
            502,
            1304,
            35,
            426,
            1567,
            293,
            107,
            199,
            1281,
            1126,
            1286,
            167,
            237,
            420,
            1080,
            177,
            804,
            478,
            211,
            1330,
            369,
            1520,
            1573,
            856,
            885,
            39,
            616,
            1275,
            1029,
            457,
            62,
            174,
            286,
            440,
            645,
            1062,
            1340,
            1279,
            1329,
            46,
            654,
            565,
            1086,
            595,
            363,
            411,
            1415,
            652,
            1314,
            1303,
            1587,
            1301,
            255,
            106,
            576,
            1453,
            949,
            1091,
            1537,
            1449,
            397,
            453,
            49,
            651,
            266,
            635,
            1404,
            1535,
            689,
            947,
            196,
            162,
            210,
            1297,
            1498,
            383,
            247,
            128,
            258,
            1328,
            1122,
            677,
            775,
            1185,
            353,
            1058,
            1402,
            1553,
            464,
            1396,
            882,
            1079,
            73,
            1264,
            980,
            1392,
            1523,
            970,
            1010,
            760,
            51,
            421,
            448,
            1068,
            1552,
            281,
            188,
            1076,
            238,
            1102,
            525,
            1022,
            1156,
            1114,
            252,
            1008,
            931,
            701,
            666,
            907,
            1502,
            847,
            261,
            582,
            131,
            999,
            404,
            267,
            1183,
            152,
            184,
            120,
            934,
            501,
            47,
            671,
            7,
            1292,
            437,
            134,
            400,
            8,
            879,
            32,
            592,
            1588,
            277,
            1309,
            751,
            399,
            276,
            499,
            1324,
            375,
            1307,
            1373,
            551,
            1347,
            991,
            243,
            45,
            848,
            560,
            676,
            852,
            809,
            1291,
            1170,
            1002,
            1168,
            811,
            1243,
            327,
            89,
            1233,
            212,
            951,
            29,
            1540,
            1576,
            614,
            917,
            935,
            892,
            955,
            1394,
            1173,
            115,
            1139,
            801,
            637,
            715,
            359,
            1428,
            130,
            1376,
            910,
            1234,
            500,
            1411,
            837,
            101,
            644,
            160,
            812,
            1326,
            204,
            1528,
            1531,
            1054,
            884,
            1451,
            325,
            1016,
            566,
            777,
            974,
            304,
            1399,
            1467,
            351,
            684,
            874,
            559,
            827,
            900,
            417,
            334,
            983,
            698,
            40,
            345,
            714,
            441,
            235,
            846,
            718,
            1206,
            1182,
            830,
            577,
            617,
            1501,
            232,
            1083,
            346,
            632,
            578,
            969,
            472,
            185,
            1563,
            139,
            1244,
            3,
            365,
            1017,
            607,
            273,
            873,
            1312,
            28,
            37,
            5,
            753,
            1388,
            997,
            700,
            739,
            21,
            813,
            489,
            692,
            1033,
            1371,
            57,
            844,
            690,
            1421,
            605,
            779,
            876,
            543,
            156,
            670,
            313,
            541,
            1379,
            189,
            380,
            206,
            434,
            650,
            611,
            1525,
            288,
            1132,
            494,
            609,
            481,
            716,
            1549,
            1491,
            142,
            1296,
            1207,
            1084,
            1497,
            866,
            242,
            1003,
            712,
            491,
            1000,
            1144,
            450,
            1253,
            285,
            158,
            548,
            343,
            1548,
            335,
            1577,
            1489,
            794,
            1368,
            179,
            169,
            674,
            403,
            1209,
            867,
            133,
            1143,
            1541,
            425,
            929,
            708,
            262,
            1434,
            963,
            948,
            871,
            818,
            954,
            116,
            140,
            968,
            1597,
            1254,
            449,
            1194,
            1337,
            1365,
            1533,
            374,
            906,
            144,
            229,
            1352,
            1575,
            91,
            1413,
            1024,
            851,
            1133,
            31,
            1350,
            373,
            912,
            824,
            126,
            1090,
            1527,
            231,
            1242,
            546,
            722,
            1231,
            1069,
            1452,
            344,
            1407,
            903,
            1362,
            1359,
            393,
            438,
            665,
            1298,
            1110,
            950,
            597,
            67,
            839,
            915,
            703,
            181,
            944,
            1568,
            957,
            672,
            673,
            1059,
            1100,
            725,
            454,
            1269,
            239,
            1210,
            141,
            719,
            1596,
            145,
            1503,
            938,
            1146,
            1554,
            1321,
            511,
            1034,
            894,
            479,
            937,
            1187,
            358,
            887,
            831,
            274,
            886,
            1165,
            301,
            780,
            1387,
            1055,
            1247,
            596,
            428,
            74,
            572,
            355,
            1141,
            877,
            746,
            738,
            896,
            569,
            946,
            1004,
            159,
            942,
            263,
            769,
            1555,
            1522,
            585,
            755,
            61,
            1393,
            868,
            340,
            1092,
            865,
            697,
            527,
            1048,
            1539,
            742,
            1455,
            1214,
            1341,
            593,
            294,
            1416,
            1487,
            1470,
            1370,
            589,
            909,
            678,
            1405,
            81,
            640,
            1235,
            787,
            36,
            610,
            875,
            1422,
            599,
            1499,
            993,
            967,
            213,
            513,
            390,
            540,
            515,
            1180,
            1064,
            1480,
            221,
            1001,
            1521,
            1432,
            1060,
            112,
            797,
            1025,
            533,
            1333,
            1120,
            770,
            604,
            1049,
            1113,
            469,
            215,
            1423,
            253,
            1065,
            1586,
            1014,
            1162,
            1536,
            161,
            427,
            129,
            1391,
            227,
            978,
            618,
            1447,
            987,
            763,
            1112,
            354,
            633,
            193,
            732,
            1492,
            662,
            1438,
            493,
            22,
            1591,
            409,
            364,
            1223,
            1197,
            84,
            329,
            1562,
            733,
            466,
            1021,
            1556,
            555,
            79,
            176,
            1056,
            477,
            1479,
            248,
            737,
            80,
            218,
            475,
            283,
            994,
            815,
            573,
            509,
            530,
            1283,
            1496,
            122,
            1218,
            86,
            370,
            588,
            522,
            410,
            659,
            1294,
            626,
            458,
            254,
            612,
            976,
            171,
            381,
            1013,
            388,
            859,
            564,
            1488,
            20,
            936,
            99,
            653,
            1007,
            287,
            908,
            736,
            402,
            483,
            709,
            367,
            1305,
            956,
            443,
            1032,
            1228,
            622,
            1127,
            1238,
            872,
            336,
            663,
            600,
            756,
            567,
            1093,
            923,
            66,
            717,
            1366,
            664,
            986,
            1440,
            1230,
            1288,
            1408,
            793,
            342,
            768,
            743,
            1353,
            1184,
            1152,
            1227,
            508
           ],
           [
            35,
            31,
            29,
            28,
            28,
            27,
            26,
            26,
            26,
            25,
            25,
            25,
            25,
            24,
            24,
            24,
            24,
            24,
            24,
            24,
            24,
            23,
            23,
            22,
            22,
            22,
            22,
            22,
            22,
            22,
            22,
            22,
            22,
            22,
            22,
            22,
            22,
            22,
            22,
            21,
            21,
            21,
            21,
            21,
            21,
            21,
            21,
            21,
            21,
            21,
            21,
            21,
            21,
            21,
            21,
            21,
            21,
            21,
            21,
            20,
            20,
            20,
            20,
            20,
            20,
            20,
            20,
            20,
            20,
            20,
            20,
            20,
            20,
            20,
            20,
            20,
            20,
            19,
            19,
            19,
            19,
            19,
            19,
            19,
            19,
            19,
            19,
            19,
            19,
            19,
            19,
            19,
            19,
            19,
            19,
            19,
            19,
            19,
            19,
            19,
            19,
            19,
            19,
            19,
            19,
            18,
            18,
            18,
            18,
            18,
            18,
            18,
            18,
            18,
            18,
            18,
            18,
            18,
            18,
            18,
            18,
            18,
            18,
            18,
            18,
            18,
            18,
            18,
            18,
            18,
            18,
            18,
            18,
            18,
            18,
            18,
            18,
            18,
            18,
            18,
            18,
            18,
            18,
            18,
            18,
            18,
            18,
            18,
            18,
            17,
            17,
            17,
            17,
            17,
            17,
            17,
            17,
            17,
            17,
            17,
            17,
            17,
            17,
            17,
            17,
            17,
            17,
            17,
            17,
            17,
            17,
            17,
            17,
            17,
            17,
            17,
            17,
            17,
            17,
            17,
            17,
            17,
            17,
            17,
            17,
            17,
            17,
            17,
            17,
            17,
            17,
            17,
            17,
            17,
            17,
            17,
            17,
            17,
            17,
            16,
            16,
            16,
            16,
            16,
            16,
            16,
            16,
            16,
            16,
            16,
            16,
            16,
            16,
            16,
            16,
            16,
            16,
            16,
            16,
            16,
            16,
            16,
            16,
            16,
            16,
            16,
            16,
            16,
            16,
            16,
            16,
            16,
            16,
            16,
            16,
            16,
            16,
            16,
            16,
            16,
            16,
            16,
            16,
            16,
            16,
            16,
            16,
            16,
            16,
            16,
            16,
            16,
            16,
            16,
            16,
            16,
            16,
            16,
            16,
            16,
            16,
            16,
            16,
            15,
            15,
            15,
            15,
            15,
            15,
            15,
            15,
            15,
            15,
            15,
            15,
            15,
            15,
            15,
            15,
            15,
            15,
            15,
            15,
            15,
            15,
            15,
            15,
            15,
            15,
            15,
            15,
            15,
            15,
            15,
            15,
            15,
            15,
            15,
            15,
            15,
            15,
            15,
            15,
            15,
            15,
            15,
            15,
            15,
            15,
            15,
            15,
            15,
            15,
            15,
            15,
            15,
            15,
            15,
            15,
            15,
            15,
            15,
            15,
            15,
            15,
            15,
            15,
            15,
            15,
            15,
            15,
            15,
            15,
            15,
            15,
            15,
            15,
            15,
            15,
            15,
            15,
            15,
            15,
            15,
            15,
            15,
            15,
            15,
            15,
            15,
            15,
            15,
            15,
            15,
            15,
            15,
            15,
            15,
            15,
            14,
            14,
            14,
            14,
            14,
            14,
            14,
            14,
            14,
            14,
            14,
            14,
            14,
            14,
            14,
            14,
            14,
            14,
            14,
            14,
            14,
            14,
            14,
            14,
            14,
            14,
            14,
            14,
            14,
            14,
            14,
            14,
            14,
            14,
            14,
            14,
            14,
            14,
            14,
            14,
            14,
            14,
            14,
            14,
            14,
            14,
            14,
            14,
            14,
            14,
            14,
            14,
            14,
            14,
            14,
            14,
            14,
            14,
            14,
            14,
            14,
            14,
            14,
            14,
            14,
            14,
            14,
            14,
            14,
            14,
            14,
            14,
            14,
            14,
            14,
            14,
            14,
            14,
            14,
            14,
            14,
            14,
            14,
            14,
            14,
            14,
            14,
            14,
            13,
            13,
            13,
            13,
            13,
            13,
            13,
            13,
            13,
            13,
            13,
            13,
            13,
            13,
            13,
            13,
            13,
            13,
            13,
            13,
            13,
            13,
            13,
            13,
            13,
            13,
            13,
            13,
            13,
            13,
            13,
            13,
            13,
            13,
            13,
            13,
            13,
            13,
            13,
            13,
            13,
            13,
            13,
            13,
            13,
            13,
            13,
            13,
            13,
            13,
            13,
            13,
            13,
            13,
            13,
            13,
            13,
            13,
            13,
            13,
            13,
            13,
            13,
            13,
            13,
            13,
            13,
            13,
            13,
            13,
            13,
            13,
            13,
            13,
            13,
            13,
            13,
            13,
            13,
            13,
            13,
            13,
            13,
            13,
            13,
            13,
            13,
            13,
            13,
            13,
            13,
            13,
            13,
            13,
            13,
            13,
            13,
            13,
            13,
            13,
            13,
            13,
            13,
            13,
            13,
            13,
            13,
            13,
            12,
            12,
            12,
            12,
            12,
            12,
            12,
            12,
            12,
            12,
            12,
            12,
            12,
            12,
            12,
            12,
            12,
            12,
            12,
            12,
            12,
            12,
            12,
            12,
            12,
            12,
            12,
            12,
            12,
            12,
            12,
            12,
            12,
            12,
            12,
            12,
            12,
            12,
            12,
            12,
            12,
            12,
            12,
            12,
            12,
            12,
            12,
            12,
            12,
            12,
            12,
            12,
            12,
            12,
            12,
            12,
            12,
            12,
            12,
            12,
            12,
            12,
            12,
            12,
            12,
            12,
            12,
            12,
            12,
            12,
            12,
            12,
            12,
            12,
            12,
            12,
            12,
            12,
            12,
            12,
            12,
            12,
            12,
            12,
            12,
            12,
            12,
            12,
            12,
            12,
            12,
            12,
            12,
            12,
            12,
            12,
            12,
            12,
            12,
            12,
            12,
            12,
            12,
            12,
            12,
            12,
            12,
            12,
            12,
            12,
            12,
            12,
            12,
            12,
            12,
            12,
            12,
            12,
            12,
            12,
            12,
            11,
            11,
            11,
            11,
            11,
            11,
            11,
            11,
            11,
            11,
            11,
            11,
            11,
            11,
            11,
            11,
            11,
            11,
            11,
            11,
            11,
            11,
            11,
            11,
            11,
            11,
            11,
            11,
            11,
            11,
            11,
            11,
            11,
            11,
            11,
            11,
            11,
            11,
            11,
            11,
            11,
            11,
            11,
            11,
            11,
            11,
            11,
            11,
            11,
            11,
            11,
            11,
            11,
            11,
            11,
            11,
            11,
            11,
            11,
            11,
            11,
            11,
            11,
            11,
            11,
            11,
            11,
            11,
            11,
            11,
            11,
            11,
            11,
            11,
            11,
            11,
            11,
            11,
            11,
            11,
            11,
            11,
            11,
            11,
            11,
            11,
            11,
            11,
            11,
            11,
            11,
            11,
            11,
            11,
            11,
            11,
            11,
            11,
            11,
            11,
            11,
            11,
            11,
            11,
            11,
            11,
            11,
            11,
            11,
            11,
            11,
            11,
            11,
            11,
            11,
            11,
            11,
            11,
            11,
            11,
            11,
            11,
            11,
            11,
            11,
            11,
            11,
            11,
            11,
            11,
            11,
            11,
            11,
            11,
            11,
            11,
            11,
            10,
            10,
            10,
            10,
            10,
            10,
            10,
            10,
            10,
            10,
            10,
            10,
            10,
            10,
            10,
            10,
            10,
            10,
            10,
            10,
            10,
            10,
            10,
            10,
            10,
            10,
            10,
            10,
            10,
            10,
            10,
            10,
            10,
            10,
            10,
            10,
            10,
            10,
            10,
            10,
            10,
            10,
            10,
            10,
            10,
            10,
            10,
            10,
            10,
            10,
            10,
            10,
            10,
            10,
            10,
            10,
            10,
            10,
            10,
            10,
            10,
            10,
            10,
            10,
            10,
            10,
            10,
            10,
            10,
            10,
            10,
            10,
            10,
            10,
            10,
            10,
            10,
            10,
            10,
            10,
            10,
            10,
            10,
            10,
            10,
            10,
            10,
            10,
            10,
            10,
            10,
            10,
            10,
            10,
            10,
            10,
            10,
            10,
            10,
            10,
            10,
            10,
            10,
            10,
            10,
            10,
            10,
            10,
            10,
            10,
            10,
            10,
            10,
            10,
            10,
            10,
            10,
            9,
            9,
            9,
            9,
            9,
            9,
            9,
            9,
            9,
            9,
            9,
            9,
            9,
            9,
            9,
            9,
            9,
            9,
            9,
            9,
            9,
            9,
            9,
            9,
            9,
            9,
            9,
            9,
            9,
            9,
            9,
            9,
            9,
            9,
            9,
            9,
            9,
            9,
            9,
            9,
            9,
            9,
            9,
            9,
            9,
            9,
            9,
            9,
            9,
            9,
            9,
            9,
            9,
            9,
            9,
            9,
            9,
            9,
            9,
            9,
            9,
            9,
            9,
            9,
            9,
            9,
            9,
            9,
            9,
            9,
            9,
            9,
            9,
            9,
            9,
            9,
            9,
            9,
            9,
            9,
            9,
            9,
            9,
            9,
            9,
            9,
            9,
            9,
            9,
            9,
            9,
            9,
            9,
            9,
            9,
            9,
            9,
            9,
            9,
            9,
            9,
            9,
            9,
            9,
            9,
            9,
            9,
            9,
            9,
            9,
            9,
            9,
            9,
            9,
            9,
            9,
            9,
            9,
            9,
            9,
            9,
            9,
            9,
            8,
            8,
            8,
            8,
            8,
            8,
            8,
            8,
            8,
            8,
            8,
            8,
            8,
            8,
            8,
            8,
            8,
            8,
            8,
            8,
            8,
            8,
            8,
            8,
            8,
            8,
            8,
            8,
            8,
            8,
            8,
            8,
            8,
            8,
            8,
            8,
            8,
            8,
            8,
            8,
            8,
            8,
            8,
            8,
            8,
            8,
            8,
            8,
            8,
            8,
            8,
            8,
            8,
            8,
            8,
            8,
            8,
            8,
            8,
            8,
            8,
            8,
            8,
            8,
            8,
            8,
            8,
            8,
            8,
            8,
            8,
            8,
            8,
            8,
            8,
            8,
            8,
            8,
            8,
            8,
            8,
            8,
            8,
            8,
            8,
            8,
            8,
            8,
            8,
            8,
            8,
            8,
            8,
            8,
            8,
            8,
            8,
            8,
            8,
            8,
            8,
            8,
            8,
            8,
            8,
            8,
            8,
            8,
            8,
            8,
            8,
            8,
            8,
            8,
            8,
            8,
            8,
            8,
            8,
            8,
            8,
            8,
            8,
            8,
            8,
            8,
            8,
            8,
            8,
            8,
            8,
            8,
            7,
            7,
            7,
            7,
            7,
            7,
            7,
            7,
            7,
            7,
            7,
            7,
            7,
            7,
            7,
            7,
            7,
            7,
            7,
            7,
            7,
            7,
            7,
            7,
            7,
            7,
            7,
            7,
            7,
            7,
            7,
            7,
            7,
            7,
            7,
            7,
            7,
            7,
            7,
            7,
            7,
            7,
            7,
            7,
            7,
            7,
            7,
            7,
            7,
            7,
            7,
            7,
            7,
            7,
            7,
            7,
            7,
            7,
            7,
            7,
            7,
            7,
            7,
            7,
            7,
            7,
            7,
            7,
            7,
            7,
            7,
            7,
            7,
            7,
            7,
            7,
            7,
            7,
            7,
            7,
            7,
            7,
            7,
            7,
            7,
            7,
            7,
            7,
            7,
            7,
            7,
            7,
            7,
            7,
            7,
            7,
            7,
            7,
            7,
            7,
            7,
            7,
            6,
            6,
            6,
            6,
            6,
            6,
            6,
            6,
            6,
            6,
            6,
            6,
            6,
            6,
            6,
            6,
            6,
            6,
            6,
            6,
            6,
            6,
            6,
            6,
            6,
            6,
            6,
            6,
            6,
            6,
            6,
            6,
            6,
            6,
            6,
            6,
            6,
            6,
            6,
            6,
            6,
            6,
            6,
            6,
            6,
            6,
            6,
            6,
            6,
            6,
            6,
            6,
            6,
            6,
            6,
            6,
            6,
            6,
            6,
            6,
            6,
            6,
            6,
            6,
            6,
            6,
            6,
            6,
            6,
            6,
            6,
            6,
            6,
            6,
            6,
            6,
            6,
            6,
            6,
            6,
            6,
            6,
            6,
            6,
            6,
            6,
            6,
            6,
            6,
            6,
            6,
            6,
            6,
            6,
            6,
            6,
            6,
            6,
            5,
            5,
            5,
            5,
            5,
            5,
            5,
            5,
            5,
            5,
            5,
            5,
            5,
            5,
            5,
            5,
            5,
            5,
            5,
            5,
            5,
            5,
            5,
            5,
            5,
            5,
            5,
            5,
            5,
            5,
            5,
            5,
            5,
            5,
            5,
            5,
            5,
            5,
            5,
            5,
            5,
            5,
            5,
            5,
            5,
            5,
            5,
            5,
            5,
            5,
            5,
            5,
            5,
            5,
            5,
            5,
            5,
            5,
            5,
            5,
            5,
            5,
            5,
            5,
            5,
            5,
            5,
            5,
            5,
            5,
            5,
            5,
            5,
            5,
            5,
            5,
            5,
            5,
            4,
            4,
            4,
            4,
            4,
            4,
            4,
            4,
            4,
            4,
            4,
            4,
            4,
            4,
            4,
            4,
            4,
            4,
            4,
            4,
            4,
            4,
            4,
            4,
            4,
            4,
            4,
            4,
            4,
            4,
            4,
            4,
            4,
            4,
            4,
            4,
            4,
            4,
            4,
            4,
            4,
            4,
            4,
            4,
            4,
            4,
            4,
            4,
            4,
            4,
            4,
            4,
            3,
            3,
            3,
            3,
            3,
            3,
            3,
            3,
            3,
            3,
            3,
            3,
            3,
            3,
            3,
            3,
            3,
            3,
            3,
            3,
            3,
            3,
            3,
            3,
            3,
            3,
            3,
            3,
            3,
            3,
            3,
            3,
            3,
            3,
            3,
            3,
            3,
            3,
            3,
            2,
            2,
            2,
            2,
            2,
            2,
            2,
            2,
            2,
            2,
            2,
            2,
            2,
            2,
            2,
            2,
            2,
            2,
            2,
            1,
            1,
            1,
            1,
            1,
            1,
            1,
            1,
            1,
            1,
            1,
            1,
            1,
            1,
            1,
            1,
            1,
            1
           ]
          ]
         },
         "header": {
          "values": [
           "UserID",
           "Count"
          ]
         },
         "type": "table"
        }
       ],
       "layout": {
        "template": {
         "data": {
          "bar": [
           {
            "error_x": {
             "color": "#2a3f5f"
            },
            "error_y": {
             "color": "#2a3f5f"
            },
            "marker": {
             "line": {
              "color": "#E5ECF6",
              "width": 0.5
             },
             "pattern": {
              "fillmode": "overlay",
              "size": 10,
              "solidity": 0.2
             }
            },
            "type": "bar"
           }
          ],
          "barpolar": [
           {
            "marker": {
             "line": {
              "color": "#E5ECF6",
              "width": 0.5
             },
             "pattern": {
              "fillmode": "overlay",
              "size": 10,
              "solidity": 0.2
             }
            },
            "type": "barpolar"
           }
          ],
          "carpet": [
           {
            "aaxis": {
             "endlinecolor": "#2a3f5f",
             "gridcolor": "white",
             "linecolor": "white",
             "minorgridcolor": "white",
             "startlinecolor": "#2a3f5f"
            },
            "baxis": {
             "endlinecolor": "#2a3f5f",
             "gridcolor": "white",
             "linecolor": "white",
             "minorgridcolor": "white",
             "startlinecolor": "#2a3f5f"
            },
            "type": "carpet"
           }
          ],
          "choropleth": [
           {
            "colorbar": {
             "outlinewidth": 0,
             "ticks": ""
            },
            "type": "choropleth"
           }
          ],
          "contour": [
           {
            "colorbar": {
             "outlinewidth": 0,
             "ticks": ""
            },
            "colorscale": [
             [
              0,
              "#0d0887"
             ],
             [
              0.1111111111111111,
              "#46039f"
             ],
             [
              0.2222222222222222,
              "#7201a8"
             ],
             [
              0.3333333333333333,
              "#9c179e"
             ],
             [
              0.4444444444444444,
              "#bd3786"
             ],
             [
              0.5555555555555556,
              "#d8576b"
             ],
             [
              0.6666666666666666,
              "#ed7953"
             ],
             [
              0.7777777777777778,
              "#fb9f3a"
             ],
             [
              0.8888888888888888,
              "#fdca26"
             ],
             [
              1,
              "#f0f921"
             ]
            ],
            "type": "contour"
           }
          ],
          "contourcarpet": [
           {
            "colorbar": {
             "outlinewidth": 0,
             "ticks": ""
            },
            "type": "contourcarpet"
           }
          ],
          "heatmap": [
           {
            "colorbar": {
             "outlinewidth": 0,
             "ticks": ""
            },
            "colorscale": [
             [
              0,
              "#0d0887"
             ],
             [
              0.1111111111111111,
              "#46039f"
             ],
             [
              0.2222222222222222,
              "#7201a8"
             ],
             [
              0.3333333333333333,
              "#9c179e"
             ],
             [
              0.4444444444444444,
              "#bd3786"
             ],
             [
              0.5555555555555556,
              "#d8576b"
             ],
             [
              0.6666666666666666,
              "#ed7953"
             ],
             [
              0.7777777777777778,
              "#fb9f3a"
             ],
             [
              0.8888888888888888,
              "#fdca26"
             ],
             [
              1,
              "#f0f921"
             ]
            ],
            "type": "heatmap"
           }
          ],
          "heatmapgl": [
           {
            "colorbar": {
             "outlinewidth": 0,
             "ticks": ""
            },
            "colorscale": [
             [
              0,
              "#0d0887"
             ],
             [
              0.1111111111111111,
              "#46039f"
             ],
             [
              0.2222222222222222,
              "#7201a8"
             ],
             [
              0.3333333333333333,
              "#9c179e"
             ],
             [
              0.4444444444444444,
              "#bd3786"
             ],
             [
              0.5555555555555556,
              "#d8576b"
             ],
             [
              0.6666666666666666,
              "#ed7953"
             ],
             [
              0.7777777777777778,
              "#fb9f3a"
             ],
             [
              0.8888888888888888,
              "#fdca26"
             ],
             [
              1,
              "#f0f921"
             ]
            ],
            "type": "heatmapgl"
           }
          ],
          "histogram": [
           {
            "marker": {
             "pattern": {
              "fillmode": "overlay",
              "size": 10,
              "solidity": 0.2
             }
            },
            "type": "histogram"
           }
          ],
          "histogram2d": [
           {
            "colorbar": {
             "outlinewidth": 0,
             "ticks": ""
            },
            "colorscale": [
             [
              0,
              "#0d0887"
             ],
             [
              0.1111111111111111,
              "#46039f"
             ],
             [
              0.2222222222222222,
              "#7201a8"
             ],
             [
              0.3333333333333333,
              "#9c179e"
             ],
             [
              0.4444444444444444,
              "#bd3786"
             ],
             [
              0.5555555555555556,
              "#d8576b"
             ],
             [
              0.6666666666666666,
              "#ed7953"
             ],
             [
              0.7777777777777778,
              "#fb9f3a"
             ],
             [
              0.8888888888888888,
              "#fdca26"
             ],
             [
              1,
              "#f0f921"
             ]
            ],
            "type": "histogram2d"
           }
          ],
          "histogram2dcontour": [
           {
            "colorbar": {
             "outlinewidth": 0,
             "ticks": ""
            },
            "colorscale": [
             [
              0,
              "#0d0887"
             ],
             [
              0.1111111111111111,
              "#46039f"
             ],
             [
              0.2222222222222222,
              "#7201a8"
             ],
             [
              0.3333333333333333,
              "#9c179e"
             ],
             [
              0.4444444444444444,
              "#bd3786"
             ],
             [
              0.5555555555555556,
              "#d8576b"
             ],
             [
              0.6666666666666666,
              "#ed7953"
             ],
             [
              0.7777777777777778,
              "#fb9f3a"
             ],
             [
              0.8888888888888888,
              "#fdca26"
             ],
             [
              1,
              "#f0f921"
             ]
            ],
            "type": "histogram2dcontour"
           }
          ],
          "mesh3d": [
           {
            "colorbar": {
             "outlinewidth": 0,
             "ticks": ""
            },
            "type": "mesh3d"
           }
          ],
          "parcoords": [
           {
            "line": {
             "colorbar": {
              "outlinewidth": 0,
              "ticks": ""
             }
            },
            "type": "parcoords"
           }
          ],
          "pie": [
           {
            "automargin": true,
            "type": "pie"
           }
          ],
          "scatter": [
           {
            "fillpattern": {
             "fillmode": "overlay",
             "size": 10,
             "solidity": 0.2
            },
            "type": "scatter"
           }
          ],
          "scatter3d": [
           {
            "line": {
             "colorbar": {
              "outlinewidth": 0,
              "ticks": ""
             }
            },
            "marker": {
             "colorbar": {
              "outlinewidth": 0,
              "ticks": ""
             }
            },
            "type": "scatter3d"
           }
          ],
          "scattercarpet": [
           {
            "marker": {
             "colorbar": {
              "outlinewidth": 0,
              "ticks": ""
             }
            },
            "type": "scattercarpet"
           }
          ],
          "scattergeo": [
           {
            "marker": {
             "colorbar": {
              "outlinewidth": 0,
              "ticks": ""
             }
            },
            "type": "scattergeo"
           }
          ],
          "scattergl": [
           {
            "marker": {
             "colorbar": {
              "outlinewidth": 0,
              "ticks": ""
             }
            },
            "type": "scattergl"
           }
          ],
          "scattermapbox": [
           {
            "marker": {
             "colorbar": {
              "outlinewidth": 0,
              "ticks": ""
             }
            },
            "type": "scattermapbox"
           }
          ],
          "scatterpolar": [
           {
            "marker": {
             "colorbar": {
              "outlinewidth": 0,
              "ticks": ""
             }
            },
            "type": "scatterpolar"
           }
          ],
          "scatterpolargl": [
           {
            "marker": {
             "colorbar": {
              "outlinewidth": 0,
              "ticks": ""
             }
            },
            "type": "scatterpolargl"
           }
          ],
          "scatterternary": [
           {
            "marker": {
             "colorbar": {
              "outlinewidth": 0,
              "ticks": ""
             }
            },
            "type": "scatterternary"
           }
          ],
          "surface": [
           {
            "colorbar": {
             "outlinewidth": 0,
             "ticks": ""
            },
            "colorscale": [
             [
              0,
              "#0d0887"
             ],
             [
              0.1111111111111111,
              "#46039f"
             ],
             [
              0.2222222222222222,
              "#7201a8"
             ],
             [
              0.3333333333333333,
              "#9c179e"
             ],
             [
              0.4444444444444444,
              "#bd3786"
             ],
             [
              0.5555555555555556,
              "#d8576b"
             ],
             [
              0.6666666666666666,
              "#ed7953"
             ],
             [
              0.7777777777777778,
              "#fb9f3a"
             ],
             [
              0.8888888888888888,
              "#fdca26"
             ],
             [
              1,
              "#f0f921"
             ]
            ],
            "type": "surface"
           }
          ],
          "table": [
           {
            "cells": {
             "fill": {
              "color": "#EBF0F8"
             },
             "line": {
              "color": "white"
             }
            },
            "header": {
             "fill": {
              "color": "#C8D4E3"
             },
             "line": {
              "color": "white"
             }
            },
            "type": "table"
           }
          ]
         },
         "layout": {
          "annotationdefaults": {
           "arrowcolor": "#2a3f5f",
           "arrowhead": 0,
           "arrowwidth": 1
          },
          "autotypenumbers": "strict",
          "coloraxis": {
           "colorbar": {
            "outlinewidth": 0,
            "ticks": ""
           }
          },
          "colorscale": {
           "diverging": [
            [
             0,
             "#8e0152"
            ],
            [
             0.1,
             "#c51b7d"
            ],
            [
             0.2,
             "#de77ae"
            ],
            [
             0.3,
             "#f1b6da"
            ],
            [
             0.4,
             "#fde0ef"
            ],
            [
             0.5,
             "#f7f7f7"
            ],
            [
             0.6,
             "#e6f5d0"
            ],
            [
             0.7,
             "#b8e186"
            ],
            [
             0.8,
             "#7fbc41"
            ],
            [
             0.9,
             "#4d9221"
            ],
            [
             1,
             "#276419"
            ]
           ],
           "sequential": [
            [
             0,
             "#0d0887"
            ],
            [
             0.1111111111111111,
             "#46039f"
            ],
            [
             0.2222222222222222,
             "#7201a8"
            ],
            [
             0.3333333333333333,
             "#9c179e"
            ],
            [
             0.4444444444444444,
             "#bd3786"
            ],
            [
             0.5555555555555556,
             "#d8576b"
            ],
            [
             0.6666666666666666,
             "#ed7953"
            ],
            [
             0.7777777777777778,
             "#fb9f3a"
            ],
            [
             0.8888888888888888,
             "#fdca26"
            ],
            [
             1,
             "#f0f921"
            ]
           ],
           "sequentialminus": [
            [
             0,
             "#0d0887"
            ],
            [
             0.1111111111111111,
             "#46039f"
            ],
            [
             0.2222222222222222,
             "#7201a8"
            ],
            [
             0.3333333333333333,
             "#9c179e"
            ],
            [
             0.4444444444444444,
             "#bd3786"
            ],
            [
             0.5555555555555556,
             "#d8576b"
            ],
            [
             0.6666666666666666,
             "#ed7953"
            ],
            [
             0.7777777777777778,
             "#fb9f3a"
            ],
            [
             0.8888888888888888,
             "#fdca26"
            ],
            [
             1,
             "#f0f921"
            ]
           ]
          },
          "colorway": [
           "#636efa",
           "#EF553B",
           "#00cc96",
           "#ab63fa",
           "#FFA15A",
           "#19d3f3",
           "#FF6692",
           "#B6E880",
           "#FF97FF",
           "#FECB52"
          ],
          "font": {
           "color": "#2a3f5f"
          },
          "geo": {
           "bgcolor": "white",
           "lakecolor": "white",
           "landcolor": "#E5ECF6",
           "showlakes": true,
           "showland": true,
           "subunitcolor": "white"
          },
          "hoverlabel": {
           "align": "left"
          },
          "hovermode": "closest",
          "mapbox": {
           "style": "light"
          },
          "paper_bgcolor": "white",
          "plot_bgcolor": "#E5ECF6",
          "polar": {
           "angularaxis": {
            "gridcolor": "white",
            "linecolor": "white",
            "ticks": ""
           },
           "bgcolor": "#E5ECF6",
           "radialaxis": {
            "gridcolor": "white",
            "linecolor": "white",
            "ticks": ""
           }
          },
          "scene": {
           "xaxis": {
            "backgroundcolor": "#E5ECF6",
            "gridcolor": "white",
            "gridwidth": 2,
            "linecolor": "white",
            "showbackground": true,
            "ticks": "",
            "zerolinecolor": "white"
           },
           "yaxis": {
            "backgroundcolor": "#E5ECF6",
            "gridcolor": "white",
            "gridwidth": 2,
            "linecolor": "white",
            "showbackground": true,
            "ticks": "",
            "zerolinecolor": "white"
           },
           "zaxis": {
            "backgroundcolor": "#E5ECF6",
            "gridcolor": "white",
            "gridwidth": 2,
            "linecolor": "white",
            "showbackground": true,
            "ticks": "",
            "zerolinecolor": "white"
           }
          },
          "shapedefaults": {
           "line": {
            "color": "#2a3f5f"
           }
          },
          "ternary": {
           "aaxis": {
            "gridcolor": "white",
            "linecolor": "white",
            "ticks": ""
           },
           "baxis": {
            "gridcolor": "white",
            "linecolor": "white",
            "ticks": ""
           },
           "bgcolor": "#E5ECF6",
           "caxis": {
            "gridcolor": "white",
            "linecolor": "white",
            "ticks": ""
           }
          },
          "title": {
           "x": 0.05
          },
          "xaxis": {
           "automargin": true,
           "gridcolor": "white",
           "linecolor": "white",
           "ticks": "",
           "title": {
            "standoff": 15
           },
           "zerolinecolor": "white",
           "zerolinewidth": 2
          },
          "yaxis": {
           "automargin": true,
           "gridcolor": "white",
           "linecolor": "white",
           "ticks": "",
           "title": {
            "standoff": 15
           },
           "zerolinecolor": "white",
           "zerolinewidth": 2
          }
         }
        },
        "title": {
         "text": "UserID Counts"
        }
       }
      }
     },
     "metadata": {},
     "output_type": "display_data"
    }
   ],
   "source": [
    "# Calculate the count of each UserID using value_counts\n",
    "userid_counts = elearning['UserID'].value_counts()\n",
    "\n",
    "# Create table data\n",
    "data = go.Table(\n",
    "    header=dict(values=['UserID', 'Count']),\n",
    "    cells=dict(values=[userid_counts.index, userid_counts.values])\n",
    ")\n",
    "\n",
    "# Create layout\n",
    "layout = go.Layout(title='UserID Counts')\n",
    "\n",
    "# Create the chart\n",
    "fig = go.Figure(data=data, layout=layout)\n",
    "\n",
    "# Show the chart\n",
    "fig.show()"
   ]
  },
  {
   "cell_type": "markdown",
   "metadata": {},
   "source": [
    "User 1040 has 35 times user behaviors in this dataset, the most of any user."
   ]
  },
  {
   "cell_type": "code",
   "execution_count": 13,
   "metadata": {},
   "outputs": [
    {
     "data": {
      "application/vnd.plotly.v1+json": {
       "config": {
        "plotlyServerURL": "https://plot.ly"
       },
       "data": [
        {
         "type": "histogram",
         "x": [
          35,
          31,
          29,
          28,
          28,
          27,
          26,
          26,
          26,
          25,
          25,
          25,
          25,
          24,
          24,
          24,
          24,
          24,
          24,
          24,
          24,
          23,
          23,
          22,
          22,
          22,
          22,
          22,
          22,
          22,
          22,
          22,
          22,
          22,
          22,
          22,
          22,
          22,
          22,
          21,
          21,
          21,
          21,
          21,
          21,
          21,
          21,
          21,
          21,
          21,
          21,
          21,
          21,
          21,
          21,
          21,
          21,
          21,
          21,
          20,
          20,
          20,
          20,
          20,
          20,
          20,
          20,
          20,
          20,
          20,
          20,
          20,
          20,
          20,
          20,
          20,
          20,
          19,
          19,
          19,
          19,
          19,
          19,
          19,
          19,
          19,
          19,
          19,
          19,
          19,
          19,
          19,
          19,
          19,
          19,
          19,
          19,
          19,
          19,
          19,
          19,
          19,
          19,
          19,
          19,
          18,
          18,
          18,
          18,
          18,
          18,
          18,
          18,
          18,
          18,
          18,
          18,
          18,
          18,
          18,
          18,
          18,
          18,
          18,
          18,
          18,
          18,
          18,
          18,
          18,
          18,
          18,
          18,
          18,
          18,
          18,
          18,
          18,
          18,
          18,
          18,
          18,
          18,
          18,
          18,
          18,
          18,
          18,
          18,
          17,
          17,
          17,
          17,
          17,
          17,
          17,
          17,
          17,
          17,
          17,
          17,
          17,
          17,
          17,
          17,
          17,
          17,
          17,
          17,
          17,
          17,
          17,
          17,
          17,
          17,
          17,
          17,
          17,
          17,
          17,
          17,
          17,
          17,
          17,
          17,
          17,
          17,
          17,
          17,
          17,
          17,
          17,
          17,
          17,
          17,
          17,
          17,
          17,
          17,
          16,
          16,
          16,
          16,
          16,
          16,
          16,
          16,
          16,
          16,
          16,
          16,
          16,
          16,
          16,
          16,
          16,
          16,
          16,
          16,
          16,
          16,
          16,
          16,
          16,
          16,
          16,
          16,
          16,
          16,
          16,
          16,
          16,
          16,
          16,
          16,
          16,
          16,
          16,
          16,
          16,
          16,
          16,
          16,
          16,
          16,
          16,
          16,
          16,
          16,
          16,
          16,
          16,
          16,
          16,
          16,
          16,
          16,
          16,
          16,
          16,
          16,
          16,
          16,
          15,
          15,
          15,
          15,
          15,
          15,
          15,
          15,
          15,
          15,
          15,
          15,
          15,
          15,
          15,
          15,
          15,
          15,
          15,
          15,
          15,
          15,
          15,
          15,
          15,
          15,
          15,
          15,
          15,
          15,
          15,
          15,
          15,
          15,
          15,
          15,
          15,
          15,
          15,
          15,
          15,
          15,
          15,
          15,
          15,
          15,
          15,
          15,
          15,
          15,
          15,
          15,
          15,
          15,
          15,
          15,
          15,
          15,
          15,
          15,
          15,
          15,
          15,
          15,
          15,
          15,
          15,
          15,
          15,
          15,
          15,
          15,
          15,
          15,
          15,
          15,
          15,
          15,
          15,
          15,
          15,
          15,
          15,
          15,
          15,
          15,
          15,
          15,
          15,
          15,
          15,
          15,
          15,
          15,
          15,
          15,
          14,
          14,
          14,
          14,
          14,
          14,
          14,
          14,
          14,
          14,
          14,
          14,
          14,
          14,
          14,
          14,
          14,
          14,
          14,
          14,
          14,
          14,
          14,
          14,
          14,
          14,
          14,
          14,
          14,
          14,
          14,
          14,
          14,
          14,
          14,
          14,
          14,
          14,
          14,
          14,
          14,
          14,
          14,
          14,
          14,
          14,
          14,
          14,
          14,
          14,
          14,
          14,
          14,
          14,
          14,
          14,
          14,
          14,
          14,
          14,
          14,
          14,
          14,
          14,
          14,
          14,
          14,
          14,
          14,
          14,
          14,
          14,
          14,
          14,
          14,
          14,
          14,
          14,
          14,
          14,
          14,
          14,
          14,
          14,
          14,
          14,
          14,
          14,
          13,
          13,
          13,
          13,
          13,
          13,
          13,
          13,
          13,
          13,
          13,
          13,
          13,
          13,
          13,
          13,
          13,
          13,
          13,
          13,
          13,
          13,
          13,
          13,
          13,
          13,
          13,
          13,
          13,
          13,
          13,
          13,
          13,
          13,
          13,
          13,
          13,
          13,
          13,
          13,
          13,
          13,
          13,
          13,
          13,
          13,
          13,
          13,
          13,
          13,
          13,
          13,
          13,
          13,
          13,
          13,
          13,
          13,
          13,
          13,
          13,
          13,
          13,
          13,
          13,
          13,
          13,
          13,
          13,
          13,
          13,
          13,
          13,
          13,
          13,
          13,
          13,
          13,
          13,
          13,
          13,
          13,
          13,
          13,
          13,
          13,
          13,
          13,
          13,
          13,
          13,
          13,
          13,
          13,
          13,
          13,
          13,
          13,
          13,
          13,
          13,
          13,
          13,
          13,
          13,
          13,
          13,
          13,
          12,
          12,
          12,
          12,
          12,
          12,
          12,
          12,
          12,
          12,
          12,
          12,
          12,
          12,
          12,
          12,
          12,
          12,
          12,
          12,
          12,
          12,
          12,
          12,
          12,
          12,
          12,
          12,
          12,
          12,
          12,
          12,
          12,
          12,
          12,
          12,
          12,
          12,
          12,
          12,
          12,
          12,
          12,
          12,
          12,
          12,
          12,
          12,
          12,
          12,
          12,
          12,
          12,
          12,
          12,
          12,
          12,
          12,
          12,
          12,
          12,
          12,
          12,
          12,
          12,
          12,
          12,
          12,
          12,
          12,
          12,
          12,
          12,
          12,
          12,
          12,
          12,
          12,
          12,
          12,
          12,
          12,
          12,
          12,
          12,
          12,
          12,
          12,
          12,
          12,
          12,
          12,
          12,
          12,
          12,
          12,
          12,
          12,
          12,
          12,
          12,
          12,
          12,
          12,
          12,
          12,
          12,
          12,
          12,
          12,
          12,
          12,
          12,
          12,
          12,
          12,
          12,
          12,
          12,
          12,
          12,
          11,
          11,
          11,
          11,
          11,
          11,
          11,
          11,
          11,
          11,
          11,
          11,
          11,
          11,
          11,
          11,
          11,
          11,
          11,
          11,
          11,
          11,
          11,
          11,
          11,
          11,
          11,
          11,
          11,
          11,
          11,
          11,
          11,
          11,
          11,
          11,
          11,
          11,
          11,
          11,
          11,
          11,
          11,
          11,
          11,
          11,
          11,
          11,
          11,
          11,
          11,
          11,
          11,
          11,
          11,
          11,
          11,
          11,
          11,
          11,
          11,
          11,
          11,
          11,
          11,
          11,
          11,
          11,
          11,
          11,
          11,
          11,
          11,
          11,
          11,
          11,
          11,
          11,
          11,
          11,
          11,
          11,
          11,
          11,
          11,
          11,
          11,
          11,
          11,
          11,
          11,
          11,
          11,
          11,
          11,
          11,
          11,
          11,
          11,
          11,
          11,
          11,
          11,
          11,
          11,
          11,
          11,
          11,
          11,
          11,
          11,
          11,
          11,
          11,
          11,
          11,
          11,
          11,
          11,
          11,
          11,
          11,
          11,
          11,
          11,
          11,
          11,
          11,
          11,
          11,
          11,
          11,
          11,
          11,
          11,
          11,
          11,
          10,
          10,
          10,
          10,
          10,
          10,
          10,
          10,
          10,
          10,
          10,
          10,
          10,
          10,
          10,
          10,
          10,
          10,
          10,
          10,
          10,
          10,
          10,
          10,
          10,
          10,
          10,
          10,
          10,
          10,
          10,
          10,
          10,
          10,
          10,
          10,
          10,
          10,
          10,
          10,
          10,
          10,
          10,
          10,
          10,
          10,
          10,
          10,
          10,
          10,
          10,
          10,
          10,
          10,
          10,
          10,
          10,
          10,
          10,
          10,
          10,
          10,
          10,
          10,
          10,
          10,
          10,
          10,
          10,
          10,
          10,
          10,
          10,
          10,
          10,
          10,
          10,
          10,
          10,
          10,
          10,
          10,
          10,
          10,
          10,
          10,
          10,
          10,
          10,
          10,
          10,
          10,
          10,
          10,
          10,
          10,
          10,
          10,
          10,
          10,
          10,
          10,
          10,
          10,
          10,
          10,
          10,
          10,
          10,
          10,
          10,
          10,
          10,
          10,
          10,
          10,
          10,
          9,
          9,
          9,
          9,
          9,
          9,
          9,
          9,
          9,
          9,
          9,
          9,
          9,
          9,
          9,
          9,
          9,
          9,
          9,
          9,
          9,
          9,
          9,
          9,
          9,
          9,
          9,
          9,
          9,
          9,
          9,
          9,
          9,
          9,
          9,
          9,
          9,
          9,
          9,
          9,
          9,
          9,
          9,
          9,
          9,
          9,
          9,
          9,
          9,
          9,
          9,
          9,
          9,
          9,
          9,
          9,
          9,
          9,
          9,
          9,
          9,
          9,
          9,
          9,
          9,
          9,
          9,
          9,
          9,
          9,
          9,
          9,
          9,
          9,
          9,
          9,
          9,
          9,
          9,
          9,
          9,
          9,
          9,
          9,
          9,
          9,
          9,
          9,
          9,
          9,
          9,
          9,
          9,
          9,
          9,
          9,
          9,
          9,
          9,
          9,
          9,
          9,
          9,
          9,
          9,
          9,
          9,
          9,
          9,
          9,
          9,
          9,
          9,
          9,
          9,
          9,
          9,
          9,
          9,
          9,
          9,
          9,
          9,
          8,
          8,
          8,
          8,
          8,
          8,
          8,
          8,
          8,
          8,
          8,
          8,
          8,
          8,
          8,
          8,
          8,
          8,
          8,
          8,
          8,
          8,
          8,
          8,
          8,
          8,
          8,
          8,
          8,
          8,
          8,
          8,
          8,
          8,
          8,
          8,
          8,
          8,
          8,
          8,
          8,
          8,
          8,
          8,
          8,
          8,
          8,
          8,
          8,
          8,
          8,
          8,
          8,
          8,
          8,
          8,
          8,
          8,
          8,
          8,
          8,
          8,
          8,
          8,
          8,
          8,
          8,
          8,
          8,
          8,
          8,
          8,
          8,
          8,
          8,
          8,
          8,
          8,
          8,
          8,
          8,
          8,
          8,
          8,
          8,
          8,
          8,
          8,
          8,
          8,
          8,
          8,
          8,
          8,
          8,
          8,
          8,
          8,
          8,
          8,
          8,
          8,
          8,
          8,
          8,
          8,
          8,
          8,
          8,
          8,
          8,
          8,
          8,
          8,
          8,
          8,
          8,
          8,
          8,
          8,
          8,
          8,
          8,
          8,
          8,
          8,
          8,
          8,
          8,
          8,
          8,
          8,
          7,
          7,
          7,
          7,
          7,
          7,
          7,
          7,
          7,
          7,
          7,
          7,
          7,
          7,
          7,
          7,
          7,
          7,
          7,
          7,
          7,
          7,
          7,
          7,
          7,
          7,
          7,
          7,
          7,
          7,
          7,
          7,
          7,
          7,
          7,
          7,
          7,
          7,
          7,
          7,
          7,
          7,
          7,
          7,
          7,
          7,
          7,
          7,
          7,
          7,
          7,
          7,
          7,
          7,
          7,
          7,
          7,
          7,
          7,
          7,
          7,
          7,
          7,
          7,
          7,
          7,
          7,
          7,
          7,
          7,
          7,
          7,
          7,
          7,
          7,
          7,
          7,
          7,
          7,
          7,
          7,
          7,
          7,
          7,
          7,
          7,
          7,
          7,
          7,
          7,
          7,
          7,
          7,
          7,
          7,
          7,
          7,
          7,
          7,
          7,
          7,
          7,
          6,
          6,
          6,
          6,
          6,
          6,
          6,
          6,
          6,
          6,
          6,
          6,
          6,
          6,
          6,
          6,
          6,
          6,
          6,
          6,
          6,
          6,
          6,
          6,
          6,
          6,
          6,
          6,
          6,
          6,
          6,
          6,
          6,
          6,
          6,
          6,
          6,
          6,
          6,
          6,
          6,
          6,
          6,
          6,
          6,
          6,
          6,
          6,
          6,
          6,
          6,
          6,
          6,
          6,
          6,
          6,
          6,
          6,
          6,
          6,
          6,
          6,
          6,
          6,
          6,
          6,
          6,
          6,
          6,
          6,
          6,
          6,
          6,
          6,
          6,
          6,
          6,
          6,
          6,
          6,
          6,
          6,
          6,
          6,
          6,
          6,
          6,
          6,
          6,
          6,
          6,
          6,
          6,
          6,
          6,
          6,
          6,
          6,
          5,
          5,
          5,
          5,
          5,
          5,
          5,
          5,
          5,
          5,
          5,
          5,
          5,
          5,
          5,
          5,
          5,
          5,
          5,
          5,
          5,
          5,
          5,
          5,
          5,
          5,
          5,
          5,
          5,
          5,
          5,
          5,
          5,
          5,
          5,
          5,
          5,
          5,
          5,
          5,
          5,
          5,
          5,
          5,
          5,
          5,
          5,
          5,
          5,
          5,
          5,
          5,
          5,
          5,
          5,
          5,
          5,
          5,
          5,
          5,
          5,
          5,
          5,
          5,
          5,
          5,
          5,
          5,
          5,
          5,
          5,
          5,
          5,
          5,
          5,
          5,
          5,
          5,
          4,
          4,
          4,
          4,
          4,
          4,
          4,
          4,
          4,
          4,
          4,
          4,
          4,
          4,
          4,
          4,
          4,
          4,
          4,
          4,
          4,
          4,
          4,
          4,
          4,
          4,
          4,
          4,
          4,
          4,
          4,
          4,
          4,
          4,
          4,
          4,
          4,
          4,
          4,
          4,
          4,
          4,
          4,
          4,
          4,
          4,
          4,
          4,
          4,
          4,
          4,
          4,
          3,
          3,
          3,
          3,
          3,
          3,
          3,
          3,
          3,
          3,
          3,
          3,
          3,
          3,
          3,
          3,
          3,
          3,
          3,
          3,
          3,
          3,
          3,
          3,
          3,
          3,
          3,
          3,
          3,
          3,
          3,
          3,
          3,
          3,
          3,
          3,
          3,
          3,
          3,
          2,
          2,
          2,
          2,
          2,
          2,
          2,
          2,
          2,
          2,
          2,
          2,
          2,
          2,
          2,
          2,
          2,
          2,
          2,
          1,
          1,
          1,
          1,
          1,
          1,
          1,
          1,
          1,
          1,
          1,
          1,
          1,
          1,
          1,
          1,
          1,
          1
         ]
        }
       ],
       "layout": {
        "template": {
         "data": {
          "bar": [
           {
            "error_x": {
             "color": "#2a3f5f"
            },
            "error_y": {
             "color": "#2a3f5f"
            },
            "marker": {
             "line": {
              "color": "#E5ECF6",
              "width": 0.5
             },
             "pattern": {
              "fillmode": "overlay",
              "size": 10,
              "solidity": 0.2
             }
            },
            "type": "bar"
           }
          ],
          "barpolar": [
           {
            "marker": {
             "line": {
              "color": "#E5ECF6",
              "width": 0.5
             },
             "pattern": {
              "fillmode": "overlay",
              "size": 10,
              "solidity": 0.2
             }
            },
            "type": "barpolar"
           }
          ],
          "carpet": [
           {
            "aaxis": {
             "endlinecolor": "#2a3f5f",
             "gridcolor": "white",
             "linecolor": "white",
             "minorgridcolor": "white",
             "startlinecolor": "#2a3f5f"
            },
            "baxis": {
             "endlinecolor": "#2a3f5f",
             "gridcolor": "white",
             "linecolor": "white",
             "minorgridcolor": "white",
             "startlinecolor": "#2a3f5f"
            },
            "type": "carpet"
           }
          ],
          "choropleth": [
           {
            "colorbar": {
             "outlinewidth": 0,
             "ticks": ""
            },
            "type": "choropleth"
           }
          ],
          "contour": [
           {
            "colorbar": {
             "outlinewidth": 0,
             "ticks": ""
            },
            "colorscale": [
             [
              0,
              "#0d0887"
             ],
             [
              0.1111111111111111,
              "#46039f"
             ],
             [
              0.2222222222222222,
              "#7201a8"
             ],
             [
              0.3333333333333333,
              "#9c179e"
             ],
             [
              0.4444444444444444,
              "#bd3786"
             ],
             [
              0.5555555555555556,
              "#d8576b"
             ],
             [
              0.6666666666666666,
              "#ed7953"
             ],
             [
              0.7777777777777778,
              "#fb9f3a"
             ],
             [
              0.8888888888888888,
              "#fdca26"
             ],
             [
              1,
              "#f0f921"
             ]
            ],
            "type": "contour"
           }
          ],
          "contourcarpet": [
           {
            "colorbar": {
             "outlinewidth": 0,
             "ticks": ""
            },
            "type": "contourcarpet"
           }
          ],
          "heatmap": [
           {
            "colorbar": {
             "outlinewidth": 0,
             "ticks": ""
            },
            "colorscale": [
             [
              0,
              "#0d0887"
             ],
             [
              0.1111111111111111,
              "#46039f"
             ],
             [
              0.2222222222222222,
              "#7201a8"
             ],
             [
              0.3333333333333333,
              "#9c179e"
             ],
             [
              0.4444444444444444,
              "#bd3786"
             ],
             [
              0.5555555555555556,
              "#d8576b"
             ],
             [
              0.6666666666666666,
              "#ed7953"
             ],
             [
              0.7777777777777778,
              "#fb9f3a"
             ],
             [
              0.8888888888888888,
              "#fdca26"
             ],
             [
              1,
              "#f0f921"
             ]
            ],
            "type": "heatmap"
           }
          ],
          "heatmapgl": [
           {
            "colorbar": {
             "outlinewidth": 0,
             "ticks": ""
            },
            "colorscale": [
             [
              0,
              "#0d0887"
             ],
             [
              0.1111111111111111,
              "#46039f"
             ],
             [
              0.2222222222222222,
              "#7201a8"
             ],
             [
              0.3333333333333333,
              "#9c179e"
             ],
             [
              0.4444444444444444,
              "#bd3786"
             ],
             [
              0.5555555555555556,
              "#d8576b"
             ],
             [
              0.6666666666666666,
              "#ed7953"
             ],
             [
              0.7777777777777778,
              "#fb9f3a"
             ],
             [
              0.8888888888888888,
              "#fdca26"
             ],
             [
              1,
              "#f0f921"
             ]
            ],
            "type": "heatmapgl"
           }
          ],
          "histogram": [
           {
            "marker": {
             "pattern": {
              "fillmode": "overlay",
              "size": 10,
              "solidity": 0.2
             }
            },
            "type": "histogram"
           }
          ],
          "histogram2d": [
           {
            "colorbar": {
             "outlinewidth": 0,
             "ticks": ""
            },
            "colorscale": [
             [
              0,
              "#0d0887"
             ],
             [
              0.1111111111111111,
              "#46039f"
             ],
             [
              0.2222222222222222,
              "#7201a8"
             ],
             [
              0.3333333333333333,
              "#9c179e"
             ],
             [
              0.4444444444444444,
              "#bd3786"
             ],
             [
              0.5555555555555556,
              "#d8576b"
             ],
             [
              0.6666666666666666,
              "#ed7953"
             ],
             [
              0.7777777777777778,
              "#fb9f3a"
             ],
             [
              0.8888888888888888,
              "#fdca26"
             ],
             [
              1,
              "#f0f921"
             ]
            ],
            "type": "histogram2d"
           }
          ],
          "histogram2dcontour": [
           {
            "colorbar": {
             "outlinewidth": 0,
             "ticks": ""
            },
            "colorscale": [
             [
              0,
              "#0d0887"
             ],
             [
              0.1111111111111111,
              "#46039f"
             ],
             [
              0.2222222222222222,
              "#7201a8"
             ],
             [
              0.3333333333333333,
              "#9c179e"
             ],
             [
              0.4444444444444444,
              "#bd3786"
             ],
             [
              0.5555555555555556,
              "#d8576b"
             ],
             [
              0.6666666666666666,
              "#ed7953"
             ],
             [
              0.7777777777777778,
              "#fb9f3a"
             ],
             [
              0.8888888888888888,
              "#fdca26"
             ],
             [
              1,
              "#f0f921"
             ]
            ],
            "type": "histogram2dcontour"
           }
          ],
          "mesh3d": [
           {
            "colorbar": {
             "outlinewidth": 0,
             "ticks": ""
            },
            "type": "mesh3d"
           }
          ],
          "parcoords": [
           {
            "line": {
             "colorbar": {
              "outlinewidth": 0,
              "ticks": ""
             }
            },
            "type": "parcoords"
           }
          ],
          "pie": [
           {
            "automargin": true,
            "type": "pie"
           }
          ],
          "scatter": [
           {
            "fillpattern": {
             "fillmode": "overlay",
             "size": 10,
             "solidity": 0.2
            },
            "type": "scatter"
           }
          ],
          "scatter3d": [
           {
            "line": {
             "colorbar": {
              "outlinewidth": 0,
              "ticks": ""
             }
            },
            "marker": {
             "colorbar": {
              "outlinewidth": 0,
              "ticks": ""
             }
            },
            "type": "scatter3d"
           }
          ],
          "scattercarpet": [
           {
            "marker": {
             "colorbar": {
              "outlinewidth": 0,
              "ticks": ""
             }
            },
            "type": "scattercarpet"
           }
          ],
          "scattergeo": [
           {
            "marker": {
             "colorbar": {
              "outlinewidth": 0,
              "ticks": ""
             }
            },
            "type": "scattergeo"
           }
          ],
          "scattergl": [
           {
            "marker": {
             "colorbar": {
              "outlinewidth": 0,
              "ticks": ""
             }
            },
            "type": "scattergl"
           }
          ],
          "scattermapbox": [
           {
            "marker": {
             "colorbar": {
              "outlinewidth": 0,
              "ticks": ""
             }
            },
            "type": "scattermapbox"
           }
          ],
          "scatterpolar": [
           {
            "marker": {
             "colorbar": {
              "outlinewidth": 0,
              "ticks": ""
             }
            },
            "type": "scatterpolar"
           }
          ],
          "scatterpolargl": [
           {
            "marker": {
             "colorbar": {
              "outlinewidth": 0,
              "ticks": ""
             }
            },
            "type": "scatterpolargl"
           }
          ],
          "scatterternary": [
           {
            "marker": {
             "colorbar": {
              "outlinewidth": 0,
              "ticks": ""
             }
            },
            "type": "scatterternary"
           }
          ],
          "surface": [
           {
            "colorbar": {
             "outlinewidth": 0,
             "ticks": ""
            },
            "colorscale": [
             [
              0,
              "#0d0887"
             ],
             [
              0.1111111111111111,
              "#46039f"
             ],
             [
              0.2222222222222222,
              "#7201a8"
             ],
             [
              0.3333333333333333,
              "#9c179e"
             ],
             [
              0.4444444444444444,
              "#bd3786"
             ],
             [
              0.5555555555555556,
              "#d8576b"
             ],
             [
              0.6666666666666666,
              "#ed7953"
             ],
             [
              0.7777777777777778,
              "#fb9f3a"
             ],
             [
              0.8888888888888888,
              "#fdca26"
             ],
             [
              1,
              "#f0f921"
             ]
            ],
            "type": "surface"
           }
          ],
          "table": [
           {
            "cells": {
             "fill": {
              "color": "#EBF0F8"
             },
             "line": {
              "color": "white"
             }
            },
            "header": {
             "fill": {
              "color": "#C8D4E3"
             },
             "line": {
              "color": "white"
             }
            },
            "type": "table"
           }
          ]
         },
         "layout": {
          "annotationdefaults": {
           "arrowcolor": "#2a3f5f",
           "arrowhead": 0,
           "arrowwidth": 1
          },
          "autotypenumbers": "strict",
          "coloraxis": {
           "colorbar": {
            "outlinewidth": 0,
            "ticks": ""
           }
          },
          "colorscale": {
           "diverging": [
            [
             0,
             "#8e0152"
            ],
            [
             0.1,
             "#c51b7d"
            ],
            [
             0.2,
             "#de77ae"
            ],
            [
             0.3,
             "#f1b6da"
            ],
            [
             0.4,
             "#fde0ef"
            ],
            [
             0.5,
             "#f7f7f7"
            ],
            [
             0.6,
             "#e6f5d0"
            ],
            [
             0.7,
             "#b8e186"
            ],
            [
             0.8,
             "#7fbc41"
            ],
            [
             0.9,
             "#4d9221"
            ],
            [
             1,
             "#276419"
            ]
           ],
           "sequential": [
            [
             0,
             "#0d0887"
            ],
            [
             0.1111111111111111,
             "#46039f"
            ],
            [
             0.2222222222222222,
             "#7201a8"
            ],
            [
             0.3333333333333333,
             "#9c179e"
            ],
            [
             0.4444444444444444,
             "#bd3786"
            ],
            [
             0.5555555555555556,
             "#d8576b"
            ],
            [
             0.6666666666666666,
             "#ed7953"
            ],
            [
             0.7777777777777778,
             "#fb9f3a"
            ],
            [
             0.8888888888888888,
             "#fdca26"
            ],
            [
             1,
             "#f0f921"
            ]
           ],
           "sequentialminus": [
            [
             0,
             "#0d0887"
            ],
            [
             0.1111111111111111,
             "#46039f"
            ],
            [
             0.2222222222222222,
             "#7201a8"
            ],
            [
             0.3333333333333333,
             "#9c179e"
            ],
            [
             0.4444444444444444,
             "#bd3786"
            ],
            [
             0.5555555555555556,
             "#d8576b"
            ],
            [
             0.6666666666666666,
             "#ed7953"
            ],
            [
             0.7777777777777778,
             "#fb9f3a"
            ],
            [
             0.8888888888888888,
             "#fdca26"
            ],
            [
             1,
             "#f0f921"
            ]
           ]
          },
          "colorway": [
           "#636efa",
           "#EF553B",
           "#00cc96",
           "#ab63fa",
           "#FFA15A",
           "#19d3f3",
           "#FF6692",
           "#B6E880",
           "#FF97FF",
           "#FECB52"
          ],
          "font": {
           "color": "#2a3f5f"
          },
          "geo": {
           "bgcolor": "white",
           "lakecolor": "white",
           "landcolor": "#E5ECF6",
           "showlakes": true,
           "showland": true,
           "subunitcolor": "white"
          },
          "hoverlabel": {
           "align": "left"
          },
          "hovermode": "closest",
          "mapbox": {
           "style": "light"
          },
          "paper_bgcolor": "white",
          "plot_bgcolor": "#E5ECF6",
          "polar": {
           "angularaxis": {
            "gridcolor": "white",
            "linecolor": "white",
            "ticks": ""
           },
           "bgcolor": "#E5ECF6",
           "radialaxis": {
            "gridcolor": "white",
            "linecolor": "white",
            "ticks": ""
           }
          },
          "scene": {
           "xaxis": {
            "backgroundcolor": "#E5ECF6",
            "gridcolor": "white",
            "gridwidth": 2,
            "linecolor": "white",
            "showbackground": true,
            "ticks": "",
            "zerolinecolor": "white"
           },
           "yaxis": {
            "backgroundcolor": "#E5ECF6",
            "gridcolor": "white",
            "gridwidth": 2,
            "linecolor": "white",
            "showbackground": true,
            "ticks": "",
            "zerolinecolor": "white"
           },
           "zaxis": {
            "backgroundcolor": "#E5ECF6",
            "gridcolor": "white",
            "gridwidth": 2,
            "linecolor": "white",
            "showbackground": true,
            "ticks": "",
            "zerolinecolor": "white"
           }
          },
          "shapedefaults": {
           "line": {
            "color": "#2a3f5f"
           }
          },
          "ternary": {
           "aaxis": {
            "gridcolor": "white",
            "linecolor": "white",
            "ticks": ""
           },
           "baxis": {
            "gridcolor": "white",
            "linecolor": "white",
            "ticks": ""
           },
           "bgcolor": "#E5ECF6",
           "caxis": {
            "gridcolor": "white",
            "linecolor": "white",
            "ticks": ""
           }
          },
          "title": {
           "x": 0.05
          },
          "xaxis": {
           "automargin": true,
           "gridcolor": "white",
           "linecolor": "white",
           "ticks": "",
           "title": {
            "standoff": 15
           },
           "zerolinecolor": "white",
           "zerolinewidth": 2
          },
          "yaxis": {
           "automargin": true,
           "gridcolor": "white",
           "linecolor": "white",
           "ticks": "",
           "title": {
            "standoff": 15
           },
           "zerolinecolor": "white",
           "zerolinewidth": 2
          }
         }
        },
        "title": {
         "text": "User Behavior Counts Distribution"
        },
        "xaxis": {
         "title": {
          "text": "Counts"
         }
        },
        "yaxis": {
         "title": {
          "text": "Frequency"
         }
        }
       }
      }
     },
     "metadata": {},
     "output_type": "display_data"
    }
   ],
   "source": [
    "# Calculate the count of each UserID using value_counts\n",
    "userid_counts = elearning['UserID'].value_counts()\n",
    "\n",
    "# Create histogram data\n",
    "data = go.Histogram(x=userid_counts.values)\n",
    "\n",
    "# Create layout\n",
    "layout = go.Layout(title='User Behavior Counts Distribution', xaxis=dict(title='Counts'), yaxis=dict(title='Frequency'))\n",
    "\n",
    "# Create the chart\n",
    "fig = go.Figure(data=data, layout=layout)\n",
    "\n",
    "# Show the chart\n",
    "fig.show()"
   ]
  },
  {
   "cell_type": "markdown",
   "metadata": {},
   "source": [
    "As can be seen from the distribution of counts in the above graph, most users have a number of behaviors between 5 and 20."
   ]
  },
  {
   "cell_type": "markdown",
   "metadata": {},
   "source": [
    "# User-based Collaborative Filtering"
   ]
  },
  {
   "cell_type": "markdown",
   "metadata": {},
   "source": [
    "## Implicit Ratings"
   ]
  },
  {
   "cell_type": "code",
   "execution_count": 14,
   "metadata": {},
   "outputs": [
    {
     "data": {
      "text/html": [
       "<div>\n",
       "<style scoped>\n",
       "    .dataframe tbody tr th:only-of-type {\n",
       "        vertical-align: middle;\n",
       "    }\n",
       "\n",
       "    .dataframe tbody tr th {\n",
       "        vertical-align: top;\n",
       "    }\n",
       "\n",
       "    .dataframe thead th {\n",
       "        text-align: right;\n",
       "    }\n",
       "</style>\n",
       "<table border=\"1\" class=\"dataframe\">\n",
       "  <thead>\n",
       "    <tr style=\"text-align: right;\">\n",
       "      <th></th>\n",
       "      <th>247</th>\n",
       "      <th>338</th>\n",
       "      <th>238</th>\n",
       "      <th>350</th>\n",
       "      <th>264</th>\n",
       "      <th>139</th>\n",
       "      <th>9</th>\n",
       "      <th>20</th>\n",
       "      <th>8</th>\n",
       "      <th>288</th>\n",
       "      <th>...</th>\n",
       "      <th>341</th>\n",
       "      <th>329</th>\n",
       "      <th>73</th>\n",
       "      <th>115</th>\n",
       "      <th>100</th>\n",
       "      <th>89</th>\n",
       "      <th>50</th>\n",
       "      <th>306</th>\n",
       "      <th>199</th>\n",
       "      <th>318</th>\n",
       "    </tr>\n",
       "  </thead>\n",
       "  <tbody>\n",
       "    <tr>\n",
       "      <th>440</th>\n",
       "      <td>NaN</td>\n",
       "      <td>NaN</td>\n",
       "      <td>NaN</td>\n",
       "      <td>NaN</td>\n",
       "      <td>NaN</td>\n",
       "      <td>NaN</td>\n",
       "      <td>NaN</td>\n",
       "      <td>NaN</td>\n",
       "      <td>NaN</td>\n",
       "      <td>NaN</td>\n",
       "      <td>...</td>\n",
       "      <td>NaN</td>\n",
       "      <td>NaN</td>\n",
       "      <td>NaN</td>\n",
       "      <td>NaN</td>\n",
       "      <td>NaN</td>\n",
       "      <td>NaN</td>\n",
       "      <td>NaN</td>\n",
       "      <td>NaN</td>\n",
       "      <td>NaN</td>\n",
       "      <td>NaN</td>\n",
       "    </tr>\n",
       "    <tr>\n",
       "      <th>1186</th>\n",
       "      <td>NaN</td>\n",
       "      <td>NaN</td>\n",
       "      <td>NaN</td>\n",
       "      <td>NaN</td>\n",
       "      <td>NaN</td>\n",
       "      <td>NaN</td>\n",
       "      <td>NaN</td>\n",
       "      <td>NaN</td>\n",
       "      <td>NaN</td>\n",
       "      <td>NaN</td>\n",
       "      <td>...</td>\n",
       "      <td>NaN</td>\n",
       "      <td>NaN</td>\n",
       "      <td>NaN</td>\n",
       "      <td>NaN</td>\n",
       "      <td>NaN</td>\n",
       "      <td>NaN</td>\n",
       "      <td>NaN</td>\n",
       "      <td>NaN</td>\n",
       "      <td>NaN</td>\n",
       "      <td>NaN</td>\n",
       "    </tr>\n",
       "    <tr>\n",
       "      <th>703</th>\n",
       "      <td>NaN</td>\n",
       "      <td>NaN</td>\n",
       "      <td>NaN</td>\n",
       "      <td>NaN</td>\n",
       "      <td>NaN</td>\n",
       "      <td>NaN</td>\n",
       "      <td>NaN</td>\n",
       "      <td>NaN</td>\n",
       "      <td>NaN</td>\n",
       "      <td>NaN</td>\n",
       "      <td>...</td>\n",
       "      <td>NaN</td>\n",
       "      <td>NaN</td>\n",
       "      <td>NaN</td>\n",
       "      <td>NaN</td>\n",
       "      <td>NaN</td>\n",
       "      <td>NaN</td>\n",
       "      <td>NaN</td>\n",
       "      <td>NaN</td>\n",
       "      <td>NaN</td>\n",
       "      <td>NaN</td>\n",
       "    </tr>\n",
       "    <tr>\n",
       "      <th>225</th>\n",
       "      <td>NaN</td>\n",
       "      <td>NaN</td>\n",
       "      <td>NaN</td>\n",
       "      <td>NaN</td>\n",
       "      <td>NaN</td>\n",
       "      <td>NaN</td>\n",
       "      <td>NaN</td>\n",
       "      <td>NaN</td>\n",
       "      <td>NaN</td>\n",
       "      <td>NaN</td>\n",
       "      <td>...</td>\n",
       "      <td>NaN</td>\n",
       "      <td>NaN</td>\n",
       "      <td>NaN</td>\n",
       "      <td>NaN</td>\n",
       "      <td>NaN</td>\n",
       "      <td>NaN</td>\n",
       "      <td>NaN</td>\n",
       "      <td>NaN</td>\n",
       "      <td>NaN</td>\n",
       "      <td>NaN</td>\n",
       "    </tr>\n",
       "    <tr>\n",
       "      <th>1334</th>\n",
       "      <td>NaN</td>\n",
       "      <td>NaN</td>\n",
       "      <td>NaN</td>\n",
       "      <td>NaN</td>\n",
       "      <td>NaN</td>\n",
       "      <td>NaN</td>\n",
       "      <td>NaN</td>\n",
       "      <td>NaN</td>\n",
       "      <td>NaN</td>\n",
       "      <td>NaN</td>\n",
       "      <td>...</td>\n",
       "      <td>NaN</td>\n",
       "      <td>NaN</td>\n",
       "      <td>NaN</td>\n",
       "      <td>NaN</td>\n",
       "      <td>NaN</td>\n",
       "      <td>NaN</td>\n",
       "      <td>NaN</td>\n",
       "      <td>NaN</td>\n",
       "      <td>NaN</td>\n",
       "      <td>NaN</td>\n",
       "    </tr>\n",
       "  </tbody>\n",
       "</table>\n",
       "<p>5 rows × 396 columns</p>\n",
       "</div>"
      ],
      "text/plain": [
       "      247  338  238  350  264  139  9    20   8    288  ...  341  329  73   \\\n",
       "440   NaN  NaN  NaN  NaN  NaN  NaN  NaN  NaN  NaN  NaN  ...  NaN  NaN  NaN   \n",
       "1186  NaN  NaN  NaN  NaN  NaN  NaN  NaN  NaN  NaN  NaN  ...  NaN  NaN  NaN   \n",
       "703   NaN  NaN  NaN  NaN  NaN  NaN  NaN  NaN  NaN  NaN  ...  NaN  NaN  NaN   \n",
       "225   NaN  NaN  NaN  NaN  NaN  NaN  NaN  NaN  NaN  NaN  ...  NaN  NaN  NaN   \n",
       "1334  NaN  NaN  NaN  NaN  NaN  NaN  NaN  NaN  NaN  NaN  ...  NaN  NaN  NaN   \n",
       "\n",
       "      115  100  89   50   306  199  318  \n",
       "440   NaN  NaN  NaN  NaN  NaN  NaN  NaN  \n",
       "1186  NaN  NaN  NaN  NaN  NaN  NaN  NaN  \n",
       "703   NaN  NaN  NaN  NaN  NaN  NaN  NaN  \n",
       "225   NaN  NaN  NaN  NaN  NaN  NaN  NaN  \n",
       "1334  NaN  NaN  NaN  NaN  NaN  NaN  NaN  \n",
       "\n",
       "[5 rows x 396 columns]"
      ]
     },
     "execution_count": 14,
     "metadata": {},
     "output_type": "execute_result"
    }
   ],
   "source": [
    "# Create a user-item binary matrix\n",
    "uiMatrix = pd.DataFrame(columns=content, index=users)\n",
    "uiMatrix.head()"
   ]
  },
  {
   "cell_type": "markdown",
   "metadata": {},
   "source": [
    "## Type of events and weights"
   ]
  },
  {
   "cell_type": "code",
   "execution_count": 15,
   "metadata": {},
   "outputs": [
    {
     "name": "stdout",
     "output_type": "stream",
     "text": [
      "['view_course' 'detailed_description' 'teacher_profile' 'rundown'\n",
      " 'institution']\n"
     ]
    }
   ],
   "source": [
    "eventTypes = elearning.Event.unique()\n",
    "print(eventTypes)"
   ]
  },
  {
   "cell_type": "code",
   "execution_count": 16,
   "metadata": {},
   "outputs": [],
   "source": [
    "eventWeights = {\n",
    "    'view_course': 5,\n",
    "    'detailed_description': 15,\n",
    "    'teacher_profile': 50,\n",
    "    'institution': 50,\n",
    "    'rundown': 80}"
   ]
  },
  {
   "cell_type": "markdown",
   "metadata": {},
   "source": [
    "## Add Decay\n",
    "Using the formula introduced during lecture\n",
    "\n",
    "$${IRDecay}_{(i,u)} = \\sum_{i=1}^n w_i*{\\#event}_i*d\\left({\\#event}_i\\right) = \\left(w_1*{\\#event}_1*d\\left({\\#event}_1\\right)\\right)+\\left(w_2*{\\#event}_2*d\\left({\\#event}_2\\right)\\right)+\\dots+\\left(w_n*{\\#event}_n*d\\left({\\#event}_n\\right)\\right)$$"
   ]
  },
  {
   "cell_type": "code",
   "execution_count": 17,
   "metadata": {},
   "outputs": [
    {
     "name": "stdout",
     "output_type": "stream",
     "text": [
      "0.0024271844660194173\n"
     ]
    }
   ],
   "source": [
    "#Computing decay\n",
    "import datetime\n",
    "from datetime import date, timedelta, datetime\n",
    "\n",
    "def compute_decay(eventDate, decayDays):\n",
    "    age = (date.today() - datetime.strptime(eventDate, '%Y-%m-%d %H:%M:%S').date()) // timedelta(days=decayDays)\n",
    "    #Converts the given event date string into a datetime object.Extract the date part of a datetime object.\n",
    "    #print(\"Age of event:\", age)\n",
    "    decay = 1/age #simple decay\n",
    "    #print(\"Decay factor:\", decay)\n",
    "\n",
    "    return decay\n",
    "\n",
    "createdEvent = elearning.at[0,'Date']\n",
    "thresholdDays = 2 # Number of days\n",
    "decayFactor = compute_decay(createdEvent, thresholdDays)\n",
    "\n",
    "print(decayFactor)"
   ]
  },
  {
   "cell_type": "code",
   "execution_count": 18,
   "metadata": {},
   "outputs": [
    {
     "data": {
      "text/html": [
       "<div>\n",
       "<style scoped>\n",
       "    .dataframe tbody tr th:only-of-type {\n",
       "        vertical-align: middle;\n",
       "    }\n",
       "\n",
       "    .dataframe tbody tr th {\n",
       "        vertical-align: top;\n",
       "    }\n",
       "\n",
       "    .dataframe thead th {\n",
       "        text-align: right;\n",
       "    }\n",
       "</style>\n",
       "<table border=\"1\" class=\"dataframe\">\n",
       "  <thead>\n",
       "    <tr style=\"text-align: right;\">\n",
       "      <th></th>\n",
       "      <th>247</th>\n",
       "      <th>338</th>\n",
       "      <th>238</th>\n",
       "      <th>350</th>\n",
       "      <th>264</th>\n",
       "      <th>139</th>\n",
       "      <th>9</th>\n",
       "      <th>20</th>\n",
       "      <th>8</th>\n",
       "      <th>288</th>\n",
       "      <th>...</th>\n",
       "      <th>341</th>\n",
       "      <th>329</th>\n",
       "      <th>73</th>\n",
       "      <th>115</th>\n",
       "      <th>100</th>\n",
       "      <th>89</th>\n",
       "      <th>50</th>\n",
       "      <th>306</th>\n",
       "      <th>199</th>\n",
       "      <th>318</th>\n",
       "    </tr>\n",
       "  </thead>\n",
       "  <tbody>\n",
       "    <tr>\n",
       "      <th>440</th>\n",
       "      <td>0.012136</td>\n",
       "      <td>NaN</td>\n",
       "      <td>NaN</td>\n",
       "      <td>NaN</td>\n",
       "      <td>NaN</td>\n",
       "      <td>NaN</td>\n",
       "      <td>NaN</td>\n",
       "      <td>NaN</td>\n",
       "      <td>NaN</td>\n",
       "      <td>NaN</td>\n",
       "      <td>...</td>\n",
       "      <td>NaN</td>\n",
       "      <td>NaN</td>\n",
       "      <td>NaN</td>\n",
       "      <td>NaN</td>\n",
       "      <td>NaN</td>\n",
       "      <td>NaN</td>\n",
       "      <td>NaN</td>\n",
       "      <td>NaN</td>\n",
       "      <td>NaN</td>\n",
       "      <td>NaN</td>\n",
       "    </tr>\n",
       "    <tr>\n",
       "      <th>1186</th>\n",
       "      <td>NaN</td>\n",
       "      <td>0.048544</td>\n",
       "      <td>NaN</td>\n",
       "      <td>NaN</td>\n",
       "      <td>NaN</td>\n",
       "      <td>NaN</td>\n",
       "      <td>NaN</td>\n",
       "      <td>NaN</td>\n",
       "      <td>NaN</td>\n",
       "      <td>NaN</td>\n",
       "      <td>...</td>\n",
       "      <td>NaN</td>\n",
       "      <td>NaN</td>\n",
       "      <td>NaN</td>\n",
       "      <td>NaN</td>\n",
       "      <td>NaN</td>\n",
       "      <td>NaN</td>\n",
       "      <td>NaN</td>\n",
       "      <td>NaN</td>\n",
       "      <td>NaN</td>\n",
       "      <td>NaN</td>\n",
       "    </tr>\n",
       "    <tr>\n",
       "      <th>703</th>\n",
       "      <td>NaN</td>\n",
       "      <td>NaN</td>\n",
       "      <td>0.012136</td>\n",
       "      <td>NaN</td>\n",
       "      <td>NaN</td>\n",
       "      <td>NaN</td>\n",
       "      <td>NaN</td>\n",
       "      <td>NaN</td>\n",
       "      <td>NaN</td>\n",
       "      <td>NaN</td>\n",
       "      <td>...</td>\n",
       "      <td>NaN</td>\n",
       "      <td>NaN</td>\n",
       "      <td>NaN</td>\n",
       "      <td>NaN</td>\n",
       "      <td>0.137157</td>\n",
       "      <td>NaN</td>\n",
       "      <td>NaN</td>\n",
       "      <td>NaN</td>\n",
       "      <td>NaN</td>\n",
       "      <td>NaN</td>\n",
       "    </tr>\n",
       "    <tr>\n",
       "      <th>225</th>\n",
       "      <td>NaN</td>\n",
       "      <td>NaN</td>\n",
       "      <td>NaN</td>\n",
       "      <td>0.012136</td>\n",
       "      <td>NaN</td>\n",
       "      <td>NaN</td>\n",
       "      <td>NaN</td>\n",
       "      <td>NaN</td>\n",
       "      <td>NaN</td>\n",
       "      <td>NaN</td>\n",
       "      <td>...</td>\n",
       "      <td>NaN</td>\n",
       "      <td>NaN</td>\n",
       "      <td>NaN</td>\n",
       "      <td>NaN</td>\n",
       "      <td>NaN</td>\n",
       "      <td>NaN</td>\n",
       "      <td>NaN</td>\n",
       "      <td>NaN</td>\n",
       "      <td>NaN</td>\n",
       "      <td>NaN</td>\n",
       "    </tr>\n",
       "    <tr>\n",
       "      <th>1334</th>\n",
       "      <td>NaN</td>\n",
       "      <td>NaN</td>\n",
       "      <td>NaN</td>\n",
       "      <td>NaN</td>\n",
       "      <td>0.012136</td>\n",
       "      <td>NaN</td>\n",
       "      <td>NaN</td>\n",
       "      <td>NaN</td>\n",
       "      <td>NaN</td>\n",
       "      <td>NaN</td>\n",
       "      <td>...</td>\n",
       "      <td>NaN</td>\n",
       "      <td>NaN</td>\n",
       "      <td>NaN</td>\n",
       "      <td>0.140665</td>\n",
       "      <td>NaN</td>\n",
       "      <td>NaN</td>\n",
       "      <td>NaN</td>\n",
       "      <td>NaN</td>\n",
       "      <td>NaN</td>\n",
       "      <td>NaN</td>\n",
       "    </tr>\n",
       "  </tbody>\n",
       "</table>\n",
       "<p>5 rows × 396 columns</p>\n",
       "</div>"
      ],
      "text/plain": [
       "           247       338       238       350       264  139  9    20   8    \\\n",
       "440   0.012136       NaN       NaN       NaN       NaN  NaN  NaN  NaN  NaN   \n",
       "1186       NaN  0.048544       NaN       NaN       NaN  NaN  NaN  NaN  NaN   \n",
       "703        NaN       NaN  0.012136       NaN       NaN  NaN  NaN  NaN  NaN   \n",
       "225        NaN       NaN       NaN  0.012136       NaN  NaN  NaN  NaN  NaN   \n",
       "1334       NaN       NaN       NaN       NaN  0.012136  NaN  NaN  NaN  NaN   \n",
       "\n",
       "      288  ...  341  329  73        115       100  89   50   306  199  318  \n",
       "440   NaN  ...  NaN  NaN  NaN       NaN       NaN  NaN  NaN  NaN  NaN  NaN  \n",
       "1186  NaN  ...  NaN  NaN  NaN       NaN       NaN  NaN  NaN  NaN  NaN  NaN  \n",
       "703   NaN  ...  NaN  NaN  NaN       NaN  0.137157  NaN  NaN  NaN  NaN  NaN  \n",
       "225   NaN  ...  NaN  NaN  NaN       NaN       NaN  NaN  NaN  NaN  NaN  NaN  \n",
       "1334  NaN  ...  NaN  NaN  NaN  0.140665       NaN  NaN  NaN  NaN  NaN  NaN  \n",
       "\n",
       "[5 rows x 396 columns]"
      ]
     },
     "execution_count": 18,
     "metadata": {},
     "output_type": "execute_result"
    }
   ],
   "source": [
    "#Compute the Implicit Rating for each user-item combination. Populate the user-item matrix  \n",
    "#Add the decay factor\n",
    "for index, row in elearning.iterrows():\n",
    "    currentUser = row['UserID']\n",
    "    currentContent = row['CourseID']\n",
    "\n",
    "    w = eventWeights[row['Event']] * compute_decay(row['Date'],thresholdDays)\n",
    "\n",
    "    currentValue = uiMatrix.at[currentUser, currentContent]\n",
    "    if np.isnan(currentValue):\n",
    "        currentValue = 0\n",
    "\n",
    "    updatedValue = currentValue + w #+ (1 * w)\n",
    "    uiMatrix.at[currentUser, currentContent] = updatedValue\n",
    "\n",
    "uiMatrix.head()"
   ]
  },
  {
   "cell_type": "markdown",
   "metadata": {},
   "source": [
    "## Normalization"
   ]
  },
  {
   "cell_type": "code",
   "execution_count": 19,
   "metadata": {},
   "outputs": [
    {
     "data": {
      "text/html": [
       "<div>\n",
       "<style scoped>\n",
       "    .dataframe tbody tr th:only-of-type {\n",
       "        vertical-align: middle;\n",
       "    }\n",
       "\n",
       "    .dataframe tbody tr th {\n",
       "        vertical-align: top;\n",
       "    }\n",
       "\n",
       "    .dataframe thead th {\n",
       "        text-align: right;\n",
       "    }\n",
       "</style>\n",
       "<table border=\"1\" class=\"dataframe\">\n",
       "  <thead>\n",
       "    <tr style=\"text-align: right;\">\n",
       "      <th></th>\n",
       "      <th>247</th>\n",
       "      <th>338</th>\n",
       "      <th>238</th>\n",
       "      <th>350</th>\n",
       "      <th>264</th>\n",
       "      <th>139</th>\n",
       "      <th>9</th>\n",
       "      <th>20</th>\n",
       "      <th>8</th>\n",
       "      <th>288</th>\n",
       "      <th>...</th>\n",
       "      <th>341</th>\n",
       "      <th>329</th>\n",
       "      <th>73</th>\n",
       "      <th>115</th>\n",
       "      <th>100</th>\n",
       "      <th>89</th>\n",
       "      <th>50</th>\n",
       "      <th>306</th>\n",
       "      <th>199</th>\n",
       "      <th>318</th>\n",
       "    </tr>\n",
       "  </thead>\n",
       "  <tbody>\n",
       "    <tr>\n",
       "      <th>440</th>\n",
       "      <td>0.0</td>\n",
       "      <td>NaN</td>\n",
       "      <td>NaN</td>\n",
       "      <td>NaN</td>\n",
       "      <td>NaN</td>\n",
       "      <td>NaN</td>\n",
       "      <td>NaN</td>\n",
       "      <td>NaN</td>\n",
       "      <td>NaN</td>\n",
       "      <td>NaN</td>\n",
       "      <td>...</td>\n",
       "      <td>NaN</td>\n",
       "      <td>NaN</td>\n",
       "      <td>NaN</td>\n",
       "      <td>NaN</td>\n",
       "      <td>NaN</td>\n",
       "      <td>NaN</td>\n",
       "      <td>NaN</td>\n",
       "      <td>NaN</td>\n",
       "      <td>NaN</td>\n",
       "      <td>NaN</td>\n",
       "    </tr>\n",
       "    <tr>\n",
       "      <th>1186</th>\n",
       "      <td>NaN</td>\n",
       "      <td>0.55484</td>\n",
       "      <td>NaN</td>\n",
       "      <td>NaN</td>\n",
       "      <td>NaN</td>\n",
       "      <td>NaN</td>\n",
       "      <td>NaN</td>\n",
       "      <td>NaN</td>\n",
       "      <td>NaN</td>\n",
       "      <td>NaN</td>\n",
       "      <td>...</td>\n",
       "      <td>NaN</td>\n",
       "      <td>NaN</td>\n",
       "      <td>NaN</td>\n",
       "      <td>NaN</td>\n",
       "      <td>NaN</td>\n",
       "      <td>NaN</td>\n",
       "      <td>NaN</td>\n",
       "      <td>NaN</td>\n",
       "      <td>NaN</td>\n",
       "      <td>NaN</td>\n",
       "    </tr>\n",
       "    <tr>\n",
       "      <th>703</th>\n",
       "      <td>NaN</td>\n",
       "      <td>NaN</td>\n",
       "      <td>0.0</td>\n",
       "      <td>NaN</td>\n",
       "      <td>NaN</td>\n",
       "      <td>NaN</td>\n",
       "      <td>NaN</td>\n",
       "      <td>NaN</td>\n",
       "      <td>NaN</td>\n",
       "      <td>NaN</td>\n",
       "      <td>...</td>\n",
       "      <td>NaN</td>\n",
       "      <td>NaN</td>\n",
       "      <td>NaN</td>\n",
       "      <td>NaN</td>\n",
       "      <td>1.905273</td>\n",
       "      <td>NaN</td>\n",
       "      <td>NaN</td>\n",
       "      <td>NaN</td>\n",
       "      <td>NaN</td>\n",
       "      <td>NaN</td>\n",
       "    </tr>\n",
       "    <tr>\n",
       "      <th>225</th>\n",
       "      <td>NaN</td>\n",
       "      <td>NaN</td>\n",
       "      <td>NaN</td>\n",
       "      <td>0.0</td>\n",
       "      <td>NaN</td>\n",
       "      <td>NaN</td>\n",
       "      <td>NaN</td>\n",
       "      <td>NaN</td>\n",
       "      <td>NaN</td>\n",
       "      <td>NaN</td>\n",
       "      <td>...</td>\n",
       "      <td>NaN</td>\n",
       "      <td>NaN</td>\n",
       "      <td>NaN</td>\n",
       "      <td>NaN</td>\n",
       "      <td>NaN</td>\n",
       "      <td>NaN</td>\n",
       "      <td>NaN</td>\n",
       "      <td>NaN</td>\n",
       "      <td>NaN</td>\n",
       "      <td>NaN</td>\n",
       "    </tr>\n",
       "    <tr>\n",
       "      <th>1334</th>\n",
       "      <td>NaN</td>\n",
       "      <td>NaN</td>\n",
       "      <td>NaN</td>\n",
       "      <td>NaN</td>\n",
       "      <td>0.0</td>\n",
       "      <td>NaN</td>\n",
       "      <td>NaN</td>\n",
       "      <td>NaN</td>\n",
       "      <td>NaN</td>\n",
       "      <td>NaN</td>\n",
       "      <td>...</td>\n",
       "      <td>NaN</td>\n",
       "      <td>NaN</td>\n",
       "      <td>NaN</td>\n",
       "      <td>1.958732</td>\n",
       "      <td>NaN</td>\n",
       "      <td>NaN</td>\n",
       "      <td>NaN</td>\n",
       "      <td>NaN</td>\n",
       "      <td>NaN</td>\n",
       "      <td>NaN</td>\n",
       "    </tr>\n",
       "  </tbody>\n",
       "</table>\n",
       "<p>5 rows × 396 columns</p>\n",
       "</div>"
      ],
      "text/plain": [
       "      247      338  238  350  264  139  9    20   8    288  ...  341  329  \\\n",
       "440   0.0      NaN  NaN  NaN  NaN  NaN  NaN  NaN  NaN  NaN  ...  NaN  NaN   \n",
       "1186  NaN  0.55484  NaN  NaN  NaN  NaN  NaN  NaN  NaN  NaN  ...  NaN  NaN   \n",
       "703   NaN      NaN  0.0  NaN  NaN  NaN  NaN  NaN  NaN  NaN  ...  NaN  NaN   \n",
       "225   NaN      NaN  NaN  0.0  NaN  NaN  NaN  NaN  NaN  NaN  ...  NaN  NaN   \n",
       "1334  NaN      NaN  NaN  NaN  0.0  NaN  NaN  NaN  NaN  NaN  ...  NaN  NaN   \n",
       "\n",
       "      73        115       100  89   50   306  199  318  \n",
       "440   NaN       NaN       NaN  NaN  NaN  NaN  NaN  NaN  \n",
       "1186  NaN       NaN       NaN  NaN  NaN  NaN  NaN  NaN  \n",
       "703   NaN       NaN  1.905273  NaN  NaN  NaN  NaN  NaN  \n",
       "225   NaN       NaN       NaN  NaN  NaN  NaN  NaN  NaN  \n",
       "1334  NaN  1.958732       NaN  NaN  NaN  NaN  NaN  NaN  \n",
       "\n",
       "[5 rows x 396 columns]"
      ]
     },
     "execution_count": 19,
     "metadata": {},
     "output_type": "execute_result"
    }
   ],
   "source": [
    "#Update the user-item matrix by normalizing the values between 0 and 10.\n",
    "uiMatrixNorm = uiMatrix.apply(\n",
    "    lambda x: ((x - np.nanmin(uiMatrix.values))/(np.nanmax(uiMatrix.values) - np.nanmin(uiMatrix.values)))*10\n",
    "    )\n",
    "\n",
    "uiMatrixNorm.head()"
   ]
  },
  {
   "cell_type": "markdown",
   "metadata": {},
   "source": [
    "## User-based Function\n",
    "Step1: Compute Similarity between the active user and the rest of the users\n",
    "\n",
    "Step2: Select the items whose values are to be predicted for current user\n",
    "\n",
    "Step3: Compute the predicted ratings for current user.\n",
    "Using mean value of the other high-similarity users"
   ]
  },
  {
   "cell_type": "code",
   "execution_count": 98,
   "metadata": {},
   "outputs": [],
   "source": [
    "from scipy.spatial.distance import jaccard, cosine\n",
    "from scipy.stats import spearmanr\n",
    "\n",
    "def userCF_prediction(df, currentUser, numUsers, numItems, similarity='pearson',displayed = True):#display means printing outcomes or not\n",
    "    df = df.astype(float)\n",
    "    df_copy = df.copy()\n",
    "    cuDf = df_copy.loc[currentUser]\n",
    "\n",
    "    if similarity == 'pearson':\n",
    "        similarityDf = df_copy.corrwith(cuDf, axis=1, method='pearson')\n",
    "    elif similarity == 'jaccard':\n",
    "        similarityDf = df_copy.apply(lambda row: 1 - jaccard(cuDf, row), axis=1)\n",
    "    elif similarity == 'cosine':\n",
    "        similarityDf = df_copy.apply(lambda row: 1 - cosine(cuDf, row), axis=1)\n",
    "    elif similarity == 'spearman':\n",
    "        similarityDf = df_copy.apply(lambda row: spearmanr(cuDf, row).correlation, axis=1)\n",
    "    else:\n",
    "        raise ValueError(\"Invalid similarity measure. Available options are 'pearson', 'jaccard', 'cosine', and 'spearman'.\")\n",
    "\n",
    "    similarityDf.sort_values(ascending=False, inplace=True)\n",
    "    similarityDf.drop(labels=[currentUser], inplace=True)\n",
    "    similarityDf = similarityDf.head(numUsers)\n",
    "\n",
    "    toPredict = cuDf[cuDf.isna()]\n",
    "\n",
    "    ratings = df_copy.loc[similarityDf.index]\n",
    "    ratingsToPredict = ratings[toPredict.index]\n",
    "\n",
    "    predictedRatings = ratingsToPredict.mean()\n",
    "    predictedRatings.sort_values(ascending=False, inplace=True)\n",
    "    if displayed:\n",
    "        display(predictedRatings.head(numItems))\n",
    "    return predictedRatings.head(numItems)"
   ]
  },
  {
   "cell_type": "code",
   "execution_count": 99,
   "metadata": {},
   "outputs": [
    {
     "data": {
      "text/plain": [
       "440     391\n",
       "1186    390\n",
       "703     392\n",
       "225     390\n",
       "1334    391\n",
       "       ... \n",
       "659     395\n",
       "66      395\n",
       "612     395\n",
       "483     395\n",
       "956     395\n",
       "Length: 1591, dtype: int64"
      ]
     },
     "execution_count": 99,
     "metadata": {},
     "output_type": "execute_result"
    }
   ],
   "source": [
    "#Find one without all the ratings already filled to recommend something for him\n",
    "uiMatrixNorm.isna().sum(axis=1)"
   ]
  },
  {
   "cell_type": "markdown",
   "metadata": {},
   "source": [
    "### Pearson Showcase"
   ]
  },
  {
   "cell_type": "code",
   "execution_count": 100,
   "metadata": {},
   "outputs": [
    {
     "name": "stderr",
     "output_type": "stream",
     "text": [
      "d:\\Tools\\anaconda2024\\Lib\\site-packages\\numpy\\lib\\function_base.py:2889: RuntimeWarning:\n",
      "\n",
      "Degrees of freedom <= 0 for slice\n",
      "\n",
      "d:\\Tools\\anaconda2024\\Lib\\site-packages\\numpy\\lib\\function_base.py:2748: RuntimeWarning:\n",
      "\n",
      "divide by zero encountered in divide\n",
      "\n",
      "d:\\Tools\\anaconda2024\\Lib\\site-packages\\numpy\\lib\\function_base.py:2748: RuntimeWarning:\n",
      "\n",
      "invalid value encountered in multiply\n",
      "\n"
     ]
    },
    {
     "data": {
      "text/plain": [
       "326    6.725168\n",
       "259    5.616933\n",
       "196    5.010373\n",
       "236    5.010373\n",
       "186    4.945594\n",
       "dtype: float64"
      ]
     },
     "metadata": {},
     "output_type": "display_data"
    }
   ],
   "source": [
    "recommendList1 = userCF_prediction(uiMatrixNorm,440,200,5,'pearson')"
   ]
  },
  {
   "cell_type": "code",
   "execution_count": 101,
   "metadata": {},
   "outputs": [
    {
     "name": "stderr",
     "output_type": "stream",
     "text": [
      "d:\\Tools\\anaconda2024\\Lib\\site-packages\\numpy\\lib\\function_base.py:2889: RuntimeWarning:\n",
      "\n",
      "Degrees of freedom <= 0 for slice\n",
      "\n",
      "d:\\Tools\\anaconda2024\\Lib\\site-packages\\numpy\\lib\\function_base.py:2748: RuntimeWarning:\n",
      "\n",
      "divide by zero encountered in divide\n",
      "\n",
      "d:\\Tools\\anaconda2024\\Lib\\site-packages\\numpy\\lib\\function_base.py:2748: RuntimeWarning:\n",
      "\n",
      "invalid value encountered in multiply\n",
      "\n"
     ]
    },
    {
     "data": {
      "text/plain": [
       "359    5.616933\n",
       "79     5.431615\n",
       "42     5.063387\n",
       "236    5.010373\n",
       "33     4.984266\n",
       "dtype: float64"
      ]
     },
     "metadata": {},
     "output_type": "display_data"
    }
   ],
   "source": [
    "recommendList2 = userCF_prediction(uiMatrixNorm,823,100,5,'pearson')"
   ]
  },
  {
   "cell_type": "markdown",
   "metadata": {},
   "source": [
    "### Spearman Showcase"
   ]
  },
  {
   "cell_type": "code",
   "execution_count": 102,
   "metadata": {},
   "outputs": [
    {
     "data": {
      "text/plain": [
       "326    6.725168\n",
       "259    5.616933\n",
       "236    5.010373\n",
       "196    5.010373\n",
       "186    4.945594\n",
       "dtype: float64"
      ]
     },
     "metadata": {},
     "output_type": "display_data"
    }
   ],
   "source": [
    "recommendList3 = userCF_prediction(uiMatrixNorm,440,200,5,'spearman')"
   ]
  },
  {
   "cell_type": "code",
   "execution_count": 103,
   "metadata": {},
   "outputs": [
    {
     "data": {
      "text/plain": [
       "359    5.616933\n",
       "79     5.431615\n",
       "42     5.063387\n",
       "236    5.010373\n",
       "214    4.984266\n",
       "dtype: float64"
      ]
     },
     "metadata": {},
     "output_type": "display_data"
    }
   ],
   "source": [
    "recommendList4 = userCF_prediction(uiMatrixNorm,823,100,5,'spearman')"
   ]
  },
  {
   "cell_type": "code",
   "execution_count": 117,
   "metadata": {},
   "outputs": [],
   "source": [
    "#Delete NaN values and return new list\n",
    "def process_recommendations(recommendations,displayed=True):\n",
    "    filtered_series = recommendations.dropna()\n",
    "    if(displayed):\n",
    "        print('CurrentLength:'+str(len(filtered_series)))\n",
    "        display(filtered_series)\n",
    "    return filtered_series"
   ]
  },
  {
   "cell_type": "markdown",
   "metadata": {},
   "source": [
    "## Example"
   ]
  },
  {
   "cell_type": "code",
   "execution_count": 118,
   "metadata": {},
   "outputs": [
    {
     "data": {
      "text/plain": [
       "248    4.971311\n",
       "323    3.532030\n",
       "381    2.989971\n",
       "353    0.590606\n",
       "181    0.580863\n",
       "114    0.577034\n",
       "106    0.556640\n",
       "386    0.556640\n",
       "338    0.554840\n",
       "384    0.000902\n",
       "247    0.000000\n",
       "238         NaN\n",
       "350         NaN\n",
       "264         NaN\n",
       "139         NaN\n",
       "9           NaN\n",
       "20          NaN\n",
       "8           NaN\n",
       "288         NaN\n",
       "373         NaN\n",
       "298         NaN\n",
       "180         NaN\n",
       "224         NaN\n",
       "150         NaN\n",
       "30          NaN\n",
       "3           NaN\n",
       "284         NaN\n",
       "235         NaN\n",
       "261         NaN\n",
       "117         NaN\n",
       "177         NaN\n",
       "48          NaN\n",
       "90          NaN\n",
       "291         NaN\n",
       "119         NaN\n",
       "362         NaN\n",
       "252         NaN\n",
       "136         NaN\n",
       "255         NaN\n",
       "321         NaN\n",
       "258         NaN\n",
       "138         NaN\n",
       "374         NaN\n",
       "360         NaN\n",
       "98          NaN\n",
       "86          NaN\n",
       "2           NaN\n",
       "349         NaN\n",
       "201         NaN\n",
       "233         NaN\n",
       "dtype: float64"
      ]
     },
     "metadata": {},
     "output_type": "display_data"
    },
    {
     "name": "stdout",
     "output_type": "stream",
     "text": [
      "CurrentLength:11\n"
     ]
    },
    {
     "data": {
      "text/plain": [
       "248    4.971311\n",
       "323    3.532030\n",
       "381    2.989971\n",
       "353    0.590606\n",
       "181    0.580863\n",
       "114    0.577034\n",
       "106    0.556640\n",
       "386    0.556640\n",
       "338    0.554840\n",
       "384    0.000902\n",
       "247    0.000000\n",
       "dtype: float64"
      ]
     },
     "metadata": {},
     "output_type": "display_data"
    }
   ],
   "source": [
    "recommendListExample = userCF_prediction(uiMatrixNorm,2,2,50,'spearman')\n",
    "filtered_series = process_recommendations(recommendListExample)"
   ]
  },
  {
   "cell_type": "markdown",
   "metadata": {},
   "source": [
    "# Item-based Collaborative Filtering"
   ]
  },
  {
   "cell_type": "markdown",
   "metadata": {},
   "source": [
    "Use the cosine distance in scipy library to compute the similarity.\n",
    "\n",
    "$$cosine\\_similarity = 1 - cosine\\_distance$$"
   ]
  },
  {
   "cell_type": "code",
   "execution_count": 26,
   "metadata": {},
   "outputs": [],
   "source": [
    "from scipy.spatial.distance import cosine\n",
    "\n",
    "def cosine_sim(df1, df2):\n",
    "    # check for na in dataframes\n",
    "    df1na = df1.isna()\n",
    "    df1clean = df1[~df1na]\n",
    "    df2clean = df2[~df1na]\n",
    "\n",
    "    df2na = df2clean.isna()\n",
    "    df1clean = df1clean[~df2na]\n",
    "    df2clean = df2clean[~df2na]\n",
    "\n",
    "\n",
    "    # Compute cosine similarity\n",
    "    distance = cosine(df1clean, df2clean)\n",
    "    sim = 1 - distance\n",
    "\n",
    "    return sim"
   ]
  },
  {
   "cell_type": "markdown",
   "metadata": {},
   "source": [
    "## Precomputing similarities"
   ]
  },
  {
   "cell_type": "markdown",
   "metadata": {},
   "source": [
    "A utility function to convert from numeric to boolean, indicating if the user rated an item."
   ]
  },
  {
   "cell_type": "code",
   "execution_count": 27,
   "metadata": {},
   "outputs": [],
   "source": [
    "def to_bool(value):\n",
    "    if np.isnan(value):\n",
    "        return 0\n",
    "    else:\n",
    "        return 1"
   ]
  },
  {
   "cell_type": "markdown",
   "metadata": {},
   "source": [
    "Compute the number of overlapping rating between each item"
   ]
  },
  {
   "cell_type": "code",
   "execution_count": 28,
   "metadata": {},
   "outputs": [
    {
     "name": "stderr",
     "output_type": "stream",
     "text": [
      "C:\\Users\\罗萍\\AppData\\Local\\Temp\\ipykernel_21284\\243225764.py:1: FutureWarning:\n",
      "\n",
      "DataFrame.applymap has been deprecated. Use DataFrame.map instead.\n",
      "\n"
     ]
    }
   ],
   "source": [
    "uiMatrixBool = uiMatrix.applymap(lambda x: to_bool(x))\n",
    "overlappingUsersRatings = uiMatrixBool.T.dot(uiMatrixBool)"
   ]
  },
  {
   "cell_type": "code",
   "execution_count": 29,
   "metadata": {},
   "outputs": [
    {
     "data": {
      "text/html": [
       "<div>\n",
       "<style scoped>\n",
       "    .dataframe tbody tr th:only-of-type {\n",
       "        vertical-align: middle;\n",
       "    }\n",
       "\n",
       "    .dataframe tbody tr th {\n",
       "        vertical-align: top;\n",
       "    }\n",
       "\n",
       "    .dataframe thead th {\n",
       "        text-align: right;\n",
       "    }\n",
       "</style>\n",
       "<table border=\"1\" class=\"dataframe\">\n",
       "  <thead>\n",
       "    <tr style=\"text-align: right;\">\n",
       "      <th></th>\n",
       "      <th>247</th>\n",
       "      <th>338</th>\n",
       "      <th>238</th>\n",
       "      <th>350</th>\n",
       "      <th>264</th>\n",
       "      <th>139</th>\n",
       "      <th>9</th>\n",
       "      <th>20</th>\n",
       "      <th>8</th>\n",
       "      <th>288</th>\n",
       "      <th>...</th>\n",
       "      <th>341</th>\n",
       "      <th>329</th>\n",
       "      <th>73</th>\n",
       "      <th>115</th>\n",
       "      <th>100</th>\n",
       "      <th>89</th>\n",
       "      <th>50</th>\n",
       "      <th>306</th>\n",
       "      <th>199</th>\n",
       "      <th>318</th>\n",
       "    </tr>\n",
       "  </thead>\n",
       "  <tbody>\n",
       "    <tr>\n",
       "      <th>247</th>\n",
       "      <td>45</td>\n",
       "      <td>1</td>\n",
       "      <td>0</td>\n",
       "      <td>0</td>\n",
       "      <td>2</td>\n",
       "      <td>0</td>\n",
       "      <td>2</td>\n",
       "      <td>0</td>\n",
       "      <td>0</td>\n",
       "      <td>0</td>\n",
       "      <td>...</td>\n",
       "      <td>0</td>\n",
       "      <td>0</td>\n",
       "      <td>0</td>\n",
       "      <td>1</td>\n",
       "      <td>2</td>\n",
       "      <td>2</td>\n",
       "      <td>0</td>\n",
       "      <td>1</td>\n",
       "      <td>0</td>\n",
       "      <td>1</td>\n",
       "    </tr>\n",
       "    <tr>\n",
       "      <th>338</th>\n",
       "      <td>1</td>\n",
       "      <td>33</td>\n",
       "      <td>0</td>\n",
       "      <td>1</td>\n",
       "      <td>2</td>\n",
       "      <td>2</td>\n",
       "      <td>3</td>\n",
       "      <td>0</td>\n",
       "      <td>1</td>\n",
       "      <td>1</td>\n",
       "      <td>...</td>\n",
       "      <td>0</td>\n",
       "      <td>0</td>\n",
       "      <td>0</td>\n",
       "      <td>0</td>\n",
       "      <td>0</td>\n",
       "      <td>0</td>\n",
       "      <td>0</td>\n",
       "      <td>0</td>\n",
       "      <td>0</td>\n",
       "      <td>0</td>\n",
       "    </tr>\n",
       "    <tr>\n",
       "      <th>238</th>\n",
       "      <td>0</td>\n",
       "      <td>0</td>\n",
       "      <td>21</td>\n",
       "      <td>0</td>\n",
       "      <td>0</td>\n",
       "      <td>1</td>\n",
       "      <td>0</td>\n",
       "      <td>1</td>\n",
       "      <td>0</td>\n",
       "      <td>0</td>\n",
       "      <td>...</td>\n",
       "      <td>0</td>\n",
       "      <td>0</td>\n",
       "      <td>0</td>\n",
       "      <td>0</td>\n",
       "      <td>1</td>\n",
       "      <td>0</td>\n",
       "      <td>0</td>\n",
       "      <td>0</td>\n",
       "      <td>0</td>\n",
       "      <td>0</td>\n",
       "    </tr>\n",
       "    <tr>\n",
       "      <th>350</th>\n",
       "      <td>0</td>\n",
       "      <td>1</td>\n",
       "      <td>0</td>\n",
       "      <td>28</td>\n",
       "      <td>0</td>\n",
       "      <td>1</td>\n",
       "      <td>0</td>\n",
       "      <td>0</td>\n",
       "      <td>1</td>\n",
       "      <td>1</td>\n",
       "      <td>...</td>\n",
       "      <td>0</td>\n",
       "      <td>0</td>\n",
       "      <td>0</td>\n",
       "      <td>0</td>\n",
       "      <td>0</td>\n",
       "      <td>0</td>\n",
       "      <td>0</td>\n",
       "      <td>0</td>\n",
       "      <td>0</td>\n",
       "      <td>0</td>\n",
       "    </tr>\n",
       "    <tr>\n",
       "      <th>264</th>\n",
       "      <td>2</td>\n",
       "      <td>2</td>\n",
       "      <td>0</td>\n",
       "      <td>0</td>\n",
       "      <td>29</td>\n",
       "      <td>0</td>\n",
       "      <td>0</td>\n",
       "      <td>0</td>\n",
       "      <td>0</td>\n",
       "      <td>1</td>\n",
       "      <td>...</td>\n",
       "      <td>0</td>\n",
       "      <td>0</td>\n",
       "      <td>0</td>\n",
       "      <td>1</td>\n",
       "      <td>1</td>\n",
       "      <td>1</td>\n",
       "      <td>0</td>\n",
       "      <td>0</td>\n",
       "      <td>0</td>\n",
       "      <td>0</td>\n",
       "    </tr>\n",
       "    <tr>\n",
       "      <th>...</th>\n",
       "      <td>...</td>\n",
       "      <td>...</td>\n",
       "      <td>...</td>\n",
       "      <td>...</td>\n",
       "      <td>...</td>\n",
       "      <td>...</td>\n",
       "      <td>...</td>\n",
       "      <td>...</td>\n",
       "      <td>...</td>\n",
       "      <td>...</td>\n",
       "      <td>...</td>\n",
       "      <td>...</td>\n",
       "      <td>...</td>\n",
       "      <td>...</td>\n",
       "      <td>...</td>\n",
       "      <td>...</td>\n",
       "      <td>...</td>\n",
       "      <td>...</td>\n",
       "      <td>...</td>\n",
       "      <td>...</td>\n",
       "      <td>...</td>\n",
       "    </tr>\n",
       "    <tr>\n",
       "      <th>89</th>\n",
       "      <td>2</td>\n",
       "      <td>0</td>\n",
       "      <td>0</td>\n",
       "      <td>0</td>\n",
       "      <td>1</td>\n",
       "      <td>0</td>\n",
       "      <td>0</td>\n",
       "      <td>0</td>\n",
       "      <td>0</td>\n",
       "      <td>0</td>\n",
       "      <td>...</td>\n",
       "      <td>0</td>\n",
       "      <td>0</td>\n",
       "      <td>0</td>\n",
       "      <td>0</td>\n",
       "      <td>0</td>\n",
       "      <td>7</td>\n",
       "      <td>0</td>\n",
       "      <td>0</td>\n",
       "      <td>0</td>\n",
       "      <td>0</td>\n",
       "    </tr>\n",
       "    <tr>\n",
       "      <th>50</th>\n",
       "      <td>0</td>\n",
       "      <td>0</td>\n",
       "      <td>0</td>\n",
       "      <td>0</td>\n",
       "      <td>0</td>\n",
       "      <td>0</td>\n",
       "      <td>0</td>\n",
       "      <td>0</td>\n",
       "      <td>0</td>\n",
       "      <td>0</td>\n",
       "      <td>...</td>\n",
       "      <td>0</td>\n",
       "      <td>0</td>\n",
       "      <td>0</td>\n",
       "      <td>0</td>\n",
       "      <td>0</td>\n",
       "      <td>0</td>\n",
       "      <td>1</td>\n",
       "      <td>0</td>\n",
       "      <td>0</td>\n",
       "      <td>0</td>\n",
       "    </tr>\n",
       "    <tr>\n",
       "      <th>306</th>\n",
       "      <td>1</td>\n",
       "      <td>0</td>\n",
       "      <td>0</td>\n",
       "      <td>0</td>\n",
       "      <td>0</td>\n",
       "      <td>0</td>\n",
       "      <td>0</td>\n",
       "      <td>0</td>\n",
       "      <td>0</td>\n",
       "      <td>0</td>\n",
       "      <td>...</td>\n",
       "      <td>0</td>\n",
       "      <td>0</td>\n",
       "      <td>0</td>\n",
       "      <td>0</td>\n",
       "      <td>0</td>\n",
       "      <td>0</td>\n",
       "      <td>0</td>\n",
       "      <td>2</td>\n",
       "      <td>0</td>\n",
       "      <td>0</td>\n",
       "    </tr>\n",
       "    <tr>\n",
       "      <th>199</th>\n",
       "      <td>0</td>\n",
       "      <td>0</td>\n",
       "      <td>0</td>\n",
       "      <td>0</td>\n",
       "      <td>0</td>\n",
       "      <td>0</td>\n",
       "      <td>0</td>\n",
       "      <td>0</td>\n",
       "      <td>1</td>\n",
       "      <td>0</td>\n",
       "      <td>...</td>\n",
       "      <td>0</td>\n",
       "      <td>0</td>\n",
       "      <td>0</td>\n",
       "      <td>0</td>\n",
       "      <td>0</td>\n",
       "      <td>0</td>\n",
       "      <td>0</td>\n",
       "      <td>0</td>\n",
       "      <td>2</td>\n",
       "      <td>0</td>\n",
       "    </tr>\n",
       "    <tr>\n",
       "      <th>318</th>\n",
       "      <td>1</td>\n",
       "      <td>0</td>\n",
       "      <td>0</td>\n",
       "      <td>0</td>\n",
       "      <td>0</td>\n",
       "      <td>0</td>\n",
       "      <td>0</td>\n",
       "      <td>0</td>\n",
       "      <td>0</td>\n",
       "      <td>0</td>\n",
       "      <td>...</td>\n",
       "      <td>0</td>\n",
       "      <td>0</td>\n",
       "      <td>0</td>\n",
       "      <td>0</td>\n",
       "      <td>1</td>\n",
       "      <td>0</td>\n",
       "      <td>0</td>\n",
       "      <td>0</td>\n",
       "      <td>0</td>\n",
       "      <td>1</td>\n",
       "    </tr>\n",
       "  </tbody>\n",
       "</table>\n",
       "<p>396 rows × 396 columns</p>\n",
       "</div>"
      ],
      "text/plain": [
       "     247  338  238  350  264  139  9    20   8    288  ...  341  329  73   \\\n",
       "247   45    1    0    0    2    0    2    0    0    0  ...    0    0    0   \n",
       "338    1   33    0    1    2    2    3    0    1    1  ...    0    0    0   \n",
       "238    0    0   21    0    0    1    0    1    0    0  ...    0    0    0   \n",
       "350    0    1    0   28    0    1    0    0    1    1  ...    0    0    0   \n",
       "264    2    2    0    0   29    0    0    0    0    1  ...    0    0    0   \n",
       "..   ...  ...  ...  ...  ...  ...  ...  ...  ...  ...  ...  ...  ...  ...   \n",
       "89     2    0    0    0    1    0    0    0    0    0  ...    0    0    0   \n",
       "50     0    0    0    0    0    0    0    0    0    0  ...    0    0    0   \n",
       "306    1    0    0    0    0    0    0    0    0    0  ...    0    0    0   \n",
       "199    0    0    0    0    0    0    0    0    1    0  ...    0    0    0   \n",
       "318    1    0    0    0    0    0    0    0    0    0  ...    0    0    0   \n",
       "\n",
       "     115  100  89   50   306  199  318  \n",
       "247    1    2    2    0    1    0    1  \n",
       "338    0    0    0    0    0    0    0  \n",
       "238    0    1    0    0    0    0    0  \n",
       "350    0    0    0    0    0    0    0  \n",
       "264    1    1    1    0    0    0    0  \n",
       "..   ...  ...  ...  ...  ...  ...  ...  \n",
       "89     0    0    7    0    0    0    0  \n",
       "50     0    0    0    1    0    0    0  \n",
       "306    0    0    0    0    2    0    0  \n",
       "199    0    0    0    0    0    2    0  \n",
       "318    0    1    0    0    0    0    1  \n",
       "\n",
       "[396 rows x 396 columns]"
      ]
     },
     "metadata": {},
     "output_type": "display_data"
    }
   ],
   "source": [
    "display(overlappingUsersRatings)"
   ]
  },
  {
   "cell_type": "markdown",
   "metadata": {},
   "source": [
    "Check min and max"
   ]
  },
  {
   "cell_type": "code",
   "execution_count": 30,
   "metadata": {},
   "outputs": [
    {
     "data": {
      "text/plain": [
       "48"
      ]
     },
     "execution_count": 30,
     "metadata": {},
     "output_type": "execute_result"
    }
   ],
   "source": [
    "overlappingUsersRatings.max(axis=0).max()"
   ]
  },
  {
   "cell_type": "code",
   "execution_count": 31,
   "metadata": {},
   "outputs": [
    {
     "data": {
      "text/plain": [
       "0"
      ]
     },
     "execution_count": 31,
     "metadata": {},
     "output_type": "execute_result"
    }
   ],
   "source": [
    "overlappingUsersRatings.min(axis=0).min()"
   ]
  },
  {
   "cell_type": "code",
   "execution_count": 32,
   "metadata": {},
   "outputs": [
    {
     "data": {
      "text/plain": [
       "247     True\n",
       "338     True\n",
       "238     True\n",
       "350     True\n",
       "264     True\n",
       "       ...  \n",
       "89     False\n",
       "50     False\n",
       "306    False\n",
       "199    False\n",
       "318    False\n",
       "Length: 396, dtype: bool"
      ]
     },
     "metadata": {},
     "output_type": "display_data"
    }
   ],
   "source": [
    "toDrop = overlappingUsersRatings.max(axis=0) > 10\n",
    "display(toDrop)"
   ]
  },
  {
   "cell_type": "code",
   "execution_count": 33,
   "metadata": {},
   "outputs": [
    {
     "data": {
      "text/html": [
       "<div>\n",
       "<style scoped>\n",
       "    .dataframe tbody tr th:only-of-type {\n",
       "        vertical-align: middle;\n",
       "    }\n",
       "\n",
       "    .dataframe tbody tr th {\n",
       "        vertical-align: top;\n",
       "    }\n",
       "\n",
       "    .dataframe thead th {\n",
       "        text-align: right;\n",
       "    }\n",
       "</style>\n",
       "<table border=\"1\" class=\"dataframe\">\n",
       "  <thead>\n",
       "    <tr style=\"text-align: right;\">\n",
       "      <th></th>\n",
       "      <th>247</th>\n",
       "      <th>338</th>\n",
       "      <th>238</th>\n",
       "      <th>350</th>\n",
       "      <th>264</th>\n",
       "      <th>139</th>\n",
       "      <th>9</th>\n",
       "      <th>20</th>\n",
       "      <th>288</th>\n",
       "      <th>373</th>\n",
       "      <th>...</th>\n",
       "      <th>300</th>\n",
       "      <th>27</th>\n",
       "      <th>167</th>\n",
       "      <th>290</th>\n",
       "      <th>76</th>\n",
       "      <th>28</th>\n",
       "      <th>23</th>\n",
       "      <th>121</th>\n",
       "      <th>128</th>\n",
       "      <th>100</th>\n",
       "    </tr>\n",
       "  </thead>\n",
       "  <tbody>\n",
       "    <tr>\n",
       "      <th>247</th>\n",
       "      <td>45</td>\n",
       "      <td>1</td>\n",
       "      <td>0</td>\n",
       "      <td>0</td>\n",
       "      <td>2</td>\n",
       "      <td>0</td>\n",
       "      <td>2</td>\n",
       "      <td>0</td>\n",
       "      <td>0</td>\n",
       "      <td>0</td>\n",
       "      <td>...</td>\n",
       "      <td>1</td>\n",
       "      <td>0</td>\n",
       "      <td>1</td>\n",
       "      <td>0</td>\n",
       "      <td>0</td>\n",
       "      <td>1</td>\n",
       "      <td>0</td>\n",
       "      <td>1</td>\n",
       "      <td>1</td>\n",
       "      <td>2</td>\n",
       "    </tr>\n",
       "    <tr>\n",
       "      <th>338</th>\n",
       "      <td>1</td>\n",
       "      <td>33</td>\n",
       "      <td>0</td>\n",
       "      <td>1</td>\n",
       "      <td>2</td>\n",
       "      <td>2</td>\n",
       "      <td>3</td>\n",
       "      <td>0</td>\n",
       "      <td>1</td>\n",
       "      <td>0</td>\n",
       "      <td>...</td>\n",
       "      <td>2</td>\n",
       "      <td>0</td>\n",
       "      <td>0</td>\n",
       "      <td>1</td>\n",
       "      <td>0</td>\n",
       "      <td>0</td>\n",
       "      <td>0</td>\n",
       "      <td>0</td>\n",
       "      <td>0</td>\n",
       "      <td>0</td>\n",
       "    </tr>\n",
       "    <tr>\n",
       "      <th>238</th>\n",
       "      <td>0</td>\n",
       "      <td>0</td>\n",
       "      <td>21</td>\n",
       "      <td>0</td>\n",
       "      <td>0</td>\n",
       "      <td>1</td>\n",
       "      <td>0</td>\n",
       "      <td>1</td>\n",
       "      <td>0</td>\n",
       "      <td>0</td>\n",
       "      <td>...</td>\n",
       "      <td>1</td>\n",
       "      <td>0</td>\n",
       "      <td>0</td>\n",
       "      <td>0</td>\n",
       "      <td>0</td>\n",
       "      <td>0</td>\n",
       "      <td>0</td>\n",
       "      <td>0</td>\n",
       "      <td>0</td>\n",
       "      <td>1</td>\n",
       "    </tr>\n",
       "    <tr>\n",
       "      <th>350</th>\n",
       "      <td>0</td>\n",
       "      <td>1</td>\n",
       "      <td>0</td>\n",
       "      <td>28</td>\n",
       "      <td>0</td>\n",
       "      <td>1</td>\n",
       "      <td>0</td>\n",
       "      <td>0</td>\n",
       "      <td>1</td>\n",
       "      <td>0</td>\n",
       "      <td>...</td>\n",
       "      <td>0</td>\n",
       "      <td>0</td>\n",
       "      <td>0</td>\n",
       "      <td>0</td>\n",
       "      <td>0</td>\n",
       "      <td>0</td>\n",
       "      <td>0</td>\n",
       "      <td>1</td>\n",
       "      <td>0</td>\n",
       "      <td>0</td>\n",
       "    </tr>\n",
       "    <tr>\n",
       "      <th>264</th>\n",
       "      <td>2</td>\n",
       "      <td>2</td>\n",
       "      <td>0</td>\n",
       "      <td>0</td>\n",
       "      <td>29</td>\n",
       "      <td>0</td>\n",
       "      <td>0</td>\n",
       "      <td>0</td>\n",
       "      <td>1</td>\n",
       "      <td>0</td>\n",
       "      <td>...</td>\n",
       "      <td>0</td>\n",
       "      <td>0</td>\n",
       "      <td>1</td>\n",
       "      <td>0</td>\n",
       "      <td>1</td>\n",
       "      <td>0</td>\n",
       "      <td>1</td>\n",
       "      <td>1</td>\n",
       "      <td>0</td>\n",
       "      <td>1</td>\n",
       "    </tr>\n",
       "    <tr>\n",
       "      <th>...</th>\n",
       "      <td>...</td>\n",
       "      <td>...</td>\n",
       "      <td>...</td>\n",
       "      <td>...</td>\n",
       "      <td>...</td>\n",
       "      <td>...</td>\n",
       "      <td>...</td>\n",
       "      <td>...</td>\n",
       "      <td>...</td>\n",
       "      <td>...</td>\n",
       "      <td>...</td>\n",
       "      <td>...</td>\n",
       "      <td>...</td>\n",
       "      <td>...</td>\n",
       "      <td>...</td>\n",
       "      <td>...</td>\n",
       "      <td>...</td>\n",
       "      <td>...</td>\n",
       "      <td>...</td>\n",
       "      <td>...</td>\n",
       "      <td>...</td>\n",
       "    </tr>\n",
       "    <tr>\n",
       "      <th>28</th>\n",
       "      <td>1</td>\n",
       "      <td>0</td>\n",
       "      <td>0</td>\n",
       "      <td>0</td>\n",
       "      <td>0</td>\n",
       "      <td>0</td>\n",
       "      <td>0</td>\n",
       "      <td>0</td>\n",
       "      <td>0</td>\n",
       "      <td>0</td>\n",
       "      <td>...</td>\n",
       "      <td>0</td>\n",
       "      <td>0</td>\n",
       "      <td>0</td>\n",
       "      <td>0</td>\n",
       "      <td>0</td>\n",
       "      <td>14</td>\n",
       "      <td>1</td>\n",
       "      <td>0</td>\n",
       "      <td>0</td>\n",
       "      <td>0</td>\n",
       "    </tr>\n",
       "    <tr>\n",
       "      <th>23</th>\n",
       "      <td>0</td>\n",
       "      <td>0</td>\n",
       "      <td>0</td>\n",
       "      <td>0</td>\n",
       "      <td>1</td>\n",
       "      <td>0</td>\n",
       "      <td>1</td>\n",
       "      <td>0</td>\n",
       "      <td>0</td>\n",
       "      <td>0</td>\n",
       "      <td>...</td>\n",
       "      <td>0</td>\n",
       "      <td>0</td>\n",
       "      <td>0</td>\n",
       "      <td>0</td>\n",
       "      <td>0</td>\n",
       "      <td>1</td>\n",
       "      <td>19</td>\n",
       "      <td>0</td>\n",
       "      <td>0</td>\n",
       "      <td>0</td>\n",
       "    </tr>\n",
       "    <tr>\n",
       "      <th>121</th>\n",
       "      <td>1</td>\n",
       "      <td>0</td>\n",
       "      <td>0</td>\n",
       "      <td>1</td>\n",
       "      <td>1</td>\n",
       "      <td>1</td>\n",
       "      <td>0</td>\n",
       "      <td>1</td>\n",
       "      <td>1</td>\n",
       "      <td>0</td>\n",
       "      <td>...</td>\n",
       "      <td>0</td>\n",
       "      <td>0</td>\n",
       "      <td>0</td>\n",
       "      <td>0</td>\n",
       "      <td>0</td>\n",
       "      <td>0</td>\n",
       "      <td>0</td>\n",
       "      <td>22</td>\n",
       "      <td>0</td>\n",
       "      <td>0</td>\n",
       "    </tr>\n",
       "    <tr>\n",
       "      <th>128</th>\n",
       "      <td>1</td>\n",
       "      <td>0</td>\n",
       "      <td>0</td>\n",
       "      <td>0</td>\n",
       "      <td>0</td>\n",
       "      <td>1</td>\n",
       "      <td>1</td>\n",
       "      <td>1</td>\n",
       "      <td>0</td>\n",
       "      <td>1</td>\n",
       "      <td>...</td>\n",
       "      <td>0</td>\n",
       "      <td>0</td>\n",
       "      <td>1</td>\n",
       "      <td>0</td>\n",
       "      <td>0</td>\n",
       "      <td>0</td>\n",
       "      <td>0</td>\n",
       "      <td>0</td>\n",
       "      <td>12</td>\n",
       "      <td>1</td>\n",
       "    </tr>\n",
       "    <tr>\n",
       "      <th>100</th>\n",
       "      <td>2</td>\n",
       "      <td>0</td>\n",
       "      <td>1</td>\n",
       "      <td>0</td>\n",
       "      <td>1</td>\n",
       "      <td>1</td>\n",
       "      <td>0</td>\n",
       "      <td>0</td>\n",
       "      <td>0</td>\n",
       "      <td>0</td>\n",
       "      <td>...</td>\n",
       "      <td>0</td>\n",
       "      <td>0</td>\n",
       "      <td>0</td>\n",
       "      <td>0</td>\n",
       "      <td>1</td>\n",
       "      <td>0</td>\n",
       "      <td>0</td>\n",
       "      <td>0</td>\n",
       "      <td>1</td>\n",
       "      <td>14</td>\n",
       "    </tr>\n",
       "  </tbody>\n",
       "</table>\n",
       "<p>353 rows × 353 columns</p>\n",
       "</div>"
      ],
      "text/plain": [
       "     247  338  238  350  264  139  9    20   288  373  ...  300  27   167  \\\n",
       "247   45    1    0    0    2    0    2    0    0    0  ...    1    0    1   \n",
       "338    1   33    0    1    2    2    3    0    1    0  ...    2    0    0   \n",
       "238    0    0   21    0    0    1    0    1    0    0  ...    1    0    0   \n",
       "350    0    1    0   28    0    1    0    0    1    0  ...    0    0    0   \n",
       "264    2    2    0    0   29    0    0    0    1    0  ...    0    0    1   \n",
       "..   ...  ...  ...  ...  ...  ...  ...  ...  ...  ...  ...  ...  ...  ...   \n",
       "28     1    0    0    0    0    0    0    0    0    0  ...    0    0    0   \n",
       "23     0    0    0    0    1    0    1    0    0    0  ...    0    0    0   \n",
       "121    1    0    0    1    1    1    0    1    1    0  ...    0    0    0   \n",
       "128    1    0    0    0    0    1    1    1    0    1  ...    0    0    1   \n",
       "100    2    0    1    0    1    1    0    0    0    0  ...    0    0    0   \n",
       "\n",
       "     290  76   28   23   121  128  100  \n",
       "247    0    0    1    0    1    1    2  \n",
       "338    1    0    0    0    0    0    0  \n",
       "238    0    0    0    0    0    0    1  \n",
       "350    0    0    0    0    1    0    0  \n",
       "264    0    1    0    1    1    0    1  \n",
       "..   ...  ...  ...  ...  ...  ...  ...  \n",
       "28     0    0   14    1    0    0    0  \n",
       "23     0    0    1   19    0    0    0  \n",
       "121    0    0    0    0   22    0    0  \n",
       "128    0    0    0    0    0   12    1  \n",
       "100    0    1    0    0    0    1   14  \n",
       "\n",
       "[353 rows x 353 columns]"
      ]
     },
     "metadata": {},
     "output_type": "display_data"
    }
   ],
   "source": [
    "selectedItems = overlappingUsersRatings.loc[toDrop, toDrop]\n",
    "display(selectedItems)"
   ]
  },
  {
   "cell_type": "markdown",
   "metadata": {},
   "source": [
    "Compute item-item similarity"
   ]
  },
  {
   "cell_type": "code",
   "execution_count": 34,
   "metadata": {},
   "outputs": [],
   "source": [
    "selectedIndex = selectedItems.index\n",
    "uiMatrixSelection = uiMatrix[selectedIndex]\n",
    "uiMatrixSelection = uiMatrixSelection.sub(uiMatrixSelection.mean(axis=1), axis=0)\n",
    "iiSimMatrix = pd.DataFrame().reindex_like(selectedItems)\n",
    "for item1 in selectedIndex:\n",
    "    item1Ratings = uiMatrixSelection[item1]\n",
    "    for item2 in selectedIndex:\n",
    "        item2Ratings = uiMatrixSelection[item2]\n",
    "        if overlappingUsersRatings.at[item1, item2] > 1:\n",
    "          iiSimMatrix.at[item1, item2] = cosine_sim(item1Ratings, item2Ratings)\n"
   ]
  },
  {
   "cell_type": "code",
   "execution_count": 35,
   "metadata": {},
   "outputs": [
    {
     "data": {
      "text/html": [
       "<div>\n",
       "<style scoped>\n",
       "    .dataframe tbody tr th:only-of-type {\n",
       "        vertical-align: middle;\n",
       "    }\n",
       "\n",
       "    .dataframe tbody tr th {\n",
       "        vertical-align: top;\n",
       "    }\n",
       "\n",
       "    .dataframe thead th {\n",
       "        text-align: right;\n",
       "    }\n",
       "</style>\n",
       "<table border=\"1\" class=\"dataframe\">\n",
       "  <thead>\n",
       "    <tr style=\"text-align: right;\">\n",
       "      <th></th>\n",
       "      <th>247</th>\n",
       "      <th>338</th>\n",
       "      <th>238</th>\n",
       "      <th>350</th>\n",
       "      <th>264</th>\n",
       "      <th>139</th>\n",
       "      <th>9</th>\n",
       "      <th>20</th>\n",
       "      <th>288</th>\n",
       "      <th>373</th>\n",
       "      <th>...</th>\n",
       "      <th>300</th>\n",
       "      <th>27</th>\n",
       "      <th>167</th>\n",
       "      <th>290</th>\n",
       "      <th>76</th>\n",
       "      <th>28</th>\n",
       "      <th>23</th>\n",
       "      <th>121</th>\n",
       "      <th>128</th>\n",
       "      <th>100</th>\n",
       "    </tr>\n",
       "  </thead>\n",
       "  <tbody>\n",
       "    <tr>\n",
       "      <th>247</th>\n",
       "      <td>1.000000</td>\n",
       "      <td>NaN</td>\n",
       "      <td>NaN</td>\n",
       "      <td>NaN</td>\n",
       "      <td>0.904515</td>\n",
       "      <td>NaN</td>\n",
       "      <td>0.557043</td>\n",
       "      <td>NaN</td>\n",
       "      <td>NaN</td>\n",
       "      <td>NaN</td>\n",
       "      <td>...</td>\n",
       "      <td>NaN</td>\n",
       "      <td>NaN</td>\n",
       "      <td>NaN</td>\n",
       "      <td>NaN</td>\n",
       "      <td>NaN</td>\n",
       "      <td>NaN</td>\n",
       "      <td>NaN</td>\n",
       "      <td>NaN</td>\n",
       "      <td>NaN</td>\n",
       "      <td>-0.871078</td>\n",
       "    </tr>\n",
       "    <tr>\n",
       "      <th>338</th>\n",
       "      <td>NaN</td>\n",
       "      <td>1.000000</td>\n",
       "      <td>NaN</td>\n",
       "      <td>NaN</td>\n",
       "      <td>0.346367</td>\n",
       "      <td>-0.860503</td>\n",
       "      <td>-0.587661</td>\n",
       "      <td>NaN</td>\n",
       "      <td>NaN</td>\n",
       "      <td>NaN</td>\n",
       "      <td>...</td>\n",
       "      <td>-0.10207</td>\n",
       "      <td>NaN</td>\n",
       "      <td>NaN</td>\n",
       "      <td>NaN</td>\n",
       "      <td>NaN</td>\n",
       "      <td>NaN</td>\n",
       "      <td>NaN</td>\n",
       "      <td>NaN</td>\n",
       "      <td>NaN</td>\n",
       "      <td>NaN</td>\n",
       "    </tr>\n",
       "    <tr>\n",
       "      <th>238</th>\n",
       "      <td>NaN</td>\n",
       "      <td>NaN</td>\n",
       "      <td>1.0</td>\n",
       "      <td>NaN</td>\n",
       "      <td>NaN</td>\n",
       "      <td>NaN</td>\n",
       "      <td>NaN</td>\n",
       "      <td>NaN</td>\n",
       "      <td>NaN</td>\n",
       "      <td>NaN</td>\n",
       "      <td>...</td>\n",
       "      <td>NaN</td>\n",
       "      <td>NaN</td>\n",
       "      <td>NaN</td>\n",
       "      <td>NaN</td>\n",
       "      <td>NaN</td>\n",
       "      <td>NaN</td>\n",
       "      <td>NaN</td>\n",
       "      <td>NaN</td>\n",
       "      <td>NaN</td>\n",
       "      <td>NaN</td>\n",
       "    </tr>\n",
       "    <tr>\n",
       "      <th>350</th>\n",
       "      <td>NaN</td>\n",
       "      <td>NaN</td>\n",
       "      <td>NaN</td>\n",
       "      <td>1.0</td>\n",
       "      <td>NaN</td>\n",
       "      <td>NaN</td>\n",
       "      <td>NaN</td>\n",
       "      <td>NaN</td>\n",
       "      <td>NaN</td>\n",
       "      <td>NaN</td>\n",
       "      <td>...</td>\n",
       "      <td>NaN</td>\n",
       "      <td>NaN</td>\n",
       "      <td>NaN</td>\n",
       "      <td>NaN</td>\n",
       "      <td>NaN</td>\n",
       "      <td>NaN</td>\n",
       "      <td>NaN</td>\n",
       "      <td>NaN</td>\n",
       "      <td>NaN</td>\n",
       "      <td>NaN</td>\n",
       "    </tr>\n",
       "    <tr>\n",
       "      <th>264</th>\n",
       "      <td>0.904515</td>\n",
       "      <td>0.346367</td>\n",
       "      <td>NaN</td>\n",
       "      <td>NaN</td>\n",
       "      <td>1.000000</td>\n",
       "      <td>NaN</td>\n",
       "      <td>NaN</td>\n",
       "      <td>NaN</td>\n",
       "      <td>NaN</td>\n",
       "      <td>NaN</td>\n",
       "      <td>...</td>\n",
       "      <td>NaN</td>\n",
       "      <td>NaN</td>\n",
       "      <td>NaN</td>\n",
       "      <td>NaN</td>\n",
       "      <td>NaN</td>\n",
       "      <td>NaN</td>\n",
       "      <td>NaN</td>\n",
       "      <td>NaN</td>\n",
       "      <td>NaN</td>\n",
       "      <td>NaN</td>\n",
       "    </tr>\n",
       "    <tr>\n",
       "      <th>...</th>\n",
       "      <td>...</td>\n",
       "      <td>...</td>\n",
       "      <td>...</td>\n",
       "      <td>...</td>\n",
       "      <td>...</td>\n",
       "      <td>...</td>\n",
       "      <td>...</td>\n",
       "      <td>...</td>\n",
       "      <td>...</td>\n",
       "      <td>...</td>\n",
       "      <td>...</td>\n",
       "      <td>...</td>\n",
       "      <td>...</td>\n",
       "      <td>...</td>\n",
       "      <td>...</td>\n",
       "      <td>...</td>\n",
       "      <td>...</td>\n",
       "      <td>...</td>\n",
       "      <td>...</td>\n",
       "      <td>...</td>\n",
       "      <td>...</td>\n",
       "    </tr>\n",
       "    <tr>\n",
       "      <th>28</th>\n",
       "      <td>NaN</td>\n",
       "      <td>NaN</td>\n",
       "      <td>NaN</td>\n",
       "      <td>NaN</td>\n",
       "      <td>NaN</td>\n",
       "      <td>NaN</td>\n",
       "      <td>NaN</td>\n",
       "      <td>NaN</td>\n",
       "      <td>NaN</td>\n",
       "      <td>NaN</td>\n",
       "      <td>...</td>\n",
       "      <td>NaN</td>\n",
       "      <td>NaN</td>\n",
       "      <td>NaN</td>\n",
       "      <td>NaN</td>\n",
       "      <td>NaN</td>\n",
       "      <td>1.0</td>\n",
       "      <td>NaN</td>\n",
       "      <td>NaN</td>\n",
       "      <td>NaN</td>\n",
       "      <td>NaN</td>\n",
       "    </tr>\n",
       "    <tr>\n",
       "      <th>23</th>\n",
       "      <td>NaN</td>\n",
       "      <td>NaN</td>\n",
       "      <td>NaN</td>\n",
       "      <td>NaN</td>\n",
       "      <td>NaN</td>\n",
       "      <td>NaN</td>\n",
       "      <td>NaN</td>\n",
       "      <td>NaN</td>\n",
       "      <td>NaN</td>\n",
       "      <td>NaN</td>\n",
       "      <td>...</td>\n",
       "      <td>NaN</td>\n",
       "      <td>NaN</td>\n",
       "      <td>NaN</td>\n",
       "      <td>NaN</td>\n",
       "      <td>NaN</td>\n",
       "      <td>NaN</td>\n",
       "      <td>1.0</td>\n",
       "      <td>NaN</td>\n",
       "      <td>NaN</td>\n",
       "      <td>NaN</td>\n",
       "    </tr>\n",
       "    <tr>\n",
       "      <th>121</th>\n",
       "      <td>NaN</td>\n",
       "      <td>NaN</td>\n",
       "      <td>NaN</td>\n",
       "      <td>NaN</td>\n",
       "      <td>NaN</td>\n",
       "      <td>NaN</td>\n",
       "      <td>NaN</td>\n",
       "      <td>NaN</td>\n",
       "      <td>NaN</td>\n",
       "      <td>NaN</td>\n",
       "      <td>...</td>\n",
       "      <td>NaN</td>\n",
       "      <td>NaN</td>\n",
       "      <td>NaN</td>\n",
       "      <td>NaN</td>\n",
       "      <td>NaN</td>\n",
       "      <td>NaN</td>\n",
       "      <td>NaN</td>\n",
       "      <td>1.0</td>\n",
       "      <td>NaN</td>\n",
       "      <td>NaN</td>\n",
       "    </tr>\n",
       "    <tr>\n",
       "      <th>128</th>\n",
       "      <td>NaN</td>\n",
       "      <td>NaN</td>\n",
       "      <td>NaN</td>\n",
       "      <td>NaN</td>\n",
       "      <td>NaN</td>\n",
       "      <td>NaN</td>\n",
       "      <td>NaN</td>\n",
       "      <td>NaN</td>\n",
       "      <td>NaN</td>\n",
       "      <td>NaN</td>\n",
       "      <td>...</td>\n",
       "      <td>NaN</td>\n",
       "      <td>NaN</td>\n",
       "      <td>NaN</td>\n",
       "      <td>NaN</td>\n",
       "      <td>NaN</td>\n",
       "      <td>NaN</td>\n",
       "      <td>NaN</td>\n",
       "      <td>NaN</td>\n",
       "      <td>1.0</td>\n",
       "      <td>NaN</td>\n",
       "    </tr>\n",
       "    <tr>\n",
       "      <th>100</th>\n",
       "      <td>-0.871078</td>\n",
       "      <td>NaN</td>\n",
       "      <td>NaN</td>\n",
       "      <td>NaN</td>\n",
       "      <td>NaN</td>\n",
       "      <td>NaN</td>\n",
       "      <td>NaN</td>\n",
       "      <td>NaN</td>\n",
       "      <td>NaN</td>\n",
       "      <td>NaN</td>\n",
       "      <td>...</td>\n",
       "      <td>NaN</td>\n",
       "      <td>NaN</td>\n",
       "      <td>NaN</td>\n",
       "      <td>NaN</td>\n",
       "      <td>NaN</td>\n",
       "      <td>NaN</td>\n",
       "      <td>NaN</td>\n",
       "      <td>NaN</td>\n",
       "      <td>NaN</td>\n",
       "      <td>1.000000</td>\n",
       "    </tr>\n",
       "  </tbody>\n",
       "</table>\n",
       "<p>353 rows × 353 columns</p>\n",
       "</div>"
      ],
      "text/plain": [
       "          247       338  238  350       264       139       9    20   288  \\\n",
       "247  1.000000       NaN  NaN  NaN  0.904515       NaN  0.557043  NaN  NaN   \n",
       "338       NaN  1.000000  NaN  NaN  0.346367 -0.860503 -0.587661  NaN  NaN   \n",
       "238       NaN       NaN  1.0  NaN       NaN       NaN       NaN  NaN  NaN   \n",
       "350       NaN       NaN  NaN  1.0       NaN       NaN       NaN  NaN  NaN   \n",
       "264  0.904515  0.346367  NaN  NaN  1.000000       NaN       NaN  NaN  NaN   \n",
       "..        ...       ...  ...  ...       ...       ...       ...  ...  ...   \n",
       "28        NaN       NaN  NaN  NaN       NaN       NaN       NaN  NaN  NaN   \n",
       "23        NaN       NaN  NaN  NaN       NaN       NaN       NaN  NaN  NaN   \n",
       "121       NaN       NaN  NaN  NaN       NaN       NaN       NaN  NaN  NaN   \n",
       "128       NaN       NaN  NaN  NaN       NaN       NaN       NaN  NaN  NaN   \n",
       "100 -0.871078       NaN  NaN  NaN       NaN       NaN       NaN  NaN  NaN   \n",
       "\n",
       "     373  ...      300  27   167  290  76   28   23   121  128       100  \n",
       "247  NaN  ...      NaN  NaN  NaN  NaN  NaN  NaN  NaN  NaN  NaN -0.871078  \n",
       "338  NaN  ... -0.10207  NaN  NaN  NaN  NaN  NaN  NaN  NaN  NaN       NaN  \n",
       "238  NaN  ...      NaN  NaN  NaN  NaN  NaN  NaN  NaN  NaN  NaN       NaN  \n",
       "350  NaN  ...      NaN  NaN  NaN  NaN  NaN  NaN  NaN  NaN  NaN       NaN  \n",
       "264  NaN  ...      NaN  NaN  NaN  NaN  NaN  NaN  NaN  NaN  NaN       NaN  \n",
       "..   ...  ...      ...  ...  ...  ...  ...  ...  ...  ...  ...       ...  \n",
       "28   NaN  ...      NaN  NaN  NaN  NaN  NaN  1.0  NaN  NaN  NaN       NaN  \n",
       "23   NaN  ...      NaN  NaN  NaN  NaN  NaN  NaN  1.0  NaN  NaN       NaN  \n",
       "121  NaN  ...      NaN  NaN  NaN  NaN  NaN  NaN  NaN  1.0  NaN       NaN  \n",
       "128  NaN  ...      NaN  NaN  NaN  NaN  NaN  NaN  NaN  NaN  1.0       NaN  \n",
       "100  NaN  ...      NaN  NaN  NaN  NaN  NaN  NaN  NaN  NaN  NaN  1.000000  \n",
       "\n",
       "[353 rows x 353 columns]"
      ]
     },
     "metadata": {},
     "output_type": "display_data"
    }
   ],
   "source": [
    "display(iiSimMatrix)"
   ]
  },
  {
   "cell_type": "markdown",
   "metadata": {},
   "source": [
    "## Item score predict function \n",
    "based on precomputed similarity matrix"
   ]
  },
  {
   "cell_type": "code",
   "execution_count": 36,
   "metadata": {},
   "outputs": [],
   "source": [
    "def item_predict(df, currentUser, currentItem, simMatrix, k):\n",
    "    # df: the UI matrix dataframe ; currentUser currentItem: the current user and item for whom the prediction is to be made\n",
    "    # simMatrix: the precomputed simMatrix ; k: for top-k\n",
    "    \n",
    "    uiMatrixNorm = df.astype(float)\n",
    "    uiMatrixSelection = uiMatrixNorm.dropna(subset = [currentItem])\n",
    "    cuAvgRating = uiMatrixNorm.loc[[currentUser]].dropna(axis=1).mean(axis=1)\n",
    "\n",
    "    # Subtract the average rating of each user from that user's rating to eliminate the effect of different rating scales for different users\n",
    "    uiMatrixSelection = uiMatrixSelection.sub(uiMatrixSelection.mean(axis=1), axis=0)\n",
    "    uiMatrixSelection.drop(columns=[currentItem], inplace=True)\n",
    "    iiSimilarity = simMatrix.loc[currentItem].dropna().sort_values(ascending=False).drop(index=currentItem)\n",
    "\n",
    "    # Select the top k items with the highest similarity\n",
    "    itemsToCompare = uiMatrixSelection[iiSimilarity.head(k).index]\n",
    "    predictedRatings = itemsToCompare.mean(axis=0)\n",
    "    predictedRatings.sort_values(ascending=False, inplace=True)\n",
    "\n",
    "    # Add the average user rating back to the predicted rating\n",
    "    predictedRatings += cuAvgRating.iloc[0]\n",
    "\n",
    "    # The average of all predicted ratings is used as the final predicted rating of the current user for the current item\n",
    "    return predictedRatings.mean()\n"
   ]
  },
  {
   "cell_type": "markdown",
   "metadata": {},
   "source": [
    "## Item-based Recommand Function\n"
   ]
  },
  {
   "cell_type": "code",
   "execution_count": 37,
   "metadata": {},
   "outputs": [],
   "source": [
    "def itemCF_recommend(df, currentUser, simMatrix, numItems, k):\n",
    "    # df: the UI matrix dataframe ; currentUser: the current user for whom the recommand is to be made\n",
    "    # simMatrix: the precomputed simMatrix ; numItems: the number of items to be recommanded ; k: for top-k\n",
    "\n",
    "    # Get items not rated by the current user\n",
    "    cuRatedItems = df.loc[currentUser].dropna().sort_values(ascending=False)\n",
    "    unRated = df.loc[currentUser]\n",
    "    unRated.drop(labels=cuRatedItems.index, inplace=True)\n",
    "\n",
    "    toRec = []\n",
    "    # Iterate through the unrated items and call the `item_predict` function for each item to predict the rating\n",
    "    for item in unRated.index:\n",
    "        if item in simMatrix.index:\n",
    "            preRate = item_predict(df, currentUser, item, simMatrix,k)\n",
    "            if not np.isnan(preRate):\n",
    "                toRec.append((preRate, item))\n",
    "\n",
    "    sortedRec = sorted(toRec, key=lambda x: x[0], reverse=True)\n",
    "    return sortedRec[0:numItems]\n"
   ]
  },
  {
   "cell_type": "markdown",
   "metadata": {},
   "source": [
    "## Tests and parameter change tests"
   ]
  },
  {
   "cell_type": "markdown",
   "metadata": {},
   "source": [
    "Recommand for user 429, with numItems is 10 and k is 5 :"
   ]
  },
  {
   "cell_type": "code",
   "execution_count": 38,
   "metadata": {},
   "outputs": [
    {
     "name": "stdout",
     "output_type": "stream",
     "text": [
      "110\t2.884301850342542\n",
      "28\t2.7158740000178545\n",
      "2\t2.692071893096693\n",
      "162\t2.6540392068443746\n",
      "158\t2.6504712620645328\n",
      "147\t2.6336721755609753\n",
      "333\t2.6136527654705954\n",
      "35\t2.6005071697775097\n",
      "220\t2.596277661817805\n",
      "317\t2.5952412235326348\n"
     ]
    }
   ],
   "source": [
    "recSer = itemCF_recommend(uiMatrixNorm,429,iiSimMatrix,10,5)\n",
    "for item in recSer:\n",
    "    print(str(item[1])+'\\t'+str(item[0]))"
   ]
  },
  {
   "cell_type": "markdown",
   "metadata": {},
   "source": [
    "Recommand for user 429, with numItems is 10 and k is 10 :"
   ]
  },
  {
   "cell_type": "code",
   "execution_count": 39,
   "metadata": {},
   "outputs": [
    {
     "name": "stdout",
     "output_type": "stream",
     "text": [
      "2\t2.692071893096693\n",
      "333\t2.578829557642099\n",
      "63\t2.5328154924712574\n",
      "74\t2.420071825391795\n",
      "45\t2.3894465716108337\n",
      "377\t2.387426011113214\n",
      "365\t2.3758519217306757\n",
      "60\t2.3505283419395107\n",
      "309\t2.3392888090641417\n",
      "382\t2.3326332886866354\n"
     ]
    }
   ],
   "source": [
    "recSer = itemCF_recommend(uiMatrixNorm,429,iiSimMatrix,10,10)\n",
    "for item in recSer:\n",
    "    print(str(item[1])+'\\t'+str(item[0]))"
   ]
  },
  {
   "cell_type": "markdown",
   "metadata": {},
   "source": [
    "Recommand for user 347 with numItems is 10 and k is 5 :"
   ]
  },
  {
   "cell_type": "code",
   "execution_count": 40,
   "metadata": {},
   "outputs": [
    {
     "name": "stdout",
     "output_type": "stream",
     "text": [
      "110\t2.427241499998883\n",
      "32\t2.3906488537429733\n",
      "283\t2.30377379626116\n",
      "28\t2.2588136496741953\n",
      "2\t2.235011542753033\n",
      "162\t2.196978856500715\n",
      "158\t2.193410911720873\n",
      "147\t2.176611825217315\n",
      "333\t2.1565924151269353\n",
      "35\t2.14344681943385\n"
     ]
    }
   ],
   "source": [
    "recSer = itemCF_recommend(uiMatrixNorm,347,iiSimMatrix,10,5)\n",
    "for item in recSer:\n",
    "    print(str(item[1])+'\\t'+str(item[0]))"
   ]
  },
  {
   "cell_type": "markdown",
   "metadata": {},
   "source": [
    "Recommand for user 347 with numItems is 10 and k is 10 :"
   ]
  },
  {
   "cell_type": "code",
   "execution_count": 41,
   "metadata": {},
   "outputs": [
    {
     "name": "stdout",
     "output_type": "stream",
     "text": [
      "2\t2.235011542753033\n",
      "333\t2.1217692072984393\n",
      "63\t2.075755142127597\n",
      "74\t1.9630114750481353\n",
      "377\t1.9303656607695545\n",
      "32\t1.9196399588257793\n",
      "365\t1.9187915713870156\n",
      "60\t1.8934679915958508\n",
      "309\t1.882228458720482\n",
      "382\t1.8755729383429756\n"
     ]
    }
   ],
   "source": [
    "recSer = itemCF_recommend(uiMatrixNorm,347,iiSimMatrix,10,10)\n",
    "for item in recSer:\n",
    "    print(str(item[1])+'\\t'+str(item[0]))"
   ]
  },
  {
   "cell_type": "markdown",
   "metadata": {},
   "source": [
    "# 给@康英参考的User Coverage函数\n",
    "基本照着你微信里面的代码搭建的，其他边边角角变量名啥的你自己圆一下，调不明白再找我"
   ]
  },
  {
   "cell_type": "code",
   "execution_count": 123,
   "metadata": {},
   "outputs": [],
   "source": [
    "def get_recommended_users(df,numUsers,numItems,similarity='pearson', displayed=False):\n",
    "\n",
    "    users = df.index.unique()\n",
    "\n",
    "    recommended_users = []\n",
    "\n",
    "    for user_id in users:\n",
    "        recommendations = userCF_prediction(df,user_id,numUsers,numItems,similarity,displayed)\n",
    "        filtered_series = process_recommendations(recommendations,displayed)\n",
    "        if len(filtered_series) >= numItems:\n",
    "            recommended_users.append(user_id)\n",
    "\n",
    "    user_coverage = len(recommended_users) / len(users)\n",
    "    print(\"recommended_users:\")\n",
    "    display(recommended_users)\n",
    "    print(\"user_coverage:\")\n",
    "    display(user_coverage)\n",
    "    return recommended_users, user_coverage"
   ]
  },
  {
   "cell_type": "markdown",
   "metadata": {},
   "source": [
    "按照我下面这个方法传入你要测试的参数就能直接出结果，参数传啥你自己看\n",
    "\n",
    "Usecoverage = 0 的话有可能是人太少但是物品要求太多，即没有哪位用户能推到这么多电影\n",
    "\n",
    "我这个跑一次要2-3分钟，电脑差一点要更久，5分钟还不出来可能就卡死了，重新运行一下"
   ]
  },
  {
   "cell_type": "code",
   "execution_count": 124,
   "metadata": {},
   "outputs": [
    {
     "name": "stdout",
     "output_type": "stream",
     "text": [
      "recommended_users:\n"
     ]
    },
    {
     "data": {
      "text/plain": [
       "[440,\n",
       " 1186,\n",
       " 703,\n",
       " 225,\n",
       " 1334,\n",
       " 777,\n",
       " 651,\n",
       " 1467,\n",
       " 1077,\n",
       " 1215,\n",
       " 1225,\n",
       " 1401,\n",
       " 758,\n",
       " 988,\n",
       " 1493,\n",
       " 1149,\n",
       " 195,\n",
       " 1598,\n",
       " 833,\n",
       " 1555,\n",
       " 1528,\n",
       " 1155,\n",
       " 200,\n",
       " 352,\n",
       " 245,\n",
       " 1239,\n",
       " 767,\n",
       " 253,\n",
       " 691,\n",
       " 77,\n",
       " 434,\n",
       " 339,\n",
       " 75,\n",
       " 1449,\n",
       " 897,\n",
       " 566,\n",
       " 222,\n",
       " 974,\n",
       " 311,\n",
       " 1301,\n",
       " 494,\n",
       " 161,\n",
       " 724,\n",
       " 914,\n",
       " 992,\n",
       " 854,\n",
       " 1358,\n",
       " 529,\n",
       " 99,\n",
       " 532,\n",
       " 1473,\n",
       " 583,\n",
       " 233,\n",
       " 501,\n",
       " 595,\n",
       " 1368,\n",
       " 706,\n",
       " 565,\n",
       " 1020,\n",
       " 675,\n",
       " 180,\n",
       " 879,\n",
       " 1092,\n",
       " 538,\n",
       " 904,\n",
       " 1346,\n",
       " 468,\n",
       " 488,\n",
       " 1549,\n",
       " 587,\n",
       " 1198,\n",
       " 102,\n",
       " 272,\n",
       " 1081,\n",
       " 1185,\n",
       " 288,\n",
       " 302,\n",
       " 118,\n",
       " 798,\n",
       " 862,\n",
       " 260,\n",
       " 1369,\n",
       " 867,\n",
       " 620,\n",
       " 460,\n",
       " 528,\n",
       " 328,\n",
       " 888,\n",
       " 1264,\n",
       " 357,\n",
       " 401,\n",
       " 73,\n",
       " 422,\n",
       " 314,\n",
       " 1138,\n",
       " 950,\n",
       " 940,\n",
       " 1269,\n",
       " 1546,\n",
       " 577,\n",
       " 382,\n",
       " 836,\n",
       " 145,\n",
       " 209,\n",
       " 1104,\n",
       " 217,\n",
       " 907,\n",
       " 838,\n",
       " 353,\n",
       " 775,\n",
       " 387,\n",
       " 95,\n",
       " 1139,\n",
       " 1122,\n",
       " 156,\n",
       " 1267,\n",
       " 820,\n",
       " 1419,\n",
       " 1595,\n",
       " 208,\n",
       " 951,\n",
       " 1004,\n",
       " 628,\n",
       " 154,\n",
       " 1307,\n",
       " 234,\n",
       " 406,\n",
       " 263,\n",
       " 649,\n",
       " 105,\n",
       " 685,\n",
       " 948,\n",
       " 844,\n",
       " 544,\n",
       " 348,\n",
       " 86,\n",
       " 0,\n",
       " 482,\n",
       " 523,\n",
       " 1070,\n",
       " 384,\n",
       " 1075,\n",
       " 456,\n",
       " 822,\n",
       " 1295,\n",
       " 33,\n",
       " 45,\n",
       " 1509,\n",
       " 1360,\n",
       " 269,\n",
       " 416,\n",
       " 786,\n",
       " 1270,\n",
       " 9,\n",
       " 700,\n",
       " 1472,\n",
       " 210,\n",
       " 1262,\n",
       " 811,\n",
       " 878,\n",
       " 1010,\n",
       " 823,\n",
       " 965,\n",
       " 1477,\n",
       " 945,\n",
       " 285,\n",
       " 1129,\n",
       " 497,\n",
       " 1214,\n",
       " 467,\n",
       " 1533,\n",
       " 571,\n",
       " 947,\n",
       " 656,\n",
       " 82,\n",
       " 14,\n",
       " 303,\n",
       " 1174,\n",
       " 1025,\n",
       " 327,\n",
       " 1088,\n",
       " 962,\n",
       " 1445,\n",
       " 117,\n",
       " 668,\n",
       " 76,\n",
       " 1258,\n",
       " 1223,\n",
       " 1049,\n",
       " 1213,\n",
       " 196,\n",
       " 729,\n",
       " 1440,\n",
       " 802,\n",
       " 396,\n",
       " 17,\n",
       " 1282,\n",
       " 68,\n",
       " 1425,\n",
       " 747,\n",
       " 1323,\n",
       " 162,\n",
       " 1224,\n",
       " 186,\n",
       " 1170,\n",
       " 1087,\n",
       " 1027,\n",
       " 927,\n",
       " 1289,\n",
       " 849,\n",
       " 639,\n",
       " 1459,\n",
       " 1191,\n",
       " 692,\n",
       " 1038,\n",
       " 542,\n",
       " 1263,\n",
       " 735,\n",
       " 1571,\n",
       " 187,\n",
       " 283,\n",
       " 93,\n",
       " 1012,\n",
       " 1145,\n",
       " 1217,\n",
       " 1315,\n",
       " 1457,\n",
       " 1320,\n",
       " 1047,\n",
       " 806,\n",
       " 730,\n",
       " 354,\n",
       " 1529,\n",
       " 28,\n",
       " 1375,\n",
       " 137,\n",
       " 1037,\n",
       " 34,\n",
       " 1388,\n",
       " 1324,\n",
       " 1403,\n",
       " 471,\n",
       " 861,\n",
       " 126,\n",
       " 50,\n",
       " 5,\n",
       " 1452,\n",
       " 1407,\n",
       " 111,\n",
       " 602,\n",
       " 1508,\n",
       " 1001,\n",
       " 446,\n",
       " 1594,\n",
       " 87,\n",
       " 243,\n",
       " 1550,\n",
       " 570,\n",
       " 91,\n",
       " 1130,\n",
       " 1140,\n",
       " 936,\n",
       " 1041,\n",
       " 1250,\n",
       " 1384,\n",
       " 1124,\n",
       " 766,\n",
       " 16,\n",
       " 486,\n",
       " 112,\n",
       " 1515,\n",
       " 275,\n",
       " 1297,\n",
       " 863,\n",
       " 547,\n",
       " 1400,\n",
       " 1338,\n",
       " 713,\n",
       " 629,\n",
       " 1575,\n",
       " 125,\n",
       " 1339,\n",
       " 350,\n",
       " 558,\n",
       " 680,\n",
       " 444,\n",
       " 1526,\n",
       " 109,\n",
       " 574,\n",
       " 21,\n",
       " 124,\n",
       " 395,\n",
       " 759,\n",
       " 1202,\n",
       " 490,\n",
       " 249,\n",
       " 1389,\n",
       " 42,\n",
       " 972,\n",
       " 797,\n",
       " 1498,\n",
       " 383,\n",
       " 563,\n",
       " 990,\n",
       " 170,\n",
       " 1172,\n",
       " 247,\n",
       " 128,\n",
       " 748,\n",
       " 1216,\n",
       " 1060,\n",
       " 477,\n",
       " 436,\n",
       " 305,\n",
       " 686,\n",
       " 1221,\n",
       " 59,\n",
       " 1433,\n",
       " 480,\n",
       " 375,\n",
       " 650,\n",
       " 407,\n",
       " 4,\n",
       " 89,\n",
       " 189,\n",
       " 1589,\n",
       " 604,\n",
       " 1195,\n",
       " 894,\n",
       " 1466,\n",
       " 1026,\n",
       " 603,\n",
       " 1327,\n",
       " 608,\n",
       " 360,\n",
       " 789,\n",
       " 258,\n",
       " 190,\n",
       " 961,\n",
       " 1040,\n",
       " 462,\n",
       " 694,\n",
       " 1398,\n",
       " 326,\n",
       " 299,\n",
       " 412,\n",
       " 1579,\n",
       " 212,\n",
       " 1390,\n",
       " 741,\n",
       " 819,\n",
       " 332,\n",
       " 1159,\n",
       " 1461,\n",
       " 943,\n",
       " 295,\n",
       " 1328,\n",
       " 1280,\n",
       " 586,\n",
       " 1428,\n",
       " 1438,\n",
       " 1165,\n",
       " 1476,\n",
       " 216,\n",
       " 315,\n",
       " 796,\n",
       " 805,\n",
       " 198,\n",
       " 1044,\n",
       " 1468,\n",
       " 1094,\n",
       " 1204,\n",
       " 1366,\n",
       " 1036,\n",
       " 1260,\n",
       " 359,\n",
       " 1147,\n",
       " 715,\n",
       " 1123,\n",
       " 1173,\n",
       " 941,\n",
       " 173,\n",
       " 1480,\n",
       " 1023,\n",
       " 864,\n",
       " 53,\n",
       " 1481,\n",
       " 1542,\n",
       " 1394,\n",
       " 1312,\n",
       " 368,\n",
       " 1572,\n",
       " 782,\n",
       " 316,\n",
       " 677,\n",
       " 1354,\n",
       " 1381,\n",
       " 392,\n",
       " 257,\n",
       " 97,\n",
       " 919,\n",
       " 317,\n",
       " 845,\n",
       " 955,\n",
       " 892,\n",
       " 289,\n",
       " 959,\n",
       " 452,\n",
       " 338,\n",
       " 935,\n",
       " 405,\n",
       " 1342,\n",
       " 1474,\n",
       " 535,\n",
       " 1006,\n",
       " 507,\n",
       " 1494,\n",
       " 689,\n",
       " 1119,\n",
       " 1318,\n",
       " 1576,\n",
       " 256,\n",
       " 944,\n",
       " 1058,\n",
       " 514,\n",
       " 751,\n",
       " 119,\n",
       " 1298,\n",
       " 1244,\n",
       " 1240,\n",
       " 1344,\n",
       " 553,\n",
       " 539,\n",
       " 1005,\n",
       " 1364,\n",
       " 781,\n",
       " 643,\n",
       " 1059,\n",
       " 1553,\n",
       " 377,\n",
       " 911,\n",
       " 725,\n",
       " 454,\n",
       " 1222,\n",
       " 261,\n",
       " 1109,\n",
       " 464,\n",
       " 847,\n",
       " 492,\n",
       " 94,\n",
       " 1164,\n",
       " 1396,\n",
       " 1028,\n",
       " 1067,\n",
       " 297,\n",
       " 389,\n",
       " 1019,\n",
       " 1011,\n",
       " 330,\n",
       " 1319,\n",
       " 1294,\n",
       " 431,\n",
       " 996,\n",
       " 666,\n",
       " 1405,\n",
       " 549,\n",
       " 254,\n",
       " 646,\n",
       " 473,\n",
       " 882,\n",
       " 282,\n",
       " 1079,\n",
       " 429,\n",
       " 1052,\n",
       " 632,\n",
       " 1409,\n",
       " 1559,\n",
       " 79,\n",
       " 463,\n",
       " 19,\n",
       " 1166,\n",
       " 165,\n",
       " 268,\n",
       " 301,\n",
       " 887,\n",
       " 459,\n",
       " 1114,\n",
       " 1046,\n",
       " 1156,\n",
       " 589,\n",
       " 391,\n",
       " 1022,\n",
       " 937,\n",
       " 1554,\n",
       " 525,\n",
       " 1530,\n",
       " 135,\n",
       " 790,\n",
       " 980,\n",
       " 1370,\n",
       " 1102,\n",
       " 1363,\n",
       " 921,\n",
       " 1135,\n",
       " 1274,\n",
       " 1252,\n",
       " 1487,\n",
       " 149,\n",
       " 279,\n",
       " 96,\n",
       " 1566,\n",
       " 465,\n",
       " 1392,\n",
       " 958,\n",
       " 408,\n",
       " 1035,\n",
       " 773,\n",
       " 556,\n",
       " 1446,\n",
       " 55,\n",
       " 931,\n",
       " 886,\n",
       " 1192,\n",
       " 265,\n",
       " 745,\n",
       " 1523,\n",
       " 1131,\n",
       " 674,\n",
       " 1311,\n",
       " 58,\n",
       " 1535,\n",
       " 1072,\n",
       " 371,\n",
       " 244,\n",
       " 1106,\n",
       " 1161,\n",
       " 552,\n",
       " 1404,\n",
       " 310,\n",
       " 1203,\n",
       " 319,\n",
       " 1018,\n",
       " 71,\n",
       " 218,\n",
       " 404,\n",
       " 1483,\n",
       " 870,\n",
       " 635,\n",
       " 223,\n",
       " 765,\n",
       " 98,\n",
       " 1340,\n",
       " 647,\n",
       " 292,\n",
       " 636,\n",
       " 1465,\n",
       " 1084,\n",
       " 1279,\n",
       " 727,\n",
       " 581,\n",
       " 952,\n",
       " 1588,\n",
       " 1372,\n",
       " 1570,\n",
       " 866,\n",
       " 182,\n",
       " 720,\n",
       " 1031,\n",
       " 381,\n",
       " 592,\n",
       " 1590,\n",
       " 964,\n",
       " 356,\n",
       " 379,\n",
       " 1448,\n",
       " 807,\n",
       " 615,\n",
       " 596,\n",
       " 1229,\n",
       " 306,\n",
       " 1101,\n",
       " 1561,\n",
       " 192,\n",
       " 1212,\n",
       " 1310,\n",
       " 1144,\n",
       " 1387,\n",
       " 1593,\n",
       " 660,\n",
       " 1329,\n",
       " 1582,\n",
       " 645,\n",
       " 1208,\n",
       " 1506,\n",
       " 221,\n",
       " 889,\n",
       " 982,\n",
       " 1153,\n",
       " 1351,\n",
       " 1053,\n",
       " 648,\n",
       " 85,\n",
       " 1299,\n",
       " 816,\n",
       " 832,\n",
       " 46,\n",
       " 1548,\n",
       " 519,\n",
       " 654,\n",
       " 1096,\n",
       " 414,\n",
       " 1490,\n",
       " 1558,\n",
       " 335,\n",
       " 163,\n",
       " 1577,\n",
       " 400,\n",
       " 1200,\n",
       " 803,\n",
       " 1078,\n",
       " 1574,\n",
       " 732,\n",
       " 437,\n",
       " 54,\n",
       " 52,\n",
       " 1162,\n",
       " 1127,\n",
       " 794,\n",
       " 520,\n",
       " 1183,\n",
       " 413,\n",
       " 1423,\n",
       " 1265,\n",
       " 278,\n",
       " 341,\n",
       " 439,\n",
       " 699,\n",
       " 1292,\n",
       " 1178,\n",
       " 516,\n",
       " 284,\n",
       " 1219,\n",
       " 1220,\n",
       " 1241,\n",
       " 1253,\n",
       " 1382,\n",
       " 1532,\n",
       " 791,\n",
       " 624,\n",
       " 366,\n",
       " 1086,\n",
       " 981,\n",
       " 899,\n",
       " 291,\n",
       " 7,\n",
       " 386,\n",
       " 1306,\n",
       " 975,\n",
       " 593,\n",
       " 1362,\n",
       " 224,\n",
       " 1456,\n",
       " 363,\n",
       " 682,\n",
       " 1317,\n",
       " 1249,\n",
       " 671,\n",
       " 1539,\n",
       " 373,\n",
       " 613,\n",
       " 609,\n",
       " 640,\n",
       " 934,\n",
       " 631,\n",
       " 361,\n",
       " 1470,\n",
       " 1547,\n",
       " 1475,\n",
       " 1235,\n",
       " 168,\n",
       " 710,\n",
       " 1331,\n",
       " 1231,\n",
       " 1042,\n",
       " 24,\n",
       " 568,\n",
       " 606,\n",
       " 1128,\n",
       " 138,\n",
       " 1171,\n",
       " 411,\n",
       " 104,\n",
       " 1359,\n",
       " 1514,\n",
       " 1415,\n",
       " 963,\n",
       " 1111,\n",
       " 152,\n",
       " 619,\n",
       " 521,\n",
       " 834,\n",
       " 960,\n",
       " 1316,\n",
       " 652,\n",
       " 989,\n",
       " 1043,\n",
       " 910,\n",
       " 953,\n",
       " 728,\n",
       " 1237,\n",
       " 29,\n",
       " 973,\n",
       " 1158,\n",
       " 1181,\n",
       " 1314,\n",
       " 262,\n",
       " 1303,\n",
       " 929,\n",
       " 874,\n",
       " 912,\n",
       " 840,\n",
       " 1471,\n",
       " 705,\n",
       " 920,\n",
       " 143,\n",
       " 707,\n",
       " 48,\n",
       " 18,\n",
       " 1587,\n",
       " 259,\n",
       " 1030,\n",
       " 337,\n",
       " 1205,\n",
       " 726,\n",
       " 207,\n",
       " 1326,\n",
       " 1054,\n",
       " 1064,\n",
       " 487,\n",
       " 1308,\n",
       " 1557,\n",
       " 526,\n",
       " 304,\n",
       " 915,\n",
       " 1531,\n",
       " 132,\n",
       " 92,\n",
       " 179,\n",
       " 300,\n",
       " 251,\n",
       " 718,\n",
       " 441,\n",
       " 695,\n",
       " 1345,\n",
       " 307,\n",
       " 506,\n",
       " 1503,\n",
       " 1112,\n",
       " 985,\n",
       " 146,\n",
       " 1187,\n",
       " 1580,\n",
       " 661,\n",
       " 255,\n",
       " 1460,\n",
       " 106,\n",
       " 843,\n",
       " 1015,\n",
       " 472,\n",
       " 998,\n",
       " 576,\n",
       " 925,\n",
       " 235,\n",
       " 1199,\n",
       " 627,\n",
       " 1,\n",
       " 1524,\n",
       " 323,\n",
       " 644,\n",
       " 331,\n",
       " 788,\n",
       " 204,\n",
       " 969,\n",
       " 1332,\n",
       " 56,\n",
       " 11,\n",
       " 15,\n",
       " 438,\n",
       " 1245,\n",
       " 688,\n",
       " 70,\n",
       " 580,\n",
       " 1453,\n",
       " 949,\n",
       " 1182,\n",
       " 64,\n",
       " 1512,\n",
       " 1444,\n",
       " 1083,\n",
       " 1599,\n",
       " 345,\n",
       " 826,\n",
       " 839,\n",
       " 1583,\n",
       " 1534,\n",
       " 1091,\n",
       " 1110,\n",
       " 1399,\n",
       " 1179,\n",
       " 534,\n",
       " 1507,\n",
       " 905,\n",
       " 1313,\n",
       " 240,\n",
       " 679,\n",
       " 1537,\n",
       " 761,\n",
       " 860,\n",
       " 394,\n",
       " 1163,\n",
       " 1271,\n",
       " 1421,\n",
       " 333,\n",
       " 1232,\n",
       " 800,\n",
       " 779,\n",
       " 1450,\n",
       " 994,\n",
       " 1410,\n",
       " 513,\n",
       " 1426,\n",
       " 347,\n",
       " 1061,\n",
       " 752,\n",
       " 270,\n",
       " 325,\n",
       " 1496,\n",
       " 164,\n",
       " 1451,\n",
       " 435,\n",
       " 397,\n",
       " 374,\n",
       " 1014,\n",
       " 545,\n",
       " 461,\n",
       " 744,\n",
       " 1365,\n",
       " 1395,\n",
       " 38,\n",
       " 116,\n",
       " 160,\n",
       " 101,\n",
       " 903,\n",
       " 1585,\n",
       " 321,\n",
       " 997,\n",
       " 166,\n",
       " 687,\n",
       " 714,\n",
       " 711,\n",
       " 1397,\n",
       " 113,\n",
       " 983,\n",
       " 453,\n",
       " 1167,\n",
       " 220,\n",
       " 49,\n",
       " 1287,\n",
       " 1380,\n",
       " 890,\n",
       " 419,\n",
       " 266,\n",
       " 1383,\n",
       " 1441,\n",
       " 1422,\n",
       " 1325,\n",
       " 1209,\n",
       " 155,\n",
       " 970,\n",
       " 1062,\n",
       " 417,\n",
       " 140,\n",
       " 415,\n",
       " 1464,\n",
       " 875,\n",
       " 1201,\n",
       " 1050,\n",
       " 322,\n",
       " 831,\n",
       " 25,\n",
       " 127,\n",
       " 785,\n",
       " 432,\n",
       " 760,\n",
       " 601,\n",
       " 409,\n",
       " 30,\n",
       " 1406,\n",
       " 67,\n",
       " 630,\n",
       " 957,\n",
       " 40,\n",
       " 827,\n",
       " 610,\n",
       " 1021,\n",
       " 754,\n",
       " 1211,\n",
       " 930,\n",
       " 598,\n",
       " 749,\n",
       " 900,\n",
       " 966,\n",
       " 228,\n",
       " 1300,\n",
       " 1305,\n",
       " 829,\n",
       " 6,\n",
       " 1105,\n",
       " 772,\n",
       " 550,\n",
       " 184,\n",
       " 108,\n",
       " 1151,\n",
       " 1266,\n",
       " 312,\n",
       " 1296,\n",
       " 8,\n",
       " 390,\n",
       " 721,\n",
       " 451,\n",
       " 324,\n",
       " 1107,\n",
       " 1154,\n",
       " 213,\n",
       " 1443,\n",
       " 114,\n",
       " 1097,\n",
       " 926,\n",
       " 447,\n",
       " 1259,\n",
       " 891,\n",
       " 277,\n",
       " 1596,\n",
       " 267,\n",
       " 1455,\n",
       " 503,\n",
       " 1034,\n",
       " 281,\n",
       " 448,\n",
       " 499,\n",
       " 859,\n",
       " 778,\n",
       " 1592,\n",
       " 1501,\n",
       " 614,\n",
       " 1431,\n",
       " 876,\n",
       " 1189,\n",
       " 1564,\n",
       " 388,\n",
       " 51,\n",
       " 1068,\n",
       " 562,\n",
       " 1552,\n",
       " 1562,\n",
       " 1504,\n",
       " 898,\n",
       " 852,\n",
       " 1002,\n",
       " 1190,\n",
       " 421,\n",
       " 1337,\n",
       " 1148,\n",
       " 1063,\n",
       " 1402,\n",
       " 1048,\n",
       " 757,\n",
       " 1386,\n",
       " 928,\n",
       " 1569,\n",
       " 147,\n",
       " 1137,\n",
       " 594,\n",
       " 1436,\n",
       " 320,\n",
       " 1045,\n",
       " 1578,\n",
       " 740,\n",
       " 1134,\n",
       " 1373,\n",
       " 1293,\n",
       " 90,\n",
       " 313,\n",
       " 1290,\n",
       " 913,\n",
       " 597,\n",
       " 1565,\n",
       " 939,\n",
       " 1500,\n",
       " 676,\n",
       " ...]"
      ]
     },
     "metadata": {},
     "output_type": "display_data"
    },
    {
     "name": "stdout",
     "output_type": "stream",
     "text": [
      "user_coverage:\n"
     ]
    },
    {
     "data": {
      "text/plain": [
       "0.9993714644877436"
      ]
     },
     "metadata": {},
     "output_type": "display_data"
    }
   ],
   "source": [
    "recommended_users, user_coverage=get_recommended_users(uiMatrixNorm,3,12,'spearman',False)#df,numUser,numItem,similarity function, display outcome or not"
   ]
  }
 ],
 "metadata": {
  "kernelspec": {
   "display_name": ".venv",
   "language": "python",
   "name": "python3"
  },
  "language_info": {
   "codemirror_mode": {
    "name": "ipython",
    "version": 3
   },
   "file_extension": ".py",
   "mimetype": "text/x-python",
   "name": "python",
   "nbconvert_exporter": "python",
   "pygments_lexer": "ipython3",
   "version": "3.11.7"
  }
 },
 "nbformat": 4,
 "nbformat_minor": 2
}
